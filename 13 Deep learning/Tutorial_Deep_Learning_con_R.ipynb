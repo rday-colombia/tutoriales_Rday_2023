{
  "cells": [
    {
      "cell_type": "markdown",
      "source": [
        "# **Tutorial: Deep Learning con R**\n",
        "\n",
        "*Autor:* Catherine Rincón\n",
        "\n",
        "*Fecha:* 24-11-2023\n",
        "\n",
        "## **Resumen**\n",
        "Este tutorial es una introducción a Deep Learning y tiene como objetivo brindar los conceptos básicos, su importancia en la inteligencia artificial y las ventajas de su implementación. En la sesión se explicará el funcionamiento básico de una red neuronal a través de un ejemplo sencillo de clasificación de imágenes, implementando los frameworks de TensorFlow y Keras en R. Para esto, se mostrará un paso a paso con cada una de las etapas que se requieren dentro del proceso de análisis de datos: cargar y preprocesar los datos, teniendo en cuenta la normalización y la división de los datos en dos conjuntos: Datos de entrenamiento y prueba.\n",
        "\n",
        "Creación de una red neuronal sencilla con sus respectivas capas y función de activación, utilizando Keras. Configuración del proceso de entrenamiento, incluyendo la elección de la función de pérdida y el optimizador. Además, se realizarán procesos de compilación del modelo creado, entrenamiento con sus respectivos datos y evaluación del modelo a partir de métricas que permitan validar la precisión del modelo predictivo."
      ],
      "metadata": {
        "id": "Xr9-2uF9ZFuO"
      }
    },
    {
      "cell_type": "markdown",
      "source": [
        "## **Parte 1:** Introducción a Deep Learning\n",
        "\n",
        "- Definición de AI, ML, DL\n",
        "- Importancia del DL y campos de aplicación\n",
        "- Redes neuronales y sus componentes\n",
        "- Tipos de redes neuronales"
      ],
      "metadata": {
        "id": "vDgL2_MOZLSX"
      }
    },
    {
      "cell_type": "markdown",
      "source": [
        "### **Definición de AI, ML & DL y sus diferencias**\n",
        "\n",
        "![](https://blog.dataiku.com/hs-fs/hubfs/AI-ML-DL-graphic.png?width=540&name=AI-ML-DL-graphic.png)\n",
        "\n",
        "**Inteligencia Artificial (AI):** Es una rama de la informática que busca automatizar tareas o imitar comportamientos normalmente realizadas por los humanos.\n",
        "\n",
        "**Machine Learning (ML):** Es una rama de la AI, que hace que un sistema descubra (aprenda-se calibre) automáticamente la estructura estadística de los datos y convierta estos patrones para acercarse al resultado esperado (Ghatak, 2019).\n",
        "\n",
        "Taxonomía de problemas de ML:\n",
        "- Aprendizaje supervisado\n",
        "- Aprendizaje no supervisado\n",
        "- Aprendizaje por refuerzo\n",
        "\n",
        "**Deep Learning (DL):** Es una rama del ML, una nueva visión del aprendizaje de representaciones a partir de datos que pone énfasis en el aprendizaje de capas sucesivas de representaciones cada vez más significativas (Entre más capas, más abstracta la información) (Chollet & Allaire, 2017).\n"
      ],
      "metadata": {
        "id": "4oWF_TIHatdc"
      }
    },
    {
      "cell_type": "markdown",
      "source": [
        "### **Importancia del DL y campos de aplicación**\n",
        "\n",
        "- Reconocimiento de caracteres, imágenes, voz\n",
        "\n",
        "- Clasificación de imágenes\n",
        "\n",
        "- Traducción de texto a voz, de idiomas\n",
        "\n",
        "- Procesamiento de lenguaje natural (NLP)\n",
        "\n",
        "- Generación de texto\n",
        "\n",
        "- Predicciones en diferentes campos\n",
        "\n",
        "- Análisis genético\n",
        "\n",
        "- Comprensión de ciertos fenómenos neurofisiológicos (Neurociencia)\n",
        "\n",
        "- Detección de enfermedades (Medicina)\n",
        "\n",
        "- Clasificación morfológica de las galaxias (Astrofísica)"
      ],
      "metadata": {
        "id": "Oba7cDwYZ7gs"
      }
    },
    {
      "cell_type": "markdown",
      "source": [
        "### **Redes Neuronales y sus componentes**\n",
        "\n",
        "Las redes neuronales tratan de simular el mecanismo de aprendizaje de organismos biológicos a través de la imitación de una neurona biológica (Aggarwal, 2018). La red neuronal simple es conocida como perceptrón y se caracteriza por tener una sola capa de entrada y un capa de salida.\n",
        "\n",
        "\n",
        "![](https://rramosp.github.io/2021.deeplearning/_images/U2.01%20-%20The%20Perceptron_8_0.png)"
      ],
      "metadata": {
        "id": "DILxgPKhZ7d8"
      }
    },
    {
      "cell_type": "markdown",
      "source": [
        "Componentes de una red neuronal:\n",
        "\n",
        "* Entradas\n",
        "\n",
        "* Bias\n",
        "\n",
        "* Conexiones y pesos asociados\n",
        "\n",
        "* **Nodo o neurona:** Unidad básica de procesamiento de una red neuronal. Estos nodos se organizan en capas:\n",
        "\n",
        "  + La primera capa se llama *capa de entrada*\n",
        "  + Las capas del medio se conocen como *capas ocultas*\n",
        "  + La última se llama *capa de salida*\n",
        "\n",
        "* **Función de activación:** La función de activación también es uno de los hiperparámetros de una red neuronal y se define como una función matemática que transforma los datos de entrada, activando una señal de salida cuando se ha alcanzado un umbral de entrada específico (Dinov, 2018; Ghatak, 2019). Existen diferentes funciones de activación que se pueden implementar en las redes neuronales, estas funciones de activación pueden ser lineales y no lineales (Ghatak, 2019; Pawlus & Devine, 2020). La función de activación lineal es una línea recta y su salida oscila entre [-∞,+∞], sin embargo, este tipo de funciones no ayudan con la complejidad de los datos y los parámetros de las redes neuronales (Aggarwal, 2018; Ghatak, 2019). Las funciones de activación no lineales ayudan a la simulación de la mayoría de problemas del mundo real, las cuales toman cualquier entrada de [-∞,+∞] y asignarla a una salida que oscila entre [0,1] y [-1,1] (Aggarwal, 2018; Ghatak, 2019).\n",
        "\n",
        "\n",
        "![](https://carballar.com/wp-content/uploads/2023/03/red-neuronal-funcion-activacion-600x257-1.jpg)\n",
        "\n",
        "* **Salida**\n"
      ],
      "metadata": {
        "id": "Xra3EKg7Z7bM"
      }
    },
    {
      "cell_type": "markdown",
      "source": [
        "### **Tipos de redes neuronales**\n",
        "\n",
        "Existen diferentes tipos de arquitecturas de redes neuronales que se pueden clasificar de acuerdo a su estructura, tipo de neurona, entre otros.\n",
        "\n",
        "El perceptron y la red neuronal de retroalimentación (Feed Forward Neural Network - FFNN) es el tipo de red más sencillo, el cual, tiene un nodo de entrada y un nodo de salida.\n",
        "\n",
        "![](https://www.asimovinstitute.org/wp-content/uploads/2019/04/NeuralNetworkZoo20042019.png)"
      ],
      "metadata": {
        "id": "96ocZ0RIaPP8"
      }
    },
    {
      "cell_type": "markdown",
      "source": [
        "## **Parte 2:** Ejemplo de Deep Learning en R\n",
        "\n",
        "- Keras en R\n",
        "- Base de datos a analizar\n",
        "- Ejemplo\n",
        "  - Instalar los paquetes necesarios\n",
        "  - Cargar los datos\n",
        "  - Dividir los datos en dos conjuntos\n",
        "  - Realizar el preprocesamiento de los datos\n",
        "  - Definir la estructura del modelo con la red neuronal\n",
        "  - Compilar el modelo\n",
        "  - Entrenar el modelo\n",
        "  - Evaluar el desempeño del modelo\n",
        "  - Generar predicciones"
      ],
      "metadata": {
        "id": "VeZH30RJaPLH"
      }
    },
    {
      "cell_type": "markdown",
      "source": [
        "### **Keras en R**\n",
        "\n",
        "Keras es una API (Application Programming Interface) de alto nivel para crear y entrenar modelos de aprendizaje profundo. Se utiliza para la creación rápida de prototipos, investigación avanzada y en producción. Las ventajas clave de Keras son:\n",
        "\n",
        "- *Fácil de usar (amigable con el usuario):* Keras tiene una interfaz simple y consistente, optimizada para casos de uso comunes. Proporciona información clara y procesable sobre los errores del usuario.\n",
        "\n",
        "- *Modular y configurable:* Los modelos en Keras se fabrican conectando bloques de construcción configurables entre sí, con pocas restricciones.\n",
        "\n",
        "- *Fácil de extender:* Escribir bloques de construcción personalizados para expresar nuevas ideas para la investigación. Cree nuevas capas, funciones de pérdida y desarrolle modelos de última generación."
      ],
      "metadata": {
        "id": "7cnU_sFdbIeG"
      }
    },
    {
      "cell_type": "markdown",
      "source": [
        "### **Base de datos a analizar**\n",
        "\n",
        "**MNIST** (Modified National Institute of Standards and Technology) es una base de datos de imágenes de números del 0 al 9 escritos a mano en escala de grises (0-255) con un tamaño de 28x28, es decir, 784 píxeles. Es un subconjunto de una base de datos especial 3 del NIST (dígitos escritos por empleados de la Oficina del Censo de Estados Unidos) y una base de datos especial 1 (dígitos escritos por estudiantes de secundaria).\n",
        "\n",
        "*Objetivo:* Predecir el número escrito a mano de la imagen.\n",
        "\n",
        "La base de datos cuenta con 70.000 imágenes que se dividen en dos conjuntos de datos:\n",
        "- Datos de entrenamiento\n",
        "- Datos de prueba\n",
        "\n",
        "Cada uno de los conjuntos de datos cuenta con dos componentes:\n",
        "- Imágenes\n",
        "- Etiquetas\n",
        "\n",
        "\n",
        "https://knowyourdata-tfds.withgoogle.com/#tab=STATS&dataset=mnist\n"
      ],
      "metadata": {
        "id": "ghoJdYh7aPIs"
      }
    },
    {
      "cell_type": "markdown",
      "source": [
        "### **Ejemplo**\n",
        "\n",
        "Para el desarrollo se tiene en cuenta los siguientes pasos:\n",
        "  - Instalar los paquetes\n",
        "  - Cargar los datos\n",
        "  - Dividir los datos en dos conjuntos de datos\n",
        "  - Realizar el preprocesamiento de los datos\n",
        "  - Definir la estructura del modelo con la red neuronal\n",
        "  - Compilar el modelo\n",
        "  - Entrenar el modelo\n",
        "  - Evaluar el desempeño del modelo\n",
        "  - Generar predicciones\n"
      ],
      "metadata": {
        "id": "Dgyk_C-pcHOD"
      }
    },
    {
      "cell_type": "markdown",
      "source": [
        "#### *Instalar los paquetes necesarios*\n",
        "Se instalan y disponibilizan los paquetes necesarios para el desarrollo del ejemplo."
      ],
      "metadata": {
        "id": "1k-GNveJZzXm"
      }
    },
    {
      "cell_type": "code",
      "source": [
        "install.packages(\"devtools\")\n",
        "devtools::install_github(\"rstudio/keras\")\n",
        "install.packages(\"dplyr\")"
      ],
      "metadata": {
        "colab": {
          "base_uri": "https://localhost:8080/"
        },
        "id": "cc0vTKWeZLAk",
        "outputId": "2646e7a4-7b6b-4751-a8fb-3033c3a93171"
      },
      "execution_count": null,
      "outputs": [
        {
          "output_type": "stream",
          "name": "stderr",
          "text": [
            "Installing package into ‘/usr/local/lib/R/site-library’\n",
            "(as ‘lib’ is unspecified)\n",
            "\n",
            "Skipping install of 'keras' from a github remote, the SHA1 (28e9b506) has not changed since last install.\n",
            "  Use `force = TRUE` to force installation\n",
            "\n",
            "Installing package into ‘/usr/local/lib/R/site-library’\n",
            "(as ‘lib’ is unspecified)\n",
            "\n"
          ]
        }
      ]
    },
    {
      "cell_type": "code",
      "source": [
        "library(keras)\n",
        "library(dplyr)"
      ],
      "metadata": {
        "id": "CB9tYF6edpOM"
      },
      "execution_count": null,
      "outputs": []
    },
    {
      "cell_type": "markdown",
      "source": [
        "#### *Cargar los datos*"
      ],
      "metadata": {
        "id": "E0YmZhqzcOJX"
      }
    },
    {
      "cell_type": "code",
      "source": [
        "# Cargar el conjunto de datos MNIST\n",
        "mnist <- dataset_mnist()\n",
        "\n",
        "# Validar los nombres del conjunto de datos\n",
        "names(mnist)"
      ],
      "metadata": {
        "colab": {
          "base_uri": "https://localhost:8080/",
          "height": 34
        },
        "id": "gzWe5AGxcXTg",
        "outputId": "fd3b7d86-c311-4b5e-9a5b-ce10b0ba5000"
      },
      "execution_count": null,
      "outputs": [
        {
          "output_type": "display_data",
          "data": {
            "text/html": [
              "<style>\n",
              ".list-inline {list-style: none; margin:0; padding: 0}\n",
              ".list-inline>li {display: inline-block}\n",
              ".list-inline>li:not(:last-child)::after {content: \"\\00b7\"; padding: 0 .5ex}\n",
              "</style>\n",
              "<ol class=list-inline><li>'train'</li><li>'test'</li></ol>\n"
            ],
            "text/markdown": "1. 'train'\n2. 'test'\n\n\n",
            "text/latex": "\\begin{enumerate*}\n\\item 'train'\n\\item 'test'\n\\end{enumerate*}\n",
            "text/plain": [
              "[1] \"train\" \"test\" "
            ]
          },
          "metadata": {}
        }
      ]
    },
    {
      "cell_type": "code",
      "source": [
        "cat(\"Train:\", names(mnist$train), \"- Test:\", names(mnist$test))"
      ],
      "metadata": {
        "colab": {
          "base_uri": "https://localhost:8080/"
        },
        "id": "03qWMQO5cXJP",
        "outputId": "b2e034f0-494e-4682-84fc-313191f7c9e2"
      },
      "execution_count": null,
      "outputs": [
        {
          "output_type": "stream",
          "name": "stdout",
          "text": [
            "Train: x y - Test: x y"
          ]
        }
      ]
    },
    {
      "cell_type": "markdown",
      "source": [
        "#### *Dividir los datos en dos conjuntos*"
      ],
      "metadata": {
        "id": "-h0R6XJocWxu"
      }
    },
    {
      "cell_type": "code",
      "source": [
        "# Datos de entrenamiento\n",
        "x_train <- mnist$train$x\n",
        "y_train <- mnist$train$y"
      ],
      "metadata": {
        "id": "qJhPj4EecbWT"
      },
      "execution_count": null,
      "outputs": []
    },
    {
      "cell_type": "code",
      "source": [
        "# Datos de prueba\n",
        "x_test <- mnist$test$x\n",
        "y_test <- mnist$test$y"
      ],
      "metadata": {
        "id": "yUlxXFUSccEM"
      },
      "execution_count": null,
      "outputs": []
    },
    {
      "cell_type": "code",
      "source": [
        "# Guardar el conjunto de prueba para luego validar la predicción\n",
        "y_true <- mnist$test$y"
      ],
      "metadata": {
        "id": "JZlC0lcb6vog"
      },
      "execution_count": null,
      "outputs": []
    },
    {
      "cell_type": "code",
      "source": [
        "# Dimensiones de los datos de entrenamieto y prueba\n",
        "cat(\"x train: \", dim(x_train), \"- y train\", dim(y_train))\n",
        "cat(\" x test: \", dim(x_test), \"- y test\", dim(y_test))"
      ],
      "metadata": {
        "colab": {
          "base_uri": "https://localhost:8080/"
        },
        "id": "vFSsrVuueA71",
        "outputId": "1d6ed8af-d346-4b23-b337-f9b8fe71825b"
      },
      "execution_count": null,
      "outputs": [
        {
          "output_type": "stream",
          "name": "stdout",
          "text": [
            "x train:  60000 28 28 - y train 60000 x test:  10000 28 28 - y test 10000"
          ]
        }
      ]
    },
    {
      "cell_type": "markdown",
      "source": [
        "  En el conjunto de datos de entrenamiento se tienen 60.000 imágenes de 28 x 28. Lo que indica una matriz de 28 filas por 28 columnas que contiene diferentes números, el cero representa que no se escribió nada y entre más cercano a 255, indica una marca más obscura en la imagen."
      ],
      "metadata": {
        "id": "E87CRaN9eF-b"
      }
    },
    {
      "cell_type": "code",
      "source": [
        "# Visualización de la imagen 1000 del conjunto de datos de entrenamiento\n",
        "im <- x_train[1000, , ]\n",
        "im <- t(apply(im, 2, rev))\n",
        "image(x=1:28, y=1:28, z=im, col=gray((0:255)/255),\n",
        "          xaxt='n', main=paste(y_train[1000]))"
      ],
      "metadata": {
        "colab": {
          "base_uri": "https://localhost:8080/",
          "height": 437
        },
        "id": "Ckh1dD50yDy0",
        "outputId": "4bfbc6d6-806f-4a27-831b-ee32d2def00f"
      },
      "execution_count": null,
      "outputs": [
        {
          "output_type": "display_data",
          "data": {
            "text/plain": [
              "Plot with title “6”"
            ],
            "image/png": "[encoded data removed]"
          },
          "metadata": {
            "image/png": {
              "width": 420,
              "height": 420
            }
          }
        }
      ]
    },
    {
      "cell_type": "code",
      "source": [
        "# Visualización de la imagen en forma de matriz del conjunto de datos de entrenamiento\n",
        "x_train[1000, , ]"
      ],
      "metadata": {
        "colab": {
          "base_uri": "https://localhost:8080/",
          "height": 912
        },
        "id": "jDr1j6jscb4V",
        "outputId": "f1c520ee-4e16-416c-ebc4-24930b21803a"
      },
      "execution_count": null,
      "outputs": [
        {
          "output_type": "display_data",
          "data": {
            "text/html": [
              "<table class=\"dataframe\">\n",
              "<caption>A matrix: 28 × 28 of type int</caption>\n",
              "<tbody>\n",
              "\t<tr><td>0</td><td>0</td><td>0</td><td>0</td><td>0</td><td>0</td><td>0</td><td>  0</td><td>  0</td><td>  0</td><td>⋯</td><td>  0</td><td>  0</td><td>  0</td><td>  0</td><td> 0</td><td>0</td><td>0</td><td>0</td><td>0</td><td>0</td></tr>\n",
              "\t<tr><td>0</td><td>0</td><td>0</td><td>0</td><td>0</td><td>0</td><td>0</td><td>  0</td><td>  0</td><td>  0</td><td>⋯</td><td>  0</td><td>  0</td><td>  0</td><td>  0</td><td> 0</td><td>0</td><td>0</td><td>0</td><td>0</td><td>0</td></tr>\n",
              "\t<tr><td>0</td><td>0</td><td>0</td><td>0</td><td>0</td><td>0</td><td>0</td><td>  0</td><td>  0</td><td>  0</td><td>⋯</td><td>  0</td><td>  6</td><td>161</td><td>213</td><td>16</td><td>0</td><td>0</td><td>0</td><td>0</td><td>0</td></tr>\n",
              "\t<tr><td>0</td><td>0</td><td>0</td><td>0</td><td>0</td><td>0</td><td>0</td><td>  0</td><td>  0</td><td>  0</td><td>⋯</td><td>  0</td><td>120</td><td>253</td><td>254</td><td>78</td><td>0</td><td>0</td><td>0</td><td>0</td><td>0</td></tr>\n",
              "\t<tr><td>0</td><td>0</td><td>0</td><td>0</td><td>0</td><td>0</td><td>0</td><td>  0</td><td>  0</td><td>  0</td><td>⋯</td><td> 63</td><td>255</td><td>254</td><td>187</td><td> 0</td><td>0</td><td>0</td><td>0</td><td>0</td><td>0</td></tr>\n",
              "\t<tr><td>0</td><td>0</td><td>0</td><td>0</td><td>0</td><td>0</td><td>0</td><td>  0</td><td>  0</td><td>  0</td><td>⋯</td><td>217</td><td>254</td><td>211</td><td> 21</td><td> 0</td><td>0</td><td>0</td><td>0</td><td>0</td><td>0</td></tr>\n",
              "\t<tr><td>0</td><td>0</td><td>0</td><td>0</td><td>0</td><td>0</td><td>0</td><td>  0</td><td>  0</td><td>  0</td><td>⋯</td><td>253</td><td>228</td><td> 62</td><td>  0</td><td> 0</td><td>0</td><td>0</td><td>0</td><td>0</td><td>0</td></tr>\n",
              "\t<tr><td>0</td><td>0</td><td>0</td><td>0</td><td>0</td><td>0</td><td>0</td><td>  0</td><td>  0</td><td>  0</td><td>⋯</td><td>253</td><td> 63</td><td>  0</td><td>  0</td><td> 0</td><td>0</td><td>0</td><td>0</td><td>0</td><td>0</td></tr>\n",
              "\t<tr><td>0</td><td>0</td><td>0</td><td>0</td><td>0</td><td>0</td><td>0</td><td>  0</td><td>  0</td><td>  0</td><td>⋯</td><td> 99</td><td>  0</td><td>  0</td><td>  0</td><td> 0</td><td>0</td><td>0</td><td>0</td><td>0</td><td>0</td></tr>\n",
              "\t<tr><td>0</td><td>0</td><td>0</td><td>0</td><td>0</td><td>0</td><td>0</td><td>  0</td><td>  0</td><td>  0</td><td>⋯</td><td>  5</td><td>  0</td><td>  0</td><td>  0</td><td> 0</td><td>0</td><td>0</td><td>0</td><td>0</td><td>0</td></tr>\n",
              "\t<tr><td>0</td><td>0</td><td>0</td><td>0</td><td>0</td><td>0</td><td>0</td><td>  0</td><td>  0</td><td>  0</td><td>⋯</td><td>  0</td><td>  0</td><td>  0</td><td>  0</td><td> 0</td><td>0</td><td>0</td><td>0</td><td>0</td><td>0</td></tr>\n",
              "\t<tr><td>0</td><td>0</td><td>0</td><td>0</td><td>0</td><td>0</td><td>0</td><td>  0</td><td>  0</td><td>  0</td><td>⋯</td><td>  0</td><td>  0</td><td>  0</td><td>  0</td><td> 0</td><td>0</td><td>0</td><td>0</td><td>0</td><td>0</td></tr>\n",
              "\t<tr><td>0</td><td>0</td><td>0</td><td>0</td><td>0</td><td>0</td><td>0</td><td>  0</td><td>  0</td><td>  0</td><td>⋯</td><td>109</td><td> 37</td><td>  6</td><td>  0</td><td> 0</td><td>0</td><td>0</td><td>0</td><td>0</td><td>0</td></tr>\n",
              "\t<tr><td>0</td><td>0</td><td>0</td><td>0</td><td>0</td><td>0</td><td>0</td><td>  0</td><td>  0</td><td>  0</td><td>⋯</td><td>253</td><td>243</td><td> 88</td><td>  0</td><td> 0</td><td>0</td><td>0</td><td>0</td><td>0</td><td>0</td></tr>\n",
              "\t<tr><td>0</td><td>0</td><td>0</td><td>0</td><td>0</td><td>0</td><td>0</td><td>  0</td><td>  0</td><td> 68</td><td>⋯</td><td>228</td><td>254</td><td>150</td><td>  0</td><td> 0</td><td>0</td><td>0</td><td>0</td><td>0</td><td>0</td></tr>\n",
              "\t<tr><td>0</td><td>0</td><td>0</td><td>0</td><td>0</td><td>0</td><td>0</td><td>  0</td><td> 21</td><td>222</td><td>⋯</td><td>197</td><td>254</td><td> 67</td><td>  0</td><td> 0</td><td>0</td><td>0</td><td>0</td><td>0</td><td>0</td></tr>\n",
              "\t<tr><td>0</td><td>0</td><td>0</td><td>0</td><td>0</td><td>0</td><td>0</td><td>  0</td><td>156</td><td>254</td><td>⋯</td><td>254</td><td>228</td><td> 11</td><td>  0</td><td> 0</td><td>0</td><td>0</td><td>0</td><td>0</td><td>0</td></tr>\n",
              "\t<tr><td>0</td><td>0</td><td>0</td><td>0</td><td>0</td><td>0</td><td>0</td><td> 42</td><td>238</td><td>253</td><td>⋯</td><td>232</td><td> 73</td><td>  0</td><td>  0</td><td> 0</td><td>0</td><td>0</td><td>0</td><td>0</td><td>0</td></tr>\n",
              "\t<tr><td>0</td><td>0</td><td>0</td><td>0</td><td>0</td><td>0</td><td>0</td><td> 79</td><td>254</td><td>228</td><td>⋯</td><td> 73</td><td>  0</td><td>  0</td><td>  0</td><td> 0</td><td>0</td><td>0</td><td>0</td><td>0</td><td>0</td></tr>\n",
              "\t<tr><td>0</td><td>0</td><td>0</td><td>0</td><td>0</td><td>0</td><td>0</td><td>139</td><td>253</td><td>186</td><td>⋯</td><td>  0</td><td>  0</td><td>  0</td><td>  0</td><td> 0</td><td>0</td><td>0</td><td>0</td><td>0</td><td>0</td></tr>\n",
              "\t<tr><td>0</td><td>0</td><td>0</td><td>0</td><td>0</td><td>0</td><td>0</td><td> 42</td><td>238</td><td>254</td><td>⋯</td><td>  0</td><td>  0</td><td>  0</td><td>  0</td><td> 0</td><td>0</td><td>0</td><td>0</td><td>0</td><td>0</td></tr>\n",
              "\t<tr><td>0</td><td>0</td><td>0</td><td>0</td><td>0</td><td>0</td><td>0</td><td>  0</td><td> 94</td><td>170</td><td>⋯</td><td>  0</td><td>  0</td><td>  0</td><td>  0</td><td> 0</td><td>0</td><td>0</td><td>0</td><td>0</td><td>0</td></tr>\n",
              "\t<tr><td>0</td><td>0</td><td>0</td><td>0</td><td>0</td><td>0</td><td>0</td><td>  0</td><td>  0</td><td>  0</td><td>⋯</td><td>  0</td><td>  0</td><td>  0</td><td>  0</td><td> 0</td><td>0</td><td>0</td><td>0</td><td>0</td><td>0</td></tr>\n",
              "\t<tr><td>0</td><td>0</td><td>0</td><td>0</td><td>0</td><td>0</td><td>0</td><td>  0</td><td>  0</td><td>  0</td><td>⋯</td><td>  0</td><td>  0</td><td>  0</td><td>  0</td><td> 0</td><td>0</td><td>0</td><td>0</td><td>0</td><td>0</td></tr>\n",
              "\t<tr><td>0</td><td>0</td><td>0</td><td>0</td><td>0</td><td>0</td><td>0</td><td>  0</td><td>  0</td><td>  0</td><td>⋯</td><td>  0</td><td>  0</td><td>  0</td><td>  0</td><td> 0</td><td>0</td><td>0</td><td>0</td><td>0</td><td>0</td></tr>\n",
              "\t<tr><td>0</td><td>0</td><td>0</td><td>0</td><td>0</td><td>0</td><td>0</td><td>  0</td><td>  0</td><td>  0</td><td>⋯</td><td>  0</td><td>  0</td><td>  0</td><td>  0</td><td> 0</td><td>0</td><td>0</td><td>0</td><td>0</td><td>0</td></tr>\n",
              "\t<tr><td>0</td><td>0</td><td>0</td><td>0</td><td>0</td><td>0</td><td>0</td><td>  0</td><td>  0</td><td>  0</td><td>⋯</td><td>  0</td><td>  0</td><td>  0</td><td>  0</td><td> 0</td><td>0</td><td>0</td><td>0</td><td>0</td><td>0</td></tr>\n",
              "\t<tr><td>0</td><td>0</td><td>0</td><td>0</td><td>0</td><td>0</td><td>0</td><td>  0</td><td>  0</td><td>  0</td><td>⋯</td><td>  0</td><td>  0</td><td>  0</td><td>  0</td><td> 0</td><td>0</td><td>0</td><td>0</td><td>0</td><td>0</td></tr>\n",
              "</tbody>\n",
              "</table>\n"
            ],
            "text/markdown": "\nA matrix: 28 × 28 of type int\n\n| 0 | 0 | 0 | 0 | 0 | 0 | 0 |   0 |   0 |   0 | ⋯ |   0 |   0 |   0 |   0 |  0 | 0 | 0 | 0 | 0 | 0 |\n| 0 | 0 | 0 | 0 | 0 | 0 | 0 |   0 |   0 |   0 | ⋯ |   0 |   0 |   0 |   0 |  0 | 0 | 0 | 0 | 0 | 0 |\n| 0 | 0 | 0 | 0 | 0 | 0 | 0 |   0 |   0 |   0 | ⋯ |   0 |   6 | 161 | 213 | 16 | 0 | 0 | 0 | 0 | 0 |\n| 0 | 0 | 0 | 0 | 0 | 0 | 0 |   0 |   0 |   0 | ⋯ |   0 | 120 | 253 | 254 | 78 | 0 | 0 | 0 | 0 | 0 |\n| 0 | 0 | 0 | 0 | 0 | 0 | 0 |   0 |   0 |   0 | ⋯ |  63 | 255 | 254 | 187 |  0 | 0 | 0 | 0 | 0 | 0 |\n| 0 | 0 | 0 | 0 | 0 | 0 | 0 |   0 |   0 |   0 | ⋯ | 217 | 254 | 211 |  21 |  0 | 0 | 0 | 0 | 0 | 0 |\n| 0 | 0 | 0 | 0 | 0 | 0 | 0 |   0 |   0 |   0 | ⋯ | 253 | 228 |  62 |   0 |  0 | 0 | 0 | 0 | 0 | 0 |\n| 0 | 0 | 0 | 0 | 0 | 0 | 0 |   0 |   0 |   0 | ⋯ | 253 |  63 |   0 |   0 |  0 | 0 | 0 | 0 | 0 | 0 |\n| 0 | 0 | 0 | 0 | 0 | 0 | 0 |   0 |   0 |   0 | ⋯ |  99 |   0 |   0 |   0 |  0 | 0 | 0 | 0 | 0 | 0 |\n| 0 | 0 | 0 | 0 | 0 | 0 | 0 |   0 |   0 |   0 | ⋯ |   5 |   0 |   0 |   0 |  0 | 0 | 0 | 0 | 0 | 0 |\n| 0 | 0 | 0 | 0 | 0 | 0 | 0 |   0 |   0 |   0 | ⋯ |   0 |   0 |   0 |   0 |  0 | 0 | 0 | 0 | 0 | 0 |\n| 0 | 0 | 0 | 0 | 0 | 0 | 0 |   0 |   0 |   0 | ⋯ |   0 |   0 |   0 |   0 |  0 | 0 | 0 | 0 | 0 | 0 |\n| 0 | 0 | 0 | 0 | 0 | 0 | 0 |   0 |   0 |   0 | ⋯ | 109 |  37 |   6 |   0 |  0 | 0 | 0 | 0 | 0 | 0 |\n| 0 | 0 | 0 | 0 | 0 | 0 | 0 |   0 |   0 |   0 | ⋯ | 253 | 243 |  88 |   0 |  0 | 0 | 0 | 0 | 0 | 0 |\n| 0 | 0 | 0 | 0 | 0 | 0 | 0 |   0 |   0 |  68 | ⋯ | 228 | 254 | 150 |   0 |  0 | 0 | 0 | 0 | 0 | 0 |\n| 0 | 0 | 0 | 0 | 0 | 0 | 0 |   0 |  21 | 222 | ⋯ | 197 | 254 |  67 |   0 |  0 | 0 | 0 | 0 | 0 | 0 |\n| 0 | 0 | 0 | 0 | 0 | 0 | 0 |   0 | 156 | 254 | ⋯ | 254 | 228 |  11 |   0 |  0 | 0 | 0 | 0 | 0 | 0 |\n| 0 | 0 | 0 | 0 | 0 | 0 | 0 |  42 | 238 | 253 | ⋯ | 232 |  73 |   0 |   0 |  0 | 0 | 0 | 0 | 0 | 0 |\n| 0 | 0 | 0 | 0 | 0 | 0 | 0 |  79 | 254 | 228 | ⋯ |  73 |   0 |   0 |   0 |  0 | 0 | 0 | 0 | 0 | 0 |\n| 0 | 0 | 0 | 0 | 0 | 0 | 0 | 139 | 253 | 186 | ⋯ |   0 |   0 |   0 |   0 |  0 | 0 | 0 | 0 | 0 | 0 |\n| 0 | 0 | 0 | 0 | 0 | 0 | 0 |  42 | 238 | 254 | ⋯ |   0 |   0 |   0 |   0 |  0 | 0 | 0 | 0 | 0 | 0 |\n| 0 | 0 | 0 | 0 | 0 | 0 | 0 |   0 |  94 | 170 | ⋯ |   0 |   0 |   0 |   0 |  0 | 0 | 0 | 0 | 0 | 0 |\n| 0 | 0 | 0 | 0 | 0 | 0 | 0 |   0 |   0 |   0 | ⋯ |   0 |   0 |   0 |   0 |  0 | 0 | 0 | 0 | 0 | 0 |\n| 0 | 0 | 0 | 0 | 0 | 0 | 0 |   0 |   0 |   0 | ⋯ |   0 |   0 |   0 |   0 |  0 | 0 | 0 | 0 | 0 | 0 |\n| 0 | 0 | 0 | 0 | 0 | 0 | 0 |   0 |   0 |   0 | ⋯ |   0 |   0 |   0 |   0 |  0 | 0 | 0 | 0 | 0 | 0 |\n| 0 | 0 | 0 | 0 | 0 | 0 | 0 |   0 |   0 |   0 | ⋯ |   0 |   0 |   0 |   0 |  0 | 0 | 0 | 0 | 0 | 0 |\n| 0 | 0 | 0 | 0 | 0 | 0 | 0 |   0 |   0 |   0 | ⋯ |   0 |   0 |   0 |   0 |  0 | 0 | 0 | 0 | 0 | 0 |\n| 0 | 0 | 0 | 0 | 0 | 0 | 0 |   0 |   0 |   0 | ⋯ |   0 |   0 |   0 |   0 |  0 | 0 | 0 | 0 | 0 | 0 |\n\n",
            "text/latex": "A matrix: 28 × 28 of type int\n\\begin{tabular}{lllllllllllllllllllll}\n\t 0 & 0 & 0 & 0 & 0 & 0 & 0 &   0 &   0 &   0 & ⋯ &   0 &   0 &   0 &   0 &  0 & 0 & 0 & 0 & 0 & 0\\\\\n\t 0 & 0 & 0 & 0 & 0 & 0 & 0 &   0 &   0 &   0 & ⋯ &   0 &   0 &   0 &   0 &  0 & 0 & 0 & 0 & 0 & 0\\\\\n\t 0 & 0 & 0 & 0 & 0 & 0 & 0 &   0 &   0 &   0 & ⋯ &   0 &   6 & 161 & 213 & 16 & 0 & 0 & 0 & 0 & 0\\\\\n\t 0 & 0 & 0 & 0 & 0 & 0 & 0 &   0 &   0 &   0 & ⋯ &   0 & 120 & 253 & 254 & 78 & 0 & 0 & 0 & 0 & 0\\\\\n\t 0 & 0 & 0 & 0 & 0 & 0 & 0 &   0 &   0 &   0 & ⋯ &  63 & 255 & 254 & 187 &  0 & 0 & 0 & 0 & 0 & 0\\\\\n\t 0 & 0 & 0 & 0 & 0 & 0 & 0 &   0 &   0 &   0 & ⋯ & 217 & 254 & 211 &  21 &  0 & 0 & 0 & 0 & 0 & 0\\\\\n\t 0 & 0 & 0 & 0 & 0 & 0 & 0 &   0 &   0 &   0 & ⋯ & 253 & 228 &  62 &   0 &  0 & 0 & 0 & 0 & 0 & 0\\\\\n\t 0 & 0 & 0 & 0 & 0 & 0 & 0 &   0 &   0 &   0 & ⋯ & 253 &  63 &   0 &   0 &  0 & 0 & 0 & 0 & 0 & 0\\\\\n\t 0 & 0 & 0 & 0 & 0 & 0 & 0 &   0 &   0 &   0 & ⋯ &  99 &   0 &   0 &   0 &  0 & 0 & 0 & 0 & 0 & 0\\\\\n\t 0 & 0 & 0 & 0 & 0 & 0 & 0 &   0 &   0 &   0 & ⋯ &   5 &   0 &   0 &   0 &  0 & 0 & 0 & 0 & 0 & 0\\\\\n\t 0 & 0 & 0 & 0 & 0 & 0 & 0 &   0 &   0 &   0 & ⋯ &   0 &   0 &   0 &   0 &  0 & 0 & 0 & 0 & 0 & 0\\\\\n\t 0 & 0 & 0 & 0 & 0 & 0 & 0 &   0 &   0 &   0 & ⋯ &   0 &   0 &   0 &   0 &  0 & 0 & 0 & 0 & 0 & 0\\\\\n\t 0 & 0 & 0 & 0 & 0 & 0 & 0 &   0 &   0 &   0 & ⋯ & 109 &  37 &   6 &   0 &  0 & 0 & 0 & 0 & 0 & 0\\\\\n\t 0 & 0 & 0 & 0 & 0 & 0 & 0 &   0 &   0 &   0 & ⋯ & 253 & 243 &  88 &   0 &  0 & 0 & 0 & 0 & 0 & 0\\\\\n\t 0 & 0 & 0 & 0 & 0 & 0 & 0 &   0 &   0 &  68 & ⋯ & 228 & 254 & 150 &   0 &  0 & 0 & 0 & 0 & 0 & 0\\\\\n\t 0 & 0 & 0 & 0 & 0 & 0 & 0 &   0 &  21 & 222 & ⋯ & 197 & 254 &  67 &   0 &  0 & 0 & 0 & 0 & 0 & 0\\\\\n\t 0 & 0 & 0 & 0 & 0 & 0 & 0 &   0 & 156 & 254 & ⋯ & 254 & 228 &  11 &   0 &  0 & 0 & 0 & 0 & 0 & 0\\\\\n\t 0 & 0 & 0 & 0 & 0 & 0 & 0 &  42 & 238 & 253 & ⋯ & 232 &  73 &   0 &   0 &  0 & 0 & 0 & 0 & 0 & 0\\\\\n\t 0 & 0 & 0 & 0 & 0 & 0 & 0 &  79 & 254 & 228 & ⋯ &  73 &   0 &   0 &   0 &  0 & 0 & 0 & 0 & 0 & 0\\\\\n\t 0 & 0 & 0 & 0 & 0 & 0 & 0 & 139 & 253 & 186 & ⋯ &   0 &   0 &   0 &   0 &  0 & 0 & 0 & 0 & 0 & 0\\\\\n\t 0 & 0 & 0 & 0 & 0 & 0 & 0 &  42 & 238 & 254 & ⋯ &   0 &   0 &   0 &   0 &  0 & 0 & 0 & 0 & 0 & 0\\\\\n\t 0 & 0 & 0 & 0 & 0 & 0 & 0 &   0 &  94 & 170 & ⋯ &   0 &   0 &   0 &   0 &  0 & 0 & 0 & 0 & 0 & 0\\\\\n\t 0 & 0 & 0 & 0 & 0 & 0 & 0 &   0 &   0 &   0 & ⋯ &   0 &   0 &   0 &   0 &  0 & 0 & 0 & 0 & 0 & 0\\\\\n\t 0 & 0 & 0 & 0 & 0 & 0 & 0 &   0 &   0 &   0 & ⋯ &   0 &   0 &   0 &   0 &  0 & 0 & 0 & 0 & 0 & 0\\\\\n\t 0 & 0 & 0 & 0 & 0 & 0 & 0 &   0 &   0 &   0 & ⋯ &   0 &   0 &   0 &   0 &  0 & 0 & 0 & 0 & 0 & 0\\\\\n\t 0 & 0 & 0 & 0 & 0 & 0 & 0 &   0 &   0 &   0 & ⋯ &   0 &   0 &   0 &   0 &  0 & 0 & 0 & 0 & 0 & 0\\\\\n\t 0 & 0 & 0 & 0 & 0 & 0 & 0 &   0 &   0 &   0 & ⋯ &   0 &   0 &   0 &   0 &  0 & 0 & 0 & 0 & 0 & 0\\\\\n\t 0 & 0 & 0 & 0 & 0 & 0 & 0 &   0 &   0 &   0 & ⋯ &   0 &   0 &   0 &   0 &  0 & 0 & 0 & 0 & 0 & 0\\\\\n\\end{tabular}\n",
            "text/plain": [
              "      [,1] [,2] [,3] [,4] [,5] [,6] [,7] [,8] [,9] [,10] [,11] [,12] [,13]\n",
              " [1,] 0    0    0    0    0    0    0      0    0    0   ⋯       0     0  \n",
              " [2,] 0    0    0    0    0    0    0      0    0    0   ⋯       0     0  \n",
              " [3,] 0    0    0    0    0    0    0      0    0    0   ⋯       0     6  \n",
              " [4,] 0    0    0    0    0    0    0      0    0    0   ⋯       0   120  \n",
              " [5,] 0    0    0    0    0    0    0      0    0    0   ⋯      63   255  \n",
              " [6,] 0    0    0    0    0    0    0      0    0    0   ⋯     217   254  \n",
              " [7,] 0    0    0    0    0    0    0      0    0    0   ⋯     253   228  \n",
              " [8,] 0    0    0    0    0    0    0      0    0    0   ⋯     253    63  \n",
              " [9,] 0    0    0    0    0    0    0      0    0    0   ⋯      99     0  \n",
              "[10,] 0    0    0    0    0    0    0      0    0    0   ⋯       5     0  \n",
              "[11,] 0    0    0    0    0    0    0      0    0    0   ⋯       0     0  \n",
              "[12,] 0    0    0    0    0    0    0      0    0    0   ⋯       0     0  \n",
              "[13,] 0    0    0    0    0    0    0      0    0    0   ⋯     109    37  \n",
              "[14,] 0    0    0    0    0    0    0      0    0    0   ⋯     253   243  \n",
              "[15,] 0    0    0    0    0    0    0      0    0   68   ⋯     228   254  \n",
              "[16,] 0    0    0    0    0    0    0      0   21  222   ⋯     197   254  \n",
              "[17,] 0    0    0    0    0    0    0      0  156  254   ⋯     254   228  \n",
              "[18,] 0    0    0    0    0    0    0     42  238  253   ⋯     232    73  \n",
              "[19,] 0    0    0    0    0    0    0     79  254  228   ⋯      73     0  \n",
              "[20,] 0    0    0    0    0    0    0    139  253  186   ⋯       0     0  \n",
              "[21,] 0    0    0    0    0    0    0     42  238  254   ⋯       0     0  \n",
              "[22,] 0    0    0    0    0    0    0      0   94  170   ⋯       0     0  \n",
              "[23,] 0    0    0    0    0    0    0      0    0    0   ⋯       0     0  \n",
              "[24,] 0    0    0    0    0    0    0      0    0    0   ⋯       0     0  \n",
              "[25,] 0    0    0    0    0    0    0      0    0    0   ⋯       0     0  \n",
              "[26,] 0    0    0    0    0    0    0      0    0    0   ⋯       0     0  \n",
              "[27,] 0    0    0    0    0    0    0      0    0    0   ⋯       0     0  \n",
              "[28,] 0    0    0    0    0    0    0      0    0    0   ⋯       0     0  \n",
              "      [,14] [,15] [,16] [,17] [,18] [,19] [,20] [,21]\n",
              " [1,]   0     0    0    0     0     0     0     0    \n",
              " [2,]   0     0    0    0     0     0     0     0    \n",
              " [3,] 161   213   16    0     0     0     0     0    \n",
              " [4,] 253   254   78    0     0     0     0     0    \n",
              " [5,] 254   187    0    0     0     0     0     0    \n",
              " [6,] 211    21    0    0     0     0     0     0    \n",
              " [7,]  62     0    0    0     0     0     0     0    \n",
              " [8,]   0     0    0    0     0     0     0     0    \n",
              " [9,]   0     0    0    0     0     0     0     0    \n",
              "[10,]   0     0    0    0     0     0     0     0    \n",
              "[11,]   0     0    0    0     0     0     0     0    \n",
              "[12,]   0     0    0    0     0     0     0     0    \n",
              "[13,]   6     0    0    0     0     0     0     0    \n",
              "[14,]  88     0    0    0     0     0     0     0    \n",
              "[15,] 150     0    0    0     0     0     0     0    \n",
              "[16,]  67     0    0    0     0     0     0     0    \n",
              "[17,]  11     0    0    0     0     0     0     0    \n",
              "[18,]   0     0    0    0     0     0     0     0    \n",
              "[19,]   0     0    0    0     0     0     0     0    \n",
              "[20,]   0     0    0    0     0     0     0     0    \n",
              "[21,]   0     0    0    0     0     0     0     0    \n",
              "[22,]   0     0    0    0     0     0     0     0    \n",
              "[23,]   0     0    0    0     0     0     0     0    \n",
              "[24,]   0     0    0    0     0     0     0     0    \n",
              "[25,]   0     0    0    0     0     0     0     0    \n",
              "[26,]   0     0    0    0     0     0     0     0    \n",
              "[27,]   0     0    0    0     0     0     0     0    \n",
              "[28,]   0     0    0    0     0     0     0     0    "
            ]
          },
          "metadata": {}
        }
      ]
    },
    {
      "cell_type": "code",
      "source": [
        "# Visualización de la etiqueta\n",
        "y_train[1000]"
      ],
      "metadata": {
        "colab": {
          "base_uri": "https://localhost:8080/",
          "height": 34
        },
        "id": "OSHDds9ZcbxF",
        "outputId": "6b5ac8e0-fafc-4481-b471-98f952f7b29b"
      },
      "execution_count": null,
      "outputs": [
        {
          "output_type": "display_data",
          "data": {
            "text/html": [
              "6"
            ],
            "text/markdown": "6",
            "text/latex": "6",
            "text/plain": [
              "[1] 6"
            ]
          },
          "metadata": {}
        }
      ]
    },
    {
      "cell_type": "markdown",
      "source": [
        "Los primeros 16 números del conjunto de datos de entrenamiento se visualizan de la siguente forma:"
      ],
      "metadata": {
        "id": "dHawAIlpeVJU"
      }
    },
    {
      "cell_type": "code",
      "source": [
        "par(mfcol=c(4, 4))\n",
        "par(mar=c(0, 0, 3, 0), xaxs='i', yaxs='i')\n",
        "for (j in 1:16) {\n",
        "    im <- x_train[j, , ]\n",
        "    im <- t(apply(im, 2, rev))\n",
        "    image(x=1:28, y=1:28, z=im, col=gray((0:255)/255),\n",
        "          xaxt='n', main=paste(y_train[j]))\n",
        "}"
      ],
      "metadata": {
        "colab": {
          "base_uri": "https://localhost:8080/"
        },
        "id": "j5s59w_SeY8Q",
        "outputId": "a1944c5b-ac7e-4dcb-e2dd-bffc1fde5d78"
      },
      "execution_count": null,
      "outputs": [
        {
          "output_type": "display_data",
          "data": {
            "text/plain": [
              "Plot with title “7”"
            ],
            "image/png": "[encoded data removed]"
          },
          "metadata": {
            "image/png": {
              "width": 420,
              "height": 420
            }
          }
        }
      ]
    },
    {
      "cell_type": "code",
      "source": [
        "y_train[1:16]"
      ],
      "metadata": {
        "colab": {
          "base_uri": "https://localhost:8080/"
        },
        "id": "uMhsfjHT2Uly",
        "outputId": "7d432d0c-774f-48b6-9e58-c7fa370d09e9"
      },
      "execution_count": null,
      "outputs": [
        {
          "output_type": "display_data",
          "data": {
            "text/html": [
              "<style>\n",
              ".list-inline {list-style: none; margin:0; padding: 0}\n",
              ".list-inline>li {display: inline-block}\n",
              ".list-inline>li:not(:last-child)::after {content: \"\\00b7\"; padding: 0 .5ex}\n",
              "</style>\n",
              "<ol class=list-inline><li>5</li><li>0</li><li>4</li><li>1</li><li>9</li><li>2</li><li>1</li><li>3</li><li>1</li><li>4</li><li>3</li><li>5</li><li>3</li><li>6</li><li>1</li><li>7</li></ol>\n"
            ],
            "text/markdown": "1. 5\n2. 0\n3. 4\n4. 1\n5. 9\n6. 2\n7. 1\n8. 3\n9. 1\n10. 4\n11. 3\n12. 5\n13. 3\n14. 6\n15. 1\n16. 7\n\n\n",
            "text/latex": "\\begin{enumerate*}\n\\item 5\n\\item 0\n\\item 4\n\\item 1\n\\item 9\n\\item 2\n\\item 1\n\\item 3\n\\item 1\n\\item 4\n\\item 3\n\\item 5\n\\item 3\n\\item 6\n\\item 1\n\\item 7\n\\end{enumerate*}\n",
            "text/plain": [
              " [1] 5 0 4 1 9 2 1 3 1 4 3 5 3 6 1 7"
            ]
          },
          "metadata": {}
        }
      ]
    },
    {
      "cell_type": "markdown",
      "source": [
        "#### *Realizar el preprocesamiento de los datos*\n",
        "\n",
        "Se tienen diferentes imágenes de tamaño 28x28 píxeles en escala de grises de varios números. Para la preparación de los datos se debe realizar:\n",
        "\n",
        "- Aplanamiento de las imágenes 28x28 a un vector 1x784.\n",
        "\n",
        "- Estas imágenes están representadas a través de una matriz que define el número de cada imagen en un rango entre 0 y 255. Por lo cual, se deben normalizar las imágenes para tener las matrices en un rango entre 0 y 1."
      ],
      "metadata": {
        "id": "HkRbr9excYTl"
      }
    },
    {
      "cell_type": "code",
      "source": [
        "# Preprocesar los datos\n",
        "x_train <- array_reshape(x_train, c(nrow(x_train), 784))\n",
        "x_test <- array_reshape(x_test, c(nrow(x_test), 784))"
      ],
      "metadata": {
        "id": "14WKnSuUfXRz"
      },
      "execution_count": null,
      "outputs": []
    },
    {
      "cell_type": "code",
      "source": [
        "# Normalizar los valores de píxeles en el rango [0, 1]\n",
        "x_train <- x_train/255\n",
        "x_test <- x_test/255"
      ],
      "metadata": {
        "id": "QVD41VYZfYcY"
      },
      "execution_count": null,
      "outputs": []
    },
    {
      "cell_type": "markdown",
      "source": [
        "#### *Definir la estructura del modelo con la red neuronal*"
      ],
      "metadata": {
        "id": "aDcwqdZJcYQ-"
      }
    },
    {
      "cell_type": "code",
      "source": [
        "# Definir el modelo\n",
        "model <- keras_model_sequential() %>%\n",
        "  layer_dense(units = 256, activation = 'relu', input_shape = c(784)) %>%\n",
        "  layer_dropout(rate = 0.4) %>%\n",
        "  layer_dense(units = 128, activation = 'relu') %>%\n",
        "  layer_dropout(rate = 0.3) %>%\n",
        "  layer_dense(units = 10, activation = 'softmax')"
      ],
      "metadata": {
        "id": "fLPaJtAZceTU"
      },
      "execution_count": null,
      "outputs": []
    },
    {
      "cell_type": "code",
      "source": [
        "summary(model)"
      ],
      "metadata": {
        "colab": {
          "base_uri": "https://localhost:8080/"
        },
        "id": "rkzdTqGdceQc",
        "outputId": "6cb94288-fc48-46e1-f854-ab2615d53697"
      },
      "execution_count": null,
      "outputs": [
        {
          "output_type": "stream",
          "name": "stdout",
          "text": [
            "Model: \"sequential\"\n",
            "________________________________________________________________________________\n",
            " Layer (type)                       Output Shape                    Param #     \n",
            "================================================================================\n",
            " dense_2 (Dense)                    (None, 256)                     200960      \n",
            " dropout_1 (Dropout)                (None, 256)                     0           \n",
            " dense_1 (Dense)                    (None, 128)                     32896       \n",
            " dropout (Dropout)                  (None, 128)                     0           \n",
            " dense (Dense)                      (None, 10)                      1290        \n",
            "================================================================================\n",
            "Total params: 235146 (918.54 KB)\n",
            "Trainable params: 235146 (918.54 KB)\n",
            "Non-trainable params: 0 (0.00 Byte)\n",
            "________________________________________________________________________________\n"
          ]
        }
      ]
    },
    {
      "cell_type": "markdown",
      "source": [
        "El modelo anterior tiene 235.146 parámetros. El número de parámetros se define de acuerdo al número de neuronas que se tienen en cada una de las capas:\n",
        "\n",
        "Entrada a Capa 1 Densa:  784*256 + 256 (bias) = 200.960\n",
        "\n",
        "Capa 1 Dropout\n",
        "\n",
        "Capa 2 Densa:            256*128 + 128 (bias) = 32.896\n",
        "\n",
        "Capa 2 Dropout\n",
        "\n",
        "Capa 3 Densa a Salida:   128*10 + 10 (bias)   =  1.290\n",
        "\n",
        "Total parámetros = 235.146"
      ],
      "metadata": {
        "id": "3A5dxq0-4u3g"
      }
    },
    {
      "cell_type": "markdown",
      "source": [
        "#### *Compilar el modelo*\n",
        "\n",
        "La compilación del modelo se puede realizar con:\n",
        "\n",
        "- Funciones de pérdida\n",
        "  - sparse_categorical_crossentropy\n",
        "  - categorical_crossentropy\n",
        "\n",
        "- Optimizador\n",
        "  - adam\n",
        "  - optimizer_rmsprop"
      ],
      "metadata": {
        "id": "9hMtJB-rcYOc"
      }
    },
    {
      "cell_type": "code",
      "source": [
        "# Compilar el modelo\n",
        "model %>% compile(\n",
        "  loss = 'sparse_categorical_crossentropy',\n",
        "  optimizer = 'adam',\n",
        "  metrics = c('accuracy')\n",
        ")"
      ],
      "metadata": {
        "id": "TEoIh1Kdcf8u"
      },
      "execution_count": null,
      "outputs": []
    },
    {
      "cell_type": "markdown",
      "source": [
        "#### *Entrenar el modelo*\n",
        "\n",
        "El entrenamiento del modelo se realiza a partir de la función fit() y se puede almacenar en una variable con el fin de ver el entrenamiento del modelo. Además, se puede agregar el parámetro *validation_split* con el fin de generar un conjunto de validación con el objetivo de evaluar el desempeño del modelo."
      ],
      "metadata": {
        "id": "TjztRHfgcYLv"
      }
    },
    {
      "cell_type": "code",
      "source": [
        "# Entrenar el modelo\n",
        "training <- model %>% fit(x_train,\n",
        "              y_train,\n",
        "              epochs = 20,\n",
        "              batch_size = 64,\n",
        "              validation_split = 0.2)"
      ],
      "metadata": {
        "id": "NWh18yiIciAu"
      },
      "execution_count": null,
      "outputs": []
    },
    {
      "cell_type": "code",
      "source": [
        "plot(training)"
      ],
      "metadata": {
        "id": "6BLw7PWSfpaU",
        "colab": {
          "base_uri": "https://localhost:8080/"
        },
        "outputId": "129fed2e-3e74-471a-cc5b-d8025710d9ff"
      },
      "execution_count": null,
      "outputs": [
        {
          "output_type": "display_data",
          "data": {
            "text/plain": [
              "plot without title"
            ],
            "image/png": "[encoded data removed]"
          },
          "metadata": {
            "image/png": {
              "width": 420,
              "height": 420
            }
          }
        }
      ]
    },
    {
      "cell_type": "markdown",
      "source": [
        "#### *Evaluar el desempeño del modelo*"
      ],
      "metadata": {
        "id": "Fvn9cixdcYH3"
      }
    },
    {
      "cell_type": "code",
      "source": [
        "# Evaluar el modelo en el conjunto de prueba\n",
        "eval <- model %>% evaluate(x_test, y_test)\n",
        "eval"
      ],
      "metadata": {
        "id": "trzCp-P9cjb2",
        "colab": {
          "base_uri": "https://localhost:8080/",
          "height": 34
        },
        "outputId": "05b24a76-a494-47c5-fe2f-347308ca7769"
      },
      "execution_count": null,
      "outputs": [
        {
          "output_type": "display_data",
          "data": {
            "text/html": [
              "<style>\n",
              ".dl-inline {width: auto; margin:0; padding: 0}\n",
              ".dl-inline>dt, .dl-inline>dd {float: none; width: auto; display: inline-block}\n",
              ".dl-inline>dt::after {content: \":\\0020\"; padding-right: .5ex}\n",
              ".dl-inline>dt:not(:first-of-type) {padding-left: .5ex}\n",
              "</style><dl class=dl-inline><dt>loss</dt><dd>0.065550297498703</dd><dt>accuracy</dt><dd>0.981800019741058</dd></dl>\n"
            ],
            "text/markdown": "loss\n:   0.065550297498703accuracy\n:   0.981800019741058\n\n",
            "text/latex": "\\begin{description*}\n\\item[loss] 0.065550297498703\n\\item[accuracy] 0.981800019741058\n\\end{description*}\n",
            "text/plain": [
              "     loss  accuracy \n",
              "0.0655503 0.9818000 "
            ]
          },
          "metadata": {}
        }
      ]
    },
    {
      "cell_type": "markdown",
      "source": [
        "#### *Generar predicciones*"
      ],
      "metadata": {
        "id": "QlLB5TYXcjuW"
      }
    },
    {
      "cell_type": "code",
      "source": [
        "prediction <- model %>% predict(x_test) %>% k_argmax()"
      ],
      "metadata": {
        "id": "ULMwBFWdcjh5"
      },
      "execution_count": null,
      "outputs": []
    },
    {
      "cell_type": "code",
      "source": [
        "# Se realiza la matriz de confusion\n",
        "matriz_confusion <- table(as.array(prediction), y_true)\n",
        "matriz_confusion"
      ],
      "metadata": {
        "colab": {
          "base_uri": "https://localhost:8080/"
        },
        "id": "q2HU_hz5yx_3",
        "outputId": "47aad357-1320-4a11-d683-a813ec983723"
      },
      "execution_count": null,
      "outputs": [
        {
          "output_type": "display_data",
          "data": {
            "text/plain": [
              "   y_true\n",
              "       0    1    2    3    4    5    6    7    8    9\n",
              "  0  969    0    1    0    3    2    1    2    1    2\n",
              "  1    1 1126    1    0    1    0    2    6    0    3\n",
              "  2    0    3 1018    5    3    0    0    6    4    0\n",
              "  3    2    1    3  995    0   11    1    1    7    4\n",
              "  4    0    0    1    0  958    0    4    0    3    8\n",
              "  5    2    1    0    2    0  871    3    0    2    2\n",
              "  6    4    2    0    0    5    2  943    0    1    1\n",
              "  7    1    0    5    4    3    1    0 1009    5    6\n",
              "  8    1    2    3    1    0    3    4    1  947    1\n",
              "  9    0    0    0    3    9    2    0    3    4  982"
            ]
          },
          "metadata": {}
        }
      ]
    },
    {
      "cell_type": "code",
      "source": [
        "accuracy <- sum(diag(matriz_confusion)) / sum(matriz_confusion)\n",
        "accuracy *100"
      ],
      "metadata": {
        "colab": {
          "base_uri": "https://localhost:8080/"
        },
        "id": "ywG7xTKkytDG",
        "outputId": "ec3f0eb9-b0c0-4e81-ba46-47e289e72507"
      },
      "execution_count": null,
      "outputs": [
        {
          "output_type": "display_data",
          "data": {
            "text/html": [
              "98.18"
            ],
            "text/markdown": "98.18",
            "text/latex": "98.18",
            "text/plain": [
              "[1] 98.18"
            ]
          },
          "metadata": {}
        }
      ]
    },
    {
      "cell_type": "code",
      "source": [
        "prediction$numpy()"
      ],
      "metadata": {
        "colab": {
          "base_uri": "https://localhost:8080/"
        },
        "id": "zjQ_VrdnzXk_",
        "outputId": "42f8b203-3127-4ed5-dde8-5a25404bfb64"
      },
      "execution_count": null,
      "outputs": [
        {
          "output_type": "display_data",
          "data": {
            "text/html": [
              "<style>\n",
              ".list-inline {list-style: none; margin:0; padding: 0}\n",
              ".list-inline>li {display: inline-block}\n",
              ".list-inline>li:not(:last-child)::after {content: \"\\00b7\"; padding: 0 .5ex}\n",
              "</style>\n",
              "<ol class=list-inline><li>7</li><li>2</li><li>1</li><li>0</li><li>4</li><li>1</li><li>4</li><li>9</li><li>6</li><li>9</li><li>0</li><li>6</li><li>9</li><li>0</li><li>1</li><li>5</li><li>9</li><li>7</li><li>3</li><li>4</li><li>9</li><li>6</li><li>6</li><li>5</li><li>4</li><li>0</li><li>7</li><li>4</li><li>0</li><li>1</li><li>3</li><li>1</li><li>3</li><li>4</li><li>7</li><li>2</li><li>7</li><li>1</li><li>2</li><li>1</li><li>1</li><li>7</li><li>4</li><li>2</li><li>3</li><li>5</li><li>1</li><li>2</li><li>4</li><li>4</li><li>6</li><li>3</li><li>5</li><li>5</li><li>6</li><li>0</li><li>4</li><li>1</li><li>9</li><li>5</li><li>7</li><li>8</li><li>9</li><li>3</li><li>7</li><li>4</li><li>6</li><li>4</li><li>3</li><li>0</li><li>7</li><li>0</li><li>2</li><li>9</li><li>1</li><li>7</li><li>3</li><li>2</li><li>9</li><li>7</li><li>7</li><li>6</li><li>2</li><li>7</li><li>8</li><li>4</li><li>7</li><li>3</li><li>6</li><li>1</li><li>3</li><li>6</li><li>9</li><li>3</li><li>1</li><li>4</li><li>1</li><li>7</li><li>6</li><li>9</li><li>6</li><li>0</li><li>5</li><li>4</li><li>9</li><li>9</li><li>2</li><li>1</li><li>9</li><li>4</li><li>8</li><li>7</li><li>3</li><li>9</li><li>7</li><li>4</li><li>4</li><li>4</li><li>9</li><li>2</li><li>5</li><li>4</li><li>7</li><li>6</li><li>7</li><li>9</li><li>0</li><li>5</li><li>8</li><li>5</li><li>6</li><li>6</li><li>5</li><li>7</li><li>8</li><li>1</li><li>0</li><li>1</li><li>6</li><li>4</li><li>6</li><li>7</li><li>3</li><li>1</li><li>7</li><li>1</li><li>8</li><li>2</li><li>0</li><li>2</li><li>9</li><li>8</li><li>5</li><li>5</li><li>1</li><li>5</li><li>6</li><li>0</li><li>3</li><li>4</li><li>4</li><li>6</li><li>5</li><li>4</li><li>6</li><li>5</li><li>4</li><li>5</li><li>1</li><li>4</li><li>4</li><li>7</li><li>2</li><li>3</li><li>2</li><li>7</li><li>1</li><li>8</li><li>1</li><li>8</li><li>1</li><li>8</li><li>5</li><li>0</li><li>8</li><li>9</li><li>2</li><li>5</li><li>0</li><li>1</li><li>1</li><li>1</li><li>0</li><li>9</li><li>0</li><li>3</li><li>1</li><li>6</li><li>4</li><li>2</li><li>⋯</li><li>0</li><li>0</li><li>1</li><li>2</li><li>3</li><li>4</li><li>7</li><li>8</li><li>9</li><li>0</li><li>1</li><li>2</li><li>3</li><li>4</li><li>5</li><li>6</li><li>7</li><li>8</li><li>0</li><li>1</li><li>2</li><li>3</li><li>4</li><li>7</li><li>8</li><li>9</li><li>0</li><li>8</li><li>3</li><li>9</li><li>5</li><li>5</li><li>2</li><li>6</li><li>8</li><li>4</li><li>1</li><li>7</li><li>1</li><li>3</li><li>3</li><li>5</li><li>6</li><li>9</li><li>1</li><li>1</li><li>1</li><li>2</li><li>1</li><li>2</li><li>0</li><li>7</li><li>7</li><li>5</li><li>8</li><li>2</li><li>9</li><li>8</li><li>6</li><li>7</li><li>3</li><li>4</li><li>6</li><li>8</li><li>7</li><li>0</li><li>4</li><li>2</li><li>7</li><li>7</li><li>5</li><li>4</li><li>3</li><li>4</li><li>2</li><li>8</li><li>1</li><li>5</li><li>1</li><li>0</li><li>2</li><li>3</li><li>3</li><li>5</li><li>7</li><li>0</li><li>6</li><li>8</li><li>6</li><li>3</li><li>9</li><li>9</li><li>8</li><li>2</li><li>7</li><li>7</li><li>1</li><li>0</li><li>1</li><li>7</li><li>8</li><li>9</li><li>0</li><li>1</li><li>2</li><li>3</li><li>4</li><li>5</li><li>6</li><li>7</li><li>8</li><li>0</li><li>1</li><li>2</li><li>3</li><li>4</li><li>7</li><li>8</li><li>9</li><li>7</li><li>8</li><li>6</li><li>4</li><li>1</li><li>9</li><li>3</li><li>8</li><li>4</li><li>4</li><li>7</li><li>0</li><li>1</li><li>9</li><li>2</li><li>8</li><li>7</li><li>8</li><li>2</li><li>6</li><li>0</li><li>6</li><li>5</li><li>3</li><li>3</li><li>3</li><li>9</li><li>1</li><li>4</li><li>0</li><li>6</li><li>1</li><li>0</li><li>0</li><li>6</li><li>2</li><li>1</li><li>1</li><li>7</li><li>7</li><li>8</li><li>4</li><li>6</li><li>0</li><li>7</li><li>0</li><li>3</li><li>6</li><li>8</li><li>7</li><li>1</li><li>5</li><li>2</li><li>4</li><li>9</li><li>4</li><li>3</li><li>6</li><li>4</li><li>1</li><li>7</li><li>2</li><li>6</li><li>5</li><li>0</li><li>1</li><li>2</li><li>3</li><li>4</li><li>5</li><li>6</li><li>7</li><li>8</li><li>9</li><li>0</li><li>1</li><li>2</li><li>3</li><li>4</li><li>5</li><li>6</li></ol>\n"
            ],
            "text/markdown": "1. 7\n2. 2\n3. 1\n4. 0\n5. 4\n6. 1\n7. 4\n8. 9\n9. 6\n10. 9\n11. 0\n12. 6\n13. 9\n14. 0\n15. 1\n16. 5\n17. 9\n18. 7\n19. 3\n20. 4\n21. 9\n22. 6\n23. 6\n24. 5\n25. 4\n26. 0\n27. 7\n28. 4\n29. 0\n30. 1\n31. 3\n32. 1\n33. 3\n34. 4\n35. 7\n36. 2\n37. 7\n38. 1\n39. 2\n40. 1\n41. 1\n42. 7\n43. 4\n44. 2\n45. 3\n46. 5\n47. 1\n48. 2\n49. 4\n50. 4\n51. 6\n52. 3\n53. 5\n54. 5\n55. 6\n56. 0\n57. 4\n58. 1\n59. 9\n60. 5\n61. 7\n62. 8\n63. 9\n64. 3\n65. 7\n66. 4\n67. 6\n68. 4\n69. 3\n70. 0\n71. 7\n72. 0\n73. 2\n74. 9\n75. 1\n76. 7\n77. 3\n78. 2\n79. 9\n80. 7\n81. 7\n82. 6\n83. 2\n84. 7\n85. 8\n86. 4\n87. 7\n88. 3\n89. 6\n90. 1\n91. 3\n92. 6\n93. 9\n94. 3\n95. 1\n96. 4\n97. 1\n98. 7\n99. 6\n100. 9\n101. 6\n102. 0\n103. 5\n104. 4\n105. 9\n106. 9\n107. 2\n108. 1\n109. 9\n110. 4\n111. 8\n112. 7\n113. 3\n114. 9\n115. 7\n116. 4\n117. 4\n118. 4\n119. 9\n120. 2\n121. 5\n122. 4\n123. 7\n124. 6\n125. 7\n126. 9\n127. 0\n128. 5\n129. 8\n130. 5\n131. 6\n132. 6\n133. 5\n134. 7\n135. 8\n136. 1\n137. 0\n138. 1\n139. 6\n140. 4\n141. 6\n142. 7\n143. 3\n144. 1\n145. 7\n146. 1\n147. 8\n148. 2\n149. 0\n150. 2\n151. 9\n152. 8\n153. 5\n154. 5\n155. 1\n156. 5\n157. 6\n158. 0\n159. 3\n160. 4\n161. 4\n162. 6\n163. 5\n164. 4\n165. 6\n166. 5\n167. 4\n168. 5\n169. 1\n170. 4\n171. 4\n172. 7\n173. 2\n174. 3\n175. 2\n176. 7\n177. 1\n178. 8\n179. 1\n180. 8\n181. 1\n182. 8\n183. 5\n184. 0\n185. 8\n186. 9\n187. 2\n188. 5\n189. 0\n190. 1\n191. 1\n192. 1\n193. 0\n194. 9\n195. 0\n196. 3\n197. 1\n198. 6\n199. 4\n200. 2\n201. ⋯\n202. 0\n203. 0\n204. 1\n205. 2\n206. 3\n207. 4\n208. 7\n209. 8\n210. 9\n211. 0\n212. 1\n213. 2\n214. 3\n215. 4\n216. 5\n217. 6\n218. 7\n219. 8\n220. 0\n221. 1\n222. 2\n223. 3\n224. 4\n225. 7\n226. 8\n227. 9\n228. 0\n229. 8\n230. 3\n231. 9\n232. 5\n233. 5\n234. 2\n235. 6\n236. 8\n237. 4\n238. 1\n239. 7\n240. 1\n241. 3\n242. 3\n243. 5\n244. 6\n245. 9\n246. 1\n247. 1\n248. 1\n249. 2\n250. 1\n251. 2\n252. 0\n253. 7\n254. 7\n255. 5\n256. 8\n257. 2\n258. 9\n259. 8\n260. 6\n261. 7\n262. 3\n263. 4\n264. 6\n265. 8\n266. 7\n267. 0\n268. 4\n269. 2\n270. 7\n271. 7\n272. 5\n273. 4\n274. 3\n275. 4\n276. 2\n277. 8\n278. 1\n279. 5\n280. 1\n281. 0\n282. 2\n283. 3\n284. 3\n285. 5\n286. 7\n287. 0\n288. 6\n289. 8\n290. 6\n291. 3\n292. 9\n293. 9\n294. 8\n295. 2\n296. 7\n297. 7\n298. 1\n299. 0\n300. 1\n301. 7\n302. 8\n303. 9\n304. 0\n305. 1\n306. 2\n307. 3\n308. 4\n309. 5\n310. 6\n311. 7\n312. 8\n313. 0\n314. 1\n315. 2\n316. 3\n317. 4\n318. 7\n319. 8\n320. 9\n321. 7\n322. 8\n323. 6\n324. 4\n325. 1\n326. 9\n327. 3\n328. 8\n329. 4\n330. 4\n331. 7\n332. 0\n333. 1\n334. 9\n335. 2\n336. 8\n337. 7\n338. 8\n339. 2\n340. 6\n341. 0\n342. 6\n343. 5\n344. 3\n345. 3\n346. 3\n347. 9\n348. 1\n349. 4\n350. 0\n351. 6\n352. 1\n353. 0\n354. 0\n355. 6\n356. 2\n357. 1\n358. 1\n359. 7\n360. 7\n361. 8\n362. 4\n363. 6\n364. 0\n365. 7\n366. 0\n367. 3\n368. 6\n369. 8\n370. 7\n371. 1\n372. 5\n373. 2\n374. 4\n375. 9\n376. 4\n377. 3\n378. 6\n379. 4\n380. 1\n381. 7\n382. 2\n383. 6\n384. 5\n385. 0\n386. 1\n387. 2\n388. 3\n389. 4\n390. 5\n391. 6\n392. 7\n393. 8\n394. 9\n395. 0\n396. 1\n397. 2\n398. 3\n399. 4\n400. 5\n401. 6\n\n\n",
            "text/latex": "\\begin{enumerate*}\n\\item 7\n\\item 2\n\\item 1\n\\item 0\n\\item 4\n\\item 1\n\\item 4\n\\item 9\n\\item 6\n\\item 9\n\\item 0\n\\item 6\n\\item 9\n\\item 0\n\\item 1\n\\item 5\n\\item 9\n\\item 7\n\\item 3\n\\item 4\n\\item 9\n\\item 6\n\\item 6\n\\item 5\n\\item 4\n\\item 0\n\\item 7\n\\item 4\n\\item 0\n\\item 1\n\\item 3\n\\item 1\n\\item 3\n\\item 4\n\\item 7\n\\item 2\n\\item 7\n\\item 1\n\\item 2\n\\item 1\n\\item 1\n\\item 7\n\\item 4\n\\item 2\n\\item 3\n\\item 5\n\\item 1\n\\item 2\n\\item 4\n\\item 4\n\\item 6\n\\item 3\n\\item 5\n\\item 5\n\\item 6\n\\item 0\n\\item 4\n\\item 1\n\\item 9\n\\item 5\n\\item 7\n\\item 8\n\\item 9\n\\item 3\n\\item 7\n\\item 4\n\\item 6\n\\item 4\n\\item 3\n\\item 0\n\\item 7\n\\item 0\n\\item 2\n\\item 9\n\\item 1\n\\item 7\n\\item 3\n\\item 2\n\\item 9\n\\item 7\n\\item 7\n\\item 6\n\\item 2\n\\item 7\n\\item 8\n\\item 4\n\\item 7\n\\item 3\n\\item 6\n\\item 1\n\\item 3\n\\item 6\n\\item 9\n\\item 3\n\\item 1\n\\item 4\n\\item 1\n\\item 7\n\\item 6\n\\item 9\n\\item 6\n\\item 0\n\\item 5\n\\item 4\n\\item 9\n\\item 9\n\\item 2\n\\item 1\n\\item 9\n\\item 4\n\\item 8\n\\item 7\n\\item 3\n\\item 9\n\\item 7\n\\item 4\n\\item 4\n\\item 4\n\\item 9\n\\item 2\n\\item 5\n\\item 4\n\\item 7\n\\item 6\n\\item 7\n\\item 9\n\\item 0\n\\item 5\n\\item 8\n\\item 5\n\\item 6\n\\item 6\n\\item 5\n\\item 7\n\\item 8\n\\item 1\n\\item 0\n\\item 1\n\\item 6\n\\item 4\n\\item 6\n\\item 7\n\\item 3\n\\item 1\n\\item 7\n\\item 1\n\\item 8\n\\item 2\n\\item 0\n\\item 2\n\\item 9\n\\item 8\n\\item 5\n\\item 5\n\\item 1\n\\item 5\n\\item 6\n\\item 0\n\\item 3\n\\item 4\n\\item 4\n\\item 6\n\\item 5\n\\item 4\n\\item 6\n\\item 5\n\\item 4\n\\item 5\n\\item 1\n\\item 4\n\\item 4\n\\item 7\n\\item 2\n\\item 3\n\\item 2\n\\item 7\n\\item 1\n\\item 8\n\\item 1\n\\item 8\n\\item 1\n\\item 8\n\\item 5\n\\item 0\n\\item 8\n\\item 9\n\\item 2\n\\item 5\n\\item 0\n\\item 1\n\\item 1\n\\item 1\n\\item 0\n\\item 9\n\\item 0\n\\item 3\n\\item 1\n\\item 6\n\\item 4\n\\item 2\n\\item ⋯\n\\item 0\n\\item 0\n\\item 1\n\\item 2\n\\item 3\n\\item 4\n\\item 7\n\\item 8\n\\item 9\n\\item 0\n\\item 1\n\\item 2\n\\item 3\n\\item 4\n\\item 5\n\\item 6\n\\item 7\n\\item 8\n\\item 0\n\\item 1\n\\item 2\n\\item 3\n\\item 4\n\\item 7\n\\item 8\n\\item 9\n\\item 0\n\\item 8\n\\item 3\n\\item 9\n\\item 5\n\\item 5\n\\item 2\n\\item 6\n\\item 8\n\\item 4\n\\item 1\n\\item 7\n\\item 1\n\\item 3\n\\item 3\n\\item 5\n\\item 6\n\\item 9\n\\item 1\n\\item 1\n\\item 1\n\\item 2\n\\item 1\n\\item 2\n\\item 0\n\\item 7\n\\item 7\n\\item 5\n\\item 8\n\\item 2\n\\item 9\n\\item 8\n\\item 6\n\\item 7\n\\item 3\n\\item 4\n\\item 6\n\\item 8\n\\item 7\n\\item 0\n\\item 4\n\\item 2\n\\item 7\n\\item 7\n\\item 5\n\\item 4\n\\item 3\n\\item 4\n\\item 2\n\\item 8\n\\item 1\n\\item 5\n\\item 1\n\\item 0\n\\item 2\n\\item 3\n\\item 3\n\\item 5\n\\item 7\n\\item 0\n\\item 6\n\\item 8\n\\item 6\n\\item 3\n\\item 9\n\\item 9\n\\item 8\n\\item 2\n\\item 7\n\\item 7\n\\item 1\n\\item 0\n\\item 1\n\\item 7\n\\item 8\n\\item 9\n\\item 0\n\\item 1\n\\item 2\n\\item 3\n\\item 4\n\\item 5\n\\item 6\n\\item 7\n\\item 8\n\\item 0\n\\item 1\n\\item 2\n\\item 3\n\\item 4\n\\item 7\n\\item 8\n\\item 9\n\\item 7\n\\item 8\n\\item 6\n\\item 4\n\\item 1\n\\item 9\n\\item 3\n\\item 8\n\\item 4\n\\item 4\n\\item 7\n\\item 0\n\\item 1\n\\item 9\n\\item 2\n\\item 8\n\\item 7\n\\item 8\n\\item 2\n\\item 6\n\\item 0\n\\item 6\n\\item 5\n\\item 3\n\\item 3\n\\item 3\n\\item 9\n\\item 1\n\\item 4\n\\item 0\n\\item 6\n\\item 1\n\\item 0\n\\item 0\n\\item 6\n\\item 2\n\\item 1\n\\item 1\n\\item 7\n\\item 7\n\\item 8\n\\item 4\n\\item 6\n\\item 0\n\\item 7\n\\item 0\n\\item 3\n\\item 6\n\\item 8\n\\item 7\n\\item 1\n\\item 5\n\\item 2\n\\item 4\n\\item 9\n\\item 4\n\\item 3\n\\item 6\n\\item 4\n\\item 1\n\\item 7\n\\item 2\n\\item 6\n\\item 5\n\\item 0\n\\item 1\n\\item 2\n\\item 3\n\\item 4\n\\item 5\n\\item 6\n\\item 7\n\\item 8\n\\item 9\n\\item 0\n\\item 1\n\\item 2\n\\item 3\n\\item 4\n\\item 5\n\\item 6\n\\end{enumerate*}\n",
            "text/plain": [
              "    [1] 7 2 1 0 4 1 4 9 6 9 0 6 9 0 1 5 9 7 3 4 9 6 6 5 4 0 7 4 0 1 3 1 3 4 7 2\n",
              "   [37] 7 1 2 1 1 7 4 2 3 5 1 2 4 4 6 3 5 5 6 0 4 1 9 5 7 8 9 3 7 4 6 4 3 0 7 0\n",
              "   [73] 2 9 1 7 3 2 9 7 7 6 2 7 8 4 7 3 6 1 3 6 9 3 1 4 1 7 6 9 6 0 5 4 9 9 2 1\n",
              "  [109] 9 4 8 7 3 9 7 4 4 4 9 2 5 4 7 6 7 9 0 5 8 5 6 6 5 7 8 1 0 1 6 4 6 7 3 1\n",
              "  [145] 7 1 8 2 0 2 9 8 5 5 1 5 6 0 3 4 4 6 5 4 6 5 4 5 1 4 4 7 2 3 2 7 1 8 1 8\n",
              "  [181] 1 8 5 0 8 9 2 5 0 1 1 1 0 9 0 3 1 6 4 2 3 6 1 1 1 3 9 5 2 9 4 5 9 3 9 0\n",
              "  [217] 3 6 5 5 7 2 2 7 1 2 8 4 1 7 3 3 8 8 7 9 2 2 4 1 5 9 8 7 2 3 0 2 4 2 4 1\n",
              "  [253] 9 5 7 7 2 8 2 6 8 5 7 7 9 1 8 1 8 0 3 0 1 9 9 4 1 8 2 1 2 9 7 5 9 2 6 4\n",
              "  [289] 1 5 8 2 9 2 0 4 0 0 2 8 4 7 1 2 4 0 2 7 4 3 3 0 0 3 1 9 6 5 2 5 9 7 9 3\n",
              "  [325] 0 4 2 0 7 1 1 2 1 5 3 3 9 7 8 6 3 6 1 3 8 1 0 5 1 3 1 5 5 6 1 8 5 1 7 9\n",
              "  [361] 4 6 2 2 5 0 6 5 6 3 7 2 0 8 8 5 4 1 1 4 0 7 3 7 6 1 6 2 1 9 2 8 6 1 9 5\n",
              "  [397] 2 5 4 4 2 8 3 8 2 4 5 0 3 1 7 7 5 7 9 7 1 9 2 1 4 2 9 2 0 4 9 1 4 8 1 8\n",
              "  [433] 4 5 9 8 8 3 7 6 0 0 3 0 2 0 6 4 9 3 3 3 2 3 9 1 2 6 8 0 5 6 6 6 3 8 8 2\n",
              "  [469] 7 5 8 9 6 1 8 4 1 2 5 9 1 9 7 5 4 0 8 9 9 1 0 5 2 3 7 8 9 4 0 6 3 9 5 2\n",
              "  [505] 1 3 1 3 6 5 7 4 2 2 6 3 2 6 5 4 8 9 7 1 3 0 3 8 3 1 9 3 4 4 6 4 2 1 8 2\n",
              "  [541] 5 4 8 8 4 0 0 2 3 2 7 7 0 8 7 4 4 7 9 6 9 0 9 8 0 4 6 0 6 3 5 4 8 3 3 9\n",
              "  [577] 3 3 3 7 8 0 2 2 1 7 0 6 5 4 3 8 0 9 6 3 8 0 9 9 6 8 6 8 5 7 8 6 0 2 4 0\n",
              "  [613] 2 2 3 1 9 7 5 8 0 8 4 6 2 6 7 9 3 2 9 8 2 2 9 2 7 3 5 9 1 8 0 2 0 5 2 1\n",
              "  [649] 3 7 6 7 1 2 5 8 0 3 7 7 4 0 9 1 8 6 7 7 4 3 4 9 1 9 5 1 7 3 9 7 6 9 1 3\n",
              "  [685] 3 8 3 3 6 7 2 4 5 8 5 1 1 4 4 3 1 0 7 7 0 7 9 4 4 8 5 5 4 0 8 2 1 6 8 4\n",
              "  [721] 8 0 4 0 6 1 7 3 2 6 7 2 6 9 3 1 4 6 2 5 4 2 0 6 2 1 7 3 4 1 0 5 4 3 1 1\n",
              "  [757] 7 4 9 9 9 8 4 0 2 4 5 1 1 6 4 7 1 9 4 2 4 1 5 5 3 8 3 1 4 5 6 8 9 4 1 5\n",
              "  [793] 3 8 0 3 2 5 1 2 8 3 4 4 0 8 8 3 3 1 7 3 5 9 6 3 2 6 1 3 6 0 7 2 1 7 1 4\n",
              "  [829] 2 4 2 1 7 9 6 1 1 2 4 3 1 7 7 4 7 0 7 3 1 3 1 0 7 7 0 3 5 5 2 7 6 6 9 2\n",
              "  [865] 8 3 5 2 2 5 6 0 8 2 9 2 8 8 8 8 7 4 9 3 0 6 6 3 2 1 3 2 2 9 3 0 0 5 7 8\n",
              "  [901] 3 4 4 6 0 2 9 1 4 7 4 7 3 9 8 8 4 7 1 2 1 2 2 3 2 3 2 3 9 1 7 4 0 3 5 5\n",
              "  [937] 8 6 3 2 6 7 6 6 3 2 7 9 1 1 7 5 6 4 9 5 2 3 3 4 7 8 9 1 1 5 9 1 4 4 5 4\n",
              "  [973] 0 6 2 2 3 1 5 1 2 0 3 8 1 2 6 7 1 6 2 3 9 0 1 2 2 0 8 9 9 0 2 3 1 9 7 8\n",
              " [1009] 1 0 4 1 7 9 5 4 2 6 8 1 3 7 5 4 4 1 8 1 3 8 1 2 5 8 0 6 2 1 1 2 1 5 3 4\n",
              " [1045] 8 9 5 0 9 2 3 4 8 2 1 7 2 4 9 4 4 0 3 9 2 2 3 3 8 3 5 7 3 5 8 1 2 4 4 6\n",
              " [1081] 4 9 5 1 0 6 9 5 9 5 9 7 3 8 0 3 7 1 3 6 7 8 5 9 7 9 6 9 6 3 7 4 6 5 3 5\n",
              " [1117] 4 7 8 7 8 0 7 6 8 8 7 3 3 1 9 5 2 7 3 5 1 1 2 1 4 7 4 7 5 4 5 4 0 8 3 6\n",
              " [1153] 9 6 0 2 7 4 4 4 4 6 6 4 7 9 3 4 5 5 8 7 3 7 2 7 0 2 0 1 1 6 8 9 2 8 7 2\n",
              " [1189] 0 1 5 0 9 1 7 0 6 0 8 6 8 1 8 0 3 3 7 2 3 6 2 1 6 1 1 3 7 9 0 8 0 5 4 0\n",
              " [1225] 2 8 2 2 9 8 4 0 4 5 8 5 1 2 1 3 1 7 9 5 7 2 0 5 8 8 6 2 5 4 1 9 2 1 5 8\n",
              " [1261] 7 0 2 4 4 3 6 8 8 2 4 0 5 0 4 4 7 9 3 4 1 5 9 7 3 5 8 8 0 9 3 3 6 6 0 1\n",
              " [1297] 6 0 3 7 4 4 1 2 9 1 4 6 9 9 3 9 8 4 4 3 1 3 1 3 8 7 9 4 8 8 7 9 9 1 4 5\n",
              " [1333] 6 0 5 2 2 2 1 5 5 2 4 9 6 2 7 7 2 2 1 1 2 8 3 7 2 4 1 7 1 7 6 7 8 2 7 3\n",
              " [1369] 1 7 5 8 2 6 2 2 5 6 5 0 9 2 4 3 3 9 7 6 6 8 0 4 1 3 8 2 9 1 8 0 6 7 2 1\n",
              " [1405] 0 5 5 2 0 2 2 0 2 4 7 8 0 9 9 4 6 5 4 9 1 8 3 4 9 9 1 2 2 8 1 9 6 4 0 9\n",
              " [1441] 4 8 3 8 6 0 2 5 1 9 6 2 9 4 0 9 6 0 6 2 5 4 2 3 8 4 5 5 0 3 8 5 3 5 8 6\n",
              " [1477] 5 7 6 3 3 9 6 1 1 2 9 0 4 3 3 6 9 5 7 3 7 7 7 8 1 9 8 3 0 7 2 7 9 4 5 4\n",
              " [1513] 9 3 2 1 4 0 2 3 7 5 9 8 8 5 0 1 1 4 7 3 9 0 0 0 6 6 2 3 7 8 4 7 7 9 2 4\n",
              " [1549] 1 6 5 2 4 9 9 1 8 4 0 9 8 4 8 7 7 0 7 8 8 6 0 4 8 8 2 4 7 6 6 6 4 7 1 8\n",
              " [1585] 8 2 3 6 3 0 0 3 7 6 9 7 9 9 5 4 3 3 6 1 2 3 7 3 3 2 0 3 3 8 4 3 6 3 5 0\n",
              " [1621] 2 6 9 0 7 4 6 9 3 5 1 9 6 1 4 5 4 5 0 5 9 5 2 1 2 9 1 9 9 4 0 8 4 5 2 9\n",
              " [1657] 2 1 2 1 7 3 6 8 8 4 9 1 9 8 5 7 5 1 1 8 6 5 2 4 4 7 2 3 5 6 8 8 6 2 3 1\n",
              " [1693] 0 5 8 9 2 9 6 7 0 4 8 7 1 7 4 1 0 9 7 2 0 0 9 1 7 8 7 8 4 7 2 0 4 6 0 3\n",
              " [1729] 1 1 3 3 9 6 7 4 1 5 3 0 8 7 3 9 6 9 3 5 0 2 7 2 5 1 7 5 8 0 8 8 1 5 0 3\n",
              " [1765] 0 3 1 4 0 3 7 2 7 1 8 0 7 0 4 3 1 9 8 7 7 1 4 9 9 3 2 1 7 9 0 2 0 3 3 7\n",
              " [1801] 6 9 2 3 3 7 7 0 0 7 5 2 9 8 7 4 4 2 6 6 1 9 6 8 2 9 0 8 3 1 1 6 3 5 1 1\n",
              " [1837] 1 3 1 2 3 0 2 0 1 3 5 5 7 4 8 9 6 9 6 8 3 6 6 8 5 1 4 2 4 4 5 1 1 9 0 2\n",
              " [1873] 4 9 5 7 1 8 3 5 6 9 8 7 1 1 6 7 6 3 2 2 0 8 9 2 5 1 0 8 1 4 5 7 9 6 9 0\n",
              " [1909] 6 1 5 5 8 3 8 2 6 5 0 7 4 6 1 3 4 7 3 2 3 4 2 5 2 7 1 7 2 6 4 1 5 7 8 6\n",
              " [1945] 0 1 8 2 5 7 7 6 9 3 5 2 4 2 4 0 8 8 3 4 9 2 7 5 8 6 5 6 0 8 6 7 3 6 4 9\n",
              " [1981] 4 6 6 3 2 4 1 0 1 4 6 2 9 1 1 0 6 3 9 5 6 5 6 5 9 4 6 4 3 9 1 3 4 1 9 1\n",
              " [2017] 7 1 1 9 3 5 4 0 7 3 6 1 7 5 5 3 3 0 1 5 7 5 8 6 5 1 0 4 2 3 4 6 7 9 8 1\n",
              " [2053] 8 9 9 2 8 6 2 7 0 0 6 7 5 8 6 0 9 3 7 1 3 5 4 3 3 5 5 6 3 0 2 3 4 2 3 0\n",
              " [2089] 9 9 4 7 2 8 4 7 0 6 2 8 5 2 8 5 7 3 0 8 2 7 2 8 2 5 5 7 6 4 6 8 4 8 2 7\n",
              " [2125] 4 9 2 0 3 9 9 6 7 2 5 1 1 1 2 3 6 7 8 7 6 4 8 9 4 8 6 3 8 3 1 0 6 2 2 5\n",
              " [2161] 6 9 5 8 1 4 1 7 8 4 6 1 8 4 3 1 2 8 0 8 5 9 1 4 2 0 2 7 0 9 0 2 5 7 6 7\n",
              " [2197] 9 4 2 6 2 4 4 8 0 4 4 5 8 0 6 8 9 8 5 6 9 0 4 8 7 1 3 4 5 8 0 9 1 3 3 6\n",
              " [2233] 9 8 7 1 0 5 7 1 7 5 2 7 9 1 8 5 2 4 9 4 7 2 2 3 4 9 1 9 2 1 7 9 4 4 1 6\n",
              " [2269] 7 2 7 8 8 1 9 7 1 1 7 5 3 3 5 1 3 7 6 1 3 8 7 3 9 6 0 0 2 8 8 2 3 7 1 3\n",
              " [2305] 0 3 4 4 3 8 9 2 3 9 7 1 1 7 0 4 9 6 5 9 1 7 0 2 0 0 4 6 7 0 7 1 4 6 4 5\n",
              " [2341] 4 9 9 1 7 9 5 3 3 8 2 3 6 2 2 1 1 1 1 1 6 9 8 4 3 7 1 6 4 8 0 4 7 4 2 4\n",
              " [2377] 0 7 0 1 9 8 8 6 0 0 4 1 6 8 2 2 3 8 4 8 2 2 1 7 5 4 4 0 4 3 9 7 3 1 0 1\n",
              " [2413] 2 5 9 2 1 0 1 8 9 1 4 8 3 8 4 3 6 2 8 3 2 2 1 0 4 2 9 2 4 3 7 9 1 5 2 4\n",
              " [2449] 9 0 3 8 5 3 6 0 9 4 6 2 5 0 2 7 4 6 6 8 6 6 8 6 9 1 7 2 5 9 9 0 7 2 7 6\n",
              " [2485] 7 0 6 5 4 4 7 2 0 9 9 2 2 9 4 4 2 3 3 2 1 7 0 7 6 4 1 3 8 7 4 5 9 2 5 1\n",
              " [2521] 8 7 3 7 1 5 3 0 9 1 4 0 6 3 3 6 0 4 9 7 5 1 6 8 9 5 5 7 9 3 8 3 8 1 5 3\n",
              " [2557] 5 0 5 5 3 8 6 7 7 7 3 7 0 5 9 0 2 5 5 3 1 7 7 8 6 5 5 3 8 9 5 3 7 9 1 7\n",
              " [2593] 0 0 3 7 2 3 2 1 8 6 2 9 5 7 5 1 8 6 2 5 1 4 8 4 5 8 3 0 6 2 7 3 3 2 1 0\n",
              " [2629] 7 3 4 0 3 9 3 2 8 9 0 3 8 0 7 6 5 4 7 3 0 0 8 6 2 5 1 1 0 0 4 4 0 1 2 3\n",
              " [2665] 2 7 7 8 5 2 5 7 6 9 1 4 1 6 4 2 4 3 5 4 3 9 5 0 1 5 3 8 9 1 9 7 9 5 5 2\n",
              " [2701] 7 4 6 0 1 1 1 0 4 4 7 6 3 0 0 4 3 0 6 1 9 6 1 3 8 1 2 5 6 2 7 3 6 0 1 9\n",
              " [2737] 7 6 6 8 9 2 9 5 8 3 1 0 0 7 6 6 2 1 6 9 3 1 8 6 9 0 6 0 0 0 6 3 5 9 3 4\n",
              " [2773] 5 5 8 5 3 0 4 0 2 9 6 8 2 3 1 2 1 1 5 6 9 8 0 6 6 5 5 3 8 6 2 1 4 5 4 3\n",
              " [2809] 7 8 3 0 9 3 5 1 1 0 4 4 7 0 1 7 0 1 6 1 4 5 6 6 5 7 8 4 4 7 2 5 3 7 0 7\n",
              " [2845] 7 9 6 4 2 8 5 7 8 3 9 5 8 9 9 8 6 2 8 9 2 3 6 1 1 8 9 3 4 0 7 9 6 7 1 4\n",
              " [2881] 1 3 4 9 3 1 4 7 7 4 7 2 9 3 0 8 0 8 4 0 4 4 1 5 2 8 3 4 9 5 2 8 1 5 3 7\n",
              " [2917] 9 4 2 5 6 2 5 9 3 5 9 2 1 9 5 3 0 6 9 8 4 0 4 7 2 9 0 1 0 3 1 6 5 8 1 5\n",
              " [2953] 3 5 0 3 5 5 9 2 8 7 0 4 9 1 9 7 7 5 5 2 0 9 1 8 6 2 3 9 6 2 1 9 1 3 5 5\n",
              " [2989] 0 3 8 3 3 7 6 6 0 1 4 0 6 9 8 1 2 9 9 5 9 7 3 7 8 0 1 3 0 4 6 1 0 2 5 8\n",
              " [3025] 4 4 1 1 5 4 8 6 0 6 9 2 6 2 7 1 7 9 4 0 0 3 8 2 2 3 1 6 0 5 7 7 9 2 6 7\n",
              " [3061] 9 7 8 6 8 8 4 6 8 4 1 2 8 2 3 9 4 0 3 7 3 2 3 3 7 3 4 0 6 2 0 8 1 5 3 5\n",
              " [3097] 4 1 7 1 5 7 5 7 3 2 2 7 3 7 3 7 8 5 4 5 2 5 6 5 3 6 7 4 1 7 1 5 2 3 6 3\n",
              " [3133] 1 4 2 6 7 4 3 8 0 6 2 1 6 5 3 9 1 9 3 2 1 8 4 4 6 5 8 6 9 7 7 8 6 9 7 3\n",
              " [3169] 9 4 0 5 4 6 4 1 2 3 0 0 2 6 6 5 7 0 8 6 4 7 9 0 7 3 4 2 1 8 8 5 9 2 7 1\n",
              " [3205] 8 8 8 2 7 6 0 1 2 7 1 0 8 3 6 0 5 3 6 2 8 9 0 1 4 2 1 1 4 4 4 4 7 1 6 2\n",
              " [3241] 9 9 0 0 1 8 8 4 3 4 2 0 6 1 6 1 2 2 2 1 2 3 7 8 1 0 5 2 1 6 6 0 1 6 2 5\n",
              " [3277] 1 7 4 8 2 1 4 3 7 3 9 9 4 9 3 4 7 2 7 5 7 0 4 3 3 2 6 7 6 0 0 6 7 7 0 5\n",
              " [3313] 5 8 1 0 7 0 2 8 1 5 0 8 8 0 3 2 7 7 8 6 4 7 5 5 5 2 9 2 8 4 6 8 6 5 0 0\n",
              " [3349] 8 7 6 1 7 1 1 2 7 4 0 0 7 7 6 3 8 6 4 2 0 9 4 0 5 7 8 2 7 4 7 1 1 3 6 6\n",
              " [3385] 2 9 1 9 4 8 3 6 9 5 9 6 2 4 6 7 7 0 6 6 9 9 8 3 5 3 4 9 0 0 5 2 5 0 7 1\n",
              " [3421] 1 1 6 7 6 7 9 6 6 4 1 4 3 1 1 2 2 4 1 0 8 7 6 3 4 0 0 6 3 3 0 7 1 7 1 1\n",
              " [3457] 3 1 0 9 9 7 5 4 1 4 8 9 5 3 5 1 9 8 2 3 3 9 9 0 1 0 2 9 3 9 3 3 6 2 4 9\n",
              " [3493] 8 3 7 4 0 4 7 8 4 9 8 1 9 7 5 9 2 8 2 2 0 2 2 3 8 4 6 8 4 8 2 4 6 7 9 3\n",
              " [3529] 3 9 4 3 1 4 4 7 0 5 9 6 0 4 4 4 4 6 1 2 3 2 6 4 5 9 6 8 5 6 0 5 6 4 1 8\n",
              " [3565] 6 5 2 8 4 5 5 4 7 7 0 7 8 2 2 3 7 0 1 8 0 7 1 9 8 7 5 5 9 1 7 5 4 3 1 2\n",
              " [3601] 2 1 6 6 0 1 1 4 0 7 4 2 4 0 6 4 7 6 9 5 3 4 6 5 0 1 8 8 2 8 3 5 7 8 0 8\n",
              " [3637] 5 7 1 1 0 1 3 7 8 5 0 7 1 1 0 1 1 4 5 2 7 6 2 3 0 2 8 5 9 6 9 7 2 1 3 6\n",
              " [3673] 4 1 8 2 4 0 5 1 0 2 2 6 4 4 3 9 6 1 6 5 7 9 2 0 2 6 0 1 4 3 5 2 8 8 0 8\n",
              " [3709] 8 9 0 9 6 7 6 3 9 3 4 7 7 7 4 9 0 6 4 8 4 2 7 2 8 1 0 0 7 8 3 3 3 1 3 7\n",
              " [3745] 6 1 3 1 6 6 5 7 4 7 5 9 5 8 4 9 9 1 6 5 0 1 3 7 0 3 4 8 2 2 0 2 8 1 5 1\n",
              " [3781] 6 8 8 9 1 2 1 3 5 1 0 9 4 4 8 3 2 5 9 7 6 6 2 0 0 0 5 8 8 1 5 2 3 8 5 1\n",
              " [3817] 8 2 6 4 9 9 6 2 3 3 5 6 4 8 0 9 2 8 3 6 7 5 1 2 9 4 9 1 2 8 6 0 7 0 9 1\n",
              " [3853] 1 6 7 5 9 9 1 9 5 9 2 5 0 4 1 0 8 9 0 8 9 8 9 4 2 5 7 9 8 9 8 0 9 9 6 8\n",
              " [3889] 9 9 5 9 8 5 1 0 3 3 5 2 1 6 5 0 2 8 2 5 6 2 3 0 2 2 6 4 3 5 5 1 7 2 1 6\n",
              " [3925] 9 1 9 9 5 5 1 6 2 2 8 6 7 1 4 6 0 6 0 3 3 2 2 3 6 8 9 8 5 3 8 5 4 5 2 0\n",
              " [3961] 5 6 3 2 8 3 9 9 5 7 9 4 6 7 1 3 7 3 6 6 0 9 0 1 9 4 2 8 8 0 1 6 9 7 5 3\n",
              " [3997] 4 7 4 9 9 4 3 6 3 1 1 7 6 9 1 8 4 1 1 9 9 4 3 6 8 1 6 0 4 1 3 1 7 4 9 5\n",
              " [4033] 1 0 0 1 1 6 2 1 9 8 4 0 3 6 4 9 0 7 1 6 5 7 5 2 5 1 8 5 4 7 0 6 7 3 2 5\n",
              " [4069] 8 1 0 4 5 7 1 3 5 1 3 0 0 6 0 7 3 1 8 3 9 7 0 0 8 9 5 9 8 3 2 7 2 9 7 2\n",
              " [4105] 1 1 3 7 5 3 1 9 8 2 2 2 8 8 5 7 3 8 9 8 8 6 8 2 3 9 7 5 6 2 9 2 8 8 1 6\n",
              " [4141] 8 8 7 9 1 8 0 1 7 2 0 7 5 1 9 0 2 0 9 8 6 2 3 7 3 8 0 2 1 1 1 1 4 2 9 7\n",
              " [4177] 7 5 1 1 2 1 9 9 9 1 0 2 0 2 1 1 4 6 4 1 5 4 9 7 7 1 5 6 2 2 2 8 0 6 9 6\n",
              " [4213] 1 9 7 7 1 4 8 5 3 4 3 4 7 7 5 0 7 4 8 8 1 5 3 9 5 9 7 6 9 0 3 6 3 9 8 2\n",
              " [4249] 8 1 2 8 6 8 5 5 3 9 4 9 2 5 1 5 1 4 4 1 4 4 3 5 9 1 2 2 3 3 0 2 9 0 0 9\n",
              " [4285] 9 6 0 9 3 7 8 4 1 9 7 7 2 7 9 9 5 9 5 1 1 8 3 5 1 9 5 3 5 4 9 5 9 3 1 9\n",
              " [4321] 0 9 7 5 4 9 2 0 1 0 5 1 4 9 3 3 6 1 5 2 5 2 2 0 9 2 6 6 0 1 2 0 3 0 2 5\n",
              " [4357] 5 7 9 3 3 0 8 9 5 0 3 2 5 4 0 8 8 4 5 8 8 4 5 4 8 5 4 9 2 2 1 2 6 8 8 7\n",
              " [4393] 0 3 6 6 4 3 8 8 7 2 2 0 0 9 3 9 9 1 9 8 6 6 4 2 6 9 2 8 5 4 5 7 9 4 9 2\n",
              " [4429] 1 8 3 4 0 7 8 3 9 3 4 6 5 6 2 3 9 2 6 0 0 6 1 2 8 7 9 8 2 0 4 7 7 5 0 5\n",
              " [4465] 6 4 6 7 4 3 0 7 5 0 7 4 2 0 8 9 9 4 2 4 6 7 8 7 6 9 4 1 3 7 3 0 8 7 7 6\n",
              " [4501] 1 3 9 2 2 9 2 1 8 3 2 9 6 8 4 0 1 2 8 4 5 2 7 8 1 1 3 0 3 5 7 0 3 1 9 3\n",
              " [4537] 5 3 1 7 7 3 0 8 4 8 2 6 5 2 9 7 3 9 0 9 9 6 4 2 9 7 2 1 1 6 7 4 7 5 9 8\n",
              " [4573] 8 2 1 4 4 5 7 6 1 3 2 5 9 9 3 6 1 1 4 6 9 7 2 1 5 1 4 6 3 4 1 1 0 3 1 6\n",
              " [4609] 8 4 9 0 7 3 0 2 9 0 6 6 6 3 6 7 7 2 8 6 0 8 3 0 2 9 8 3 2 5 3 8 8 0 0 1\n",
              " [4645] 9 5 1 3 9 6 0 1 4 1 7 1 2 3 7 9 7 4 9 9 3 9 2 8 2 7 1 8 0 9 1 0 1 7 7 9\n",
              " [4681] 6 9 9 9 2 1 6 1 3 5 7 1 9 7 6 4 5 7 6 6 9 9 6 3 6 2 9 8 1 2 2 5 5 2 3 7\n",
              " [4717] 2 1 0 1 0 4 5 2 8 2 8 3 5 1 7 3 1 1 2 9 7 8 4 0 3 0 7 8 8 4 7 7 8 5 8 4\n",
              " [4753] 9 8 1 3 8 0 3 1 7 9 5 5 1 6 5 7 4 9 3 5 4 7 1 2 0 8 1 6 0 7 3 4 7 3 9 6\n",
              " [4789] 0 8 6 4 8 7 7 9 3 8 6 9 7 2 3 4 0 2 1 3 3 5 5 7 2 4 6 7 2 8 3 0 8 7 8 4\n",
              " [4825] 0 8 4 4 5 8 5 6 6 3 0 9 3 7 6 8 9 3 4 9 5 8 9 1 2 8 8 6 8 1 3 7 9 0 1 1\n",
              " [4861] 9 7 0 8 1 7 4 5 7 1 2 1 1 3 9 6 2 1 2 8 8 7 6 6 9 3 7 0 5 2 8 0 5 4 3 8\n",
              " [4897] 4 6 6 2 7 9 5 1 3 2 4 3 6 1 9 4 4 7 6 5 4 1 9 9 2 7 8 0 1 3 6 1 3 4 1 1\n",
              " [4933] 1 5 6 0 7 0 7 2 3 2 5 2 2 9 4 9 8 1 2 1 6 1 2 7 4 0 0 0 8 2 2 9 2 2 1 9\n",
              " [4969] 9 2 7 5 1 3 4 9 4 1 8 5 6 2 8 3 1 2 8 4 9 9 3 7 0 7 7 2 3 2 4 0 3 9 9 8\n",
              " [5005] 4 1 0 6 0 9 6 8 6 1 1 9 8 9 2 3 5 5 9 4 2 1 9 4 3 9 6 0 4 0 6 0 1 2 3 4\n",
              " [5041] 7 8 9 0 1 2 3 4 7 8 9 0 1 2 3 4 5 6 7 8 9 8 3 4 7 8 6 2 4 0 9 7 1 9 3 8\n",
              " [5077] 4 7 3 0 9 1 4 5 4 6 2 0 6 2 1 1 1 1 7 2 4 7 5 2 9 4 5 8 4 2 9 7 0 0 7 5\n",
              " [5113] 1 1 7 6 6 6 8 2 2 7 7 4 0 2 4 2 1 8 9 6 1 0 5 9 6 9 8 0 3 0 8 3 9 6 3 0\n",
              " [5149] 1 2 3 4 5 6 7 0 1 2 3 4 5 6 7 8 9 0 1 2 3 4 5 6 7 8 5 4 8 7 4 7 7 3 9 8\n",
              " [5185] 8 3 1 5 8 2 7 4 2 1 5 4 5 5 8 6 4 4 4 1 8 7 5 5 1 8 9 1 3 6 3 3 2 2 6 9\n",
              " [5221] 9 6 5 5 3 3 8 1 6 5 6 8 1 9 7 6 8 3 7 4 7 0 9 0 0 3 7 9 3 0 2 0 1 0 1 0\n",
              " [5257] 4 0 1 0 4 7 9 6 2 6 2 2 9 9 0 1 2 3 4 5 6 7 8 9 0 1 2 3 4 5 6 7 8 9 0 1\n",
              " [5293] 2 3 4 5 6 7 8 9 8 0 5 6 6 0 8 0 2 3 7 9 4 7 1 9 1 7 1 4 0 0 4 1 7 5 7 1\n",
              " [5329] 3 3 3 6 6 9 7 4 3 0 2 5 2 6 0 8 9 4 3 5 4 8 1 5 9 0 6 4 3 6 3 3 8 1 4 7\n",
              " [5365] 5 7 2 2 0 0 1 7 7 9 5 9 8 9 6 8 8 2 3 6 1 2 9 8 9 5 2 6 2 4 8 4 6 5 0 1\n",
              " [5401] 5 6 7 8 9 0 1 2 3 6 5 6 7 8 9 0 1 2 3 4 5 6 7 8 9 7 4 2 0 9 0 1 5 8 8 0\n",
              " [5437] 2 7 8 4 4 6 1 0 4 5 3 9 4 2 0 5 0 1 3 2 9 8 6 0 1 1 8 0 4 7 7 6 3 6 0 7\n",
              " [5473] 3 5 4 2 4 1 8 3 5 6 7 0 6 7 1 2 5 8 1 9 3 8 2 8 7 6 7 1 4 6 2 9 3 0 1 2\n",
              " [5509] 3 4 5 6 7 0 1 2 3 4 5 0 1 2 8 9 1 4 0 9 5 0 8 0 7 7 1 1 2 9 3 6 7 2 3 8\n",
              " [5545] 1 2 9 8 8 7 1 7 1 1 0 3 4 2 6 4 7 4 2 7 4 9 1 0 6 8 5 5 5 3 5 9 7 4 8 5\n",
              " [5581] 9 6 9 3 0 3 8 9 1 8 1 6 0 0 1 2 3 4 5 6 7 8 9 0 1 2 3 4 5 6 7 8 9 0 1 2\n",
              " [5617] 3 4 5 6 7 8 9 3 5 3 2 9 3 2 1 4 5 5 3 3 2 1 3 9 7 2 5 2 8 9 1 8 8 7 8 1\n",
              " [5653] 0 0 7 7 8 7 5 0 6 1 5 7 4 6 1 2 5 0 7 9 9 0 3 8 2 4 8 1 8 6 5 9 0 0 0 3\n",
              " [5689] 7 1 6 4 2 6 6 0 4 5 4 1 3 8 6 3 9 9 5 9 3 7 8 5 6 4 7 6 2 2 0 9 4 0 1 2\n",
              " [5725] 3 4 5 6 7 8 9 0 1 2 7 5 6 0 1 2 3 4 5 6 8 7 1 3 2 6 0 7 5 9 9 6 0 9 4 1\n",
              " [5761] 3 2 1 2 3 8 3 2 6 5 6 8 2 7 4 8 1 8 0 5 3 9 4 1 9 2 1 9 6 7 9 0 4 6 1 7\n",
              " [5797] 3 8 7 2 9 6 5 8 3 9 0 5 7 1 6 1 0 9 3 3 4 4 0 6 2 5 4 2 3 4 6 0 0 2 0 1\n",
              " [5833] 4 5 6 7 8 9 0 1 2 3 7 5 6 7 8 0 1 2 3 4 5 6 7 8 9 8 7 1 3 7 5 2 8 0 7 5\n",
              " [5869] 9 9 0 9 1 1 5 8 8 6 3 2 1 8 3 2 6 5 6 0 0 1 0 5 3 1 9 2 1 9 6 0 4 6 1 7\n",
              " [5905] 3 8 7 2 9 6 5 8 3 5 7 1 6 1 0 9 6 2 5 4 2 3 4 4 6 0 0 2 0 1 2 3 9 3 6 7\n",
              " [5941] 8 9 0 1 2 3 4 5 6 7 8 9 0 1 2 8 4 5 6 7 8 9 8 6 5 0 6 8 9 4 1 9 5 9 0 4\n",
              " [5977] 8 9 1 4 0 5 5 2 1 5 4 0 7 6 0 1 7 0 6 8 9 5 1 7 9 8 6 0 8 1 7 7 1 3 2 5\n",
              " [6013] 1 4 2 0 0 7 8 4 6 4 9 9 8 4 7 2 5 6 3 6 9 6 3 2 2 4 6 9 0 2 5 5 1 3 3 9\n",
              " [6049] 7 8 7 2 2 5 7 9 8 2 1 3 1 3 0 1 2 3 4 5 6 7 8 9 0 1 2 3 4 5 6 7 8 9 0 1\n",
              " [6085] 2 3 4 5 6 7 8 9 1 2 6 5 3 0 7 0 4 1 4 3 6 7 2 3 1 2 1 2 9 6 0 1 3 0 2 7\n",
              " [6121] 5 7 6 2 9 1 9 0 6 0 6 0 2 0 6 1 5 8 4 3 0 1 5 4 4 8 5 7 5 7 8 3 4 8 8 5\n",
              " [6157] 2 9 7 1 3 8 1 0 7 5 3 6 3 4 7 7 9 9 3 4 4 3 8 6 2 0 1 2 3 4 5 6 7 8 9 0\n",
              " [6193] 1 2 3 4 5 6 7 8 9 0 1 2 3 4 5 6 7 8 9 0 8 3 9 5 5 2 6 8 4 9 1 7 1 2 3 5\n",
              " [6229] 9 6 9 1 1 1 2 9 5 6 8 1 2 0 7 7 5 8 2 9 8 9 0 4 6 7 1 3 4 5 6 0 3 6 8 7\n",
              " [6265] 0 4 2 7 4 7 5 4 3 4 2 8 1 5 1 2 0 2 5 6 4 3 0 0 0 3 3 5 7 0 6 4 8 8 6 3\n",
              " [6301] 4 6 9 9 8 2 7 7 1 0 1 2 3 4 5 6 7 8 9 0 1 2 3 4 5 6 7 8 0 1 2 3 4 5 6 7\n",
              " [6337] 8 2 1 7 2 5 0 8 0 2 7 8 8 3 6 0 2 7 6 6 1 2 8 8 7 7 4 7 7 3 7 4 5 4 3 3\n",
              " [6373] 8 4 1 1 9 7 4 3 7 3 3 0 2 5 5 6 6 3 5 2 5 9 9 8 4 1 0 6 0 9 6 8 8 5 6 1\n",
              " [6409] 1 9 8 9 2 3 5 5 9 4 2 1 9 2 9 2 0 6 0 4 0 0 1 2 3 4 7 8 9 0 1 2 3 7 8 9\n",
              " [6445] 0 1 2 3 4 7 8 9 7 3 0 3 1 8 7 6 4 0 2 6 8 3 2 8 1 2 0 7 1 0 4 4 5 8 0 6\n",
              " [6481] 2 3 1 5 1 8 5 9 4 0 7 5 8 8 3 8 9 2 6 2 5 3 1 7 3 0 1 9 9 6 0 3 9 2 8 1\n",
              " [6517] 4 3 5 2 9 2 5 8 9 5 0 1 2 4 5 6 0 1 2 3 4 5 6 7 1 2 3 4 5 1 0 4 5 6 6 3\n",
              " [6553] 4 4 2 9 1 0 6 4 9 7 2 3 3 9 2 0 9 3 3 7 1 5 2 3 1 7 8 4 0 2 4 0 2 4 7 8\n",
              " [6589] 0 7 0 6 9 3 2 8 6 7 5 7 5 1 0 7 1 6 7 2 9 7 9 5 8 6 2 6 2 8 1 7 5 0 1 1\n",
              " [6625] 3 8 4 9 1 8 6 8 9 0 1 2 3 4 5 6 7 8 9 0 1 2 3 4 7 8 9 5 1 7 8 9 9 8 9 8\n",
              " [6661] 4 1 7 7 3 3 7 6 6 6 1 9 0 1 7 6 3 2 1 7 1 3 9 1 7 6 8 4 1 4 3 6 9 6 1 4\n",
              " [6697] 4 7 2 4 4 0 1 2 3 4 5 6 7 8 9 0 1 2 3 4 5 6 9 0 1 2 3 4 7 8 1 3 5 1 7 7\n",
              " [6733] 2 1 4 8 3 4 4 3 9 7 4 1 2 3 5 9 1 6 0 1 0 0 2 3 7 1 1 4 0 4 7 3 6 8 0 3\n",
              " [6769] 7 4 0 6 9 2 6 5 8 6 9 0 4 0 6 6 9 2 0 9 5 1 3 7 6 9 3 0 2 2 0 1 2 3 4 5\n",
              " [6805] 6 7 8 9 0 1 2 3 4 5 6 7 8 9 0 1 2 3 4 5 6 7 8 9 2 1 7 2 5 0 8 0 2 7 8 8\n",
              " [6841] 3 0 6 0 2 7 6 4 1 2 8 8 7 7 4 7 7 3 7 4 5 4 3 3 8 4 5 4 1 1 9 7 4 3 7 3\n",
              " [6877] 3 0 2 5 5 6 3 1 5 2 5 9 9 8 4 1 0 6 0 9 6 8 8 5 6 1 1 9 8 9 2 3 5 5 9 4\n",
              " [6913] 2 1 9 4 9 1 3 9 2 0 6 0 4 0 6 0 1 2 3 4 5 6 7 8 9 0 1 2 3 4 5 6 7 8 9 0\n",
              " [6949] 1 2 3 4 5 6 7 8 9 3 8 0 7 1 0 7 5 5 6 9 0 1 0 0 8 3 4 3 1 5 0 0 9 5 3 4\n",
              " [6985] 9 3 7 6 9 2 4 5 7 2 6 4 9 4 9 4 1 2 2 5 8 1 3 2 9 4 3 8 2 2 1 2 8 6 5 1\n",
              " [7021] 6 7 2 1 3 9 3 8 7 5 7 0 7 4 8 8 5 0 6 6 3 7 6 9 9 4 8 4 1 0 6 6 0 1 2 3\n",
              " [7057] 4 5 6 7 8 9 0 1 2 3 4 5 6 7 8 9 0 1 2 3 4 5 6 7 8 9 7 4 0 4 0 1 7 9 5 1\n",
              " [7093] 4 2 8 9 4 3 7 8 2 4 4 3 3 6 9 9 5 8 6 7 0 6 8 2 6 3 9 3 2 8 6 1 7 4 8 8\n",
              " [7129] 9 0 3 3 9 0 5 2 9 4 1 0 3 7 5 8 7 7 8 2 9 7 1 2 6 4 2 5 2 3 6 6 5 0 0 2\n",
              " [7165] 8 1 6 1 0 4 3 1 6 1 9 0 1 4 5 6 7 8 9 1 2 3 4 5 6 7 0 1 2 3 4 5 6 7 8 9\n",
              " [7201] 8 4 0 0 7 2 4 3 8 6 6 3 2 6 3 3 3 1 4 7 8 0 3 1 9 0 1 9 1 2 7 0 1 3 8 2\n",
              " [7237] 9 2 7 6 5 5 9 9 8 2 9 1 3 2 3 4 3 1 9 0 9 3 6 8 7 0 1 0 5 8 2 7 7 0 1 2\n",
              " [7273] 3 4 5 6 7 8 9 0 1 2 3 4 5 6 7 8 9 0 1 2 3 4 5 6 7 8 9 1 7 4 8 1 5 6 5 7\n",
              " [7309] 2 8 6 3 3 8 6 5 4 0 9 1 7 2 9 1 5 1 3 2 2 3 0 6 4 3 7 6 9 0 4 8 1 4 0 6\n",
              " [7345] 1 2 6 9 2 2 3 5 5 1 0 7 7 9 6 2 9 4 7 0 2 3 4 0 0 8 8 8 5 1 3 7 4 9 8 8\n",
              " [7381] 9 0 9 8 9 0 2 6 5 6 7 4 7 5 4 1 3 5 3 1 2 3 4 5 6 1 2 3 4 6 0 1 2 4 5 6\n",
              " [7417] 7 8 1 7 2 4 1 4 1 4 9 6 8 4 5 3 7 8 9 3 3 5 6 7 0 6 1 6 8 7 0 1 5 0 8 5\n",
              " [7453] 0 1 5 8 4 2 3 9 7 6 9 1 9 0 6 7 1 2 3 9 2 4 5 5 3 7 5 3 1 8 2 2 3 0 2 9\n",
              " [7489] 4 9 7 0 2 7 4 9 9 2 5 9 8 3 8 6 7 0 0 1 2 3 4 5 6 7 8 9 0 1 2 3 4 5 6 7\n",
              " [7525] 8 9 0 1 2 3 4 5 6 7 8 9 0 0 7 2 6 5 5 3 7 8 6 6 6 6 4 3 8 8 3 0 1 9 0 5\n",
              " [7561] 4 1 9 1 2 7 0 1 3 8 2 9 2 7 4 2 6 5 5 9 9 1 1 5 7 6 8 2 9 4 3 1 9 0 9 3\n",
              " [7597] 6 8 7 0 1 0 5 8 2 7 7 0 1 2 3 4 5 6 7 8 9 0 1 2 3 4 5 8 9 0 1 2 3 4 5 6\n",
              " [7633] 7 8 9 2 1 2 1 3 9 9 8 5 3 7 0 7 7 5 7 9 9 4 7 0 3 4 1 5 8 1 4 8 4 1 8 6\n",
              " [7669] 6 4 6 0 5 5 3 3 5 7 2 5 9 6 9 2 6 2 1 2 0 8 3 8 3 0 8 7 4 9 5 0 9 7 0 0\n",
              " [7705] 4 6 0 9 1 6 2 7 6 8 3 5 2 1 8 3 8 6 1 0 2 1 4 0 1 2 3 4 5 6 7 8 9 0 1 2\n",
              " [7741] 3 4 5 6 7 8 9 0 1 2 3 4 5 6 7 8 9 7 6 4 7 6 2 3 4 8 7 8 6 9 8 3 2 2 8 4\n",
              " [7777] 8 5 6 5 0 2 0 1 1 2 9 6 8 2 1 0 6 5 2 9 7 5 3 9 3 7 1 8 3 8 1 9 5 5 0 1\n",
              " [7813] 1 9 8 2 6 0 4 5 0 3 1 8 6 7 5 9 9 3 0 3 1 4 4 0 4 9 0 1 2 3 5 6 7 8 0 1\n",
              " [7849] 2 3 5 6 7 8 9 0 1 2 3 5 6 7 8 9 9 7 0 9 0 1 5 8 8 0 9 3 2 7 8 4 6 1 0 4\n",
              " [7885] 9 4 2 0 5 0 1 6 9 3 2 9 1 6 0 1 1 8 7 7 6 3 6 0 7 2 4 1 7 0 6 7 1 2 5 8\n",
              " [7921] 1 2 2 8 7 6 8 7 1 6 2 9 3 0 1 2 3 4 5 6 7 8 9 0 1 2 3 4 5 6 7 8 9 0 1 2\n",
              " [7957] 3 4 5 6 7 8 9 8 9 5 7 0 3 1 6 8 4 1 5 6 4 2 7 8 1 3 4 3 4 7 2 0 5 0 1 9\n",
              " [7993] 2 3 2 3 5 5 7 8 4 9 9 7 1 1 9 0 7 8 3 4 8 6 3 8 0 9 6 2 1 0 1 0 6 2 3 8\n",
              " [8029] 9 0 7 2 3 4 5 5 2 8 5 4 6 6 6 7 9 1 8 2 1 5 3 4 7 9 4 0 0 0 1 1 3 4 5 6\n",
              " [8065] 7 8 9 0 1 2 3 4 5 6 7 8 9 0 1 2 3 4 5 6 9 0 1 3 1 5 1 2 4 9 8 4 6 8 0 1\n",
              " [8101] 1 9 2 6 6 8 7 4 2 9 7 0 2 1 0 3 6 0 1 2 3 4 5 6 7 8 9 0 1 2 3 4 5 6 7 8\n",
              " [8137] 9 0 1 2 3 4 5 6 7 8 9 8 6 5 9 7 0 2 3 4 3 8 5 1 5 2 3 0 1 2 1 3 2 6 5 3\n",
              " [8173] 0 7 2 7 4 6 4 0 5 9 9 8 9 5 3 1 7 4 7 6 5 4 0 0 6 6 2 0 6 3 7 7 4 4 3 9\n",
              " [8209] 2 8 9 6 0 9 5 3 8 8 7 1 4 0 4 8 5 2 3 9 0 1 9 1 5 1 7 4 8 6 2 1 6 8 8 0\n",
              " [8245] 1 2 3 4 7 8 9 0 1 2 3 4 6 7 8 9 0 1 2 3 4 7 8 9 1 4 5 3 3 0 9 5 4 9 0 8\n",
              " [8281] 4 6 7 0 7 7 1 6 9 1 3 6 2 3 8 2 3 8 9 5 8 8 7 1 7 1 1 0 3 4 2 4 4 7 4 2\n",
              " [8317] 7 4 2 9 2 7 9 2 1 6 6 5 3 4 8 5 9 6 9 0 6 3 0 8 1 6 0 0 1 2 3 4 5 6 7 0\n",
              " [8353] 1 2 3 4 7 8 9 0 1 2 3 4 7 2 5 1 6 4 3 9 9 0 9 7 1 6 4 3 6 2 0 9 8 6 5 7\n",
              " [8389] 0 0 1 7 4 3 2 4 1 3 7 6 4 7 7 7 9 8 4 3 8 2 8 3 5 8 0 5 4 7 1 3 1 7 9 6\n",
              " [8425] 2 0 9 1 7 3 3 9 1 6 4 3 9 8 2 1 8 6 4 1 5 5 6 5 0 1 2 3 4 5 6 7 8 9 0 1\n",
              " [8461] 2 3 4 5 6 7 8 9 0 1 2 3 4 5 6 7 8 9 6 9 7 0 2 3 4 3 8 5 1 3 0 1 2 1 3 2\n",
              " [8497] 0 7 2 6 4 0 3 9 9 8 9 5 3 1 7 4 7 0 0 6 6 6 3 7 4 2 8 9 8 7 1 9 0 4 8 5\n",
              " [8533] 2 3 9 0 1 9 1 5 1 7 6 1 2 1 6 8 0 1 2 3 4 5 6 7 8 9 0 1 2 3 4 5 6 7 8 0\n",
              " [8569] 1 2 3 5 6 7 8 1 0 4 5 6 6 3 4 4 2 8 1 0 6 4 9 7 2 9 2 0 9 3 3 9 1 5 2 3\n",
              " [8605] 1 6 7 3 7 8 4 0 2 4 0 2 4 7 8 0 7 0 6 9 3 2 4 8 6 0 5 7 5 1 0 8 1 6 7 2\n",
              " [8641] 9 7 9 5 6 5 2 6 2 8 1 7 5 5 7 3 5 0 1 1 3 8 4 9 4 5 1 8 6 8 9 0 1 2 3 4\n",
              " [8677] 5 6 7 8 9 0 1 2 3 4 5 6 7 8 9 0 1 2 3 4 5 6 7 8 9 3 5 3 2 9 3 2 1 4 5 5\n",
              " [8713] 2 3 2 1 3 9 7 2 1 2 8 9 1 8 8 7 8 1 0 0 6 7 7 8 7 5 0 6 1 5 7 4 6 1 2 5\n",
              " [8749] 0 7 9 9 0 3 4 4 8 4 1 8 6 5 9 0 0 0 3 7 1 6 4 6 0 4 5 4 1 3 8 6 3 9 9 5\n",
              " [8785] 9 3 7 8 5 6 4 7 6 2 2 0 9 4 0 1 2 3 4 5 6 7 8 9 0 1 2 3 4 5 6 7 8 9 0 1\n",
              " [8821] 2 3 4 5 6 7 8 9 6 4 2 6 4 7 5 5 4 7 2 9 3 9 3 8 2 0 9 5 6 0 1 0 6 5 3 5\n",
              " [8857] 3 8 0 0 3 4 1 5 3 0 8 3 0 6 2 7 8 1 7 1 3 8 5 4 2 0 9 7 6 7 4 1 6 2 6 7\n",
              " [8893] 1 9 8 0 6 9 4 9 9 6 2 3 7 1 9 2 2 5 3 7 8 0 1 2 3 4 7 8 9 0 1 2 3 4 7 8\n",
              " [8929] 9 0 1 7 8 9 8 9 2 6 1 3 5 4 8 2 6 4 3 4 5 9 2 0 3 9 4 9 7 3 8 7 4 4 9 8\n",
              " [8965] 5 8 2 6 6 2 3 1 3 2 7 3 1 9 0 1 1 3 5 0 7 8 1 5 1 4 6 0 0 4 9 1 6 6 9 0\n",
              " [9001] 7 6 1 1 0 1 2 3 4 2 2 3 4 5 6 2 0 1 2 2 8 6 3 9 2 1 9 3 9 6 1 7 2 4 4 5\n",
              " [9037] 7 0 0 1 6 6 8 2 7 7 2 4 2 1 6 1 0 6 9 8 3 9 6 3 0 1 2 3 4 5 6 7 8 9 0 1\n",
              " [9073] 2 3 4 5 6 7 8 9 0 1 2 3 4 5 6 7 8 9 1 6 8 9 9 0 1 2 4 4 3 7 4 4 4 0 3 8\n",
              " [9109] 7 5 8 2 1 7 5 3 8 5 2 5 1 1 6 2 1 3 8 6 4 2 6 2 5 5 0 2 8 0 6 8 1 7 9 1\n",
              " [9145] 9 2 6 7 6 6 8 7 4 9 2 1 3 3 0 5 5 8 0 3 7 9 7 0 2 7 9 1 7 8 0 3 5 3 6 0\n",
              " [9181] 1 2 3 4 5 6 7 8 9 0 1 2 3 4 5 6 7 8 9 0 1 2 3 4 7 8 9 6 4 2 6 4 7 8 9 2\n",
              " [9217] 9 3 9 3 0 0 1 0 4 2 6 3 5 3 0 3 4 1 5 3 0 8 3 0 6 1 7 8 0 9 2 6 7 1 9 6\n",
              " [9253] 9 4 9 9 6 7 1 2 5 3 7 8 0 1 2 4 5 6 7 8 9 0 1 3 4 5 6 7 5 0 1 3 4 7 8 9\n",
              " [9289] 7 5 5 1 9 9 7 1 0 0 5 9 7 1 7 2 2 3 6 8 3 2 0 0 6 1 7 5 8 6 2 9 4 8 8 7\n",
              " [9325] 1 0 8 7 7 5 8 5 3 4 6 1 1 5 5 0 7 2 3 6 4 1 2 4 1 5 4 2 0 4 8 6 1 9 0 2\n",
              " [9361] 5 6 9 3 6 3 6 0 1 2 3 4 5 6 7 8 9 0 1 2 3 4 5 6 7 8 9 0 1 2 3 5 6 7 8 1\n",
              " [9397] 0 9 5 7 5 1 8 6 9 0 4 1 9 3 8 4 4 7 0 1 9 2 8 7 8 2 5 9 6 0 6 5 5 3 3 3\n",
              " [9433] 9 8 1 1 0 6 1 0 0 6 2 1 1 3 2 7 7 8 8 7 8 4 6 0 2 0 7 0 3 6 8 7 1 5 9 9\n",
              " [9469] 3 7 2 4 9 4 3 6 2 2 5 3 2 5 5 9 4 1 7 2 0 1 2 3 4 5 6 7 8 9 0 1 2 3 4 5\n",
              " [9505] 6 7 8 9 0 1 2 3 4 5 6 7 8 9 1 0 1 2 7 5 3 4 4 0 0 6 9 6 6 5 7 2 3 4 4 9\n",
              " [9541] 1 4 0 7 9 5 7 2 3 1 4 4 0 9 9 6 1 8 3 3 7 3 9 8 8 4 7 7 6 2 1 9 8 7 8 8\n",
              " [9577] 7 2 2 3 9 3 3 5 5 0 7 4 5 6 5 1 4 1 1 2 8 2 6 1 5 0 1 2 3 4 5 6 7 8 9 0\n",
              " [9613] 1 2 3 4 5 6 7 8 9 0 1 2 3 4 5 6 7 8 8 0 6 0 1 2 3 7 9 4 7 1 9 1 7 1 4 0\n",
              " [9649] 0 1 7 5 7 1 3 3 3 1 6 9 7 1 3 0 7 6 0 8 9 7 3 5 4 8 1 5 9 0 6 3 3 8 1 4\n",
              " [9685] 7 5 2 0 0 1 7 8 9 6 8 8 2 3 6 1 2 9 5 2 0 1 2 3 4 5 6 7 8 9 0 1 2 3 4 5\n",
              " [9721] 6 7 8 9 0 1 2 3 4 6 6 7 8 9 7 4 6 1 4 0 9 9 3 7 8 0 7 5 8 5 3 2 2 0 5 8\n",
              " [9757] 6 0 3 8 1 0 3 0 4 7 4 9 0 9 0 7 1 7 1 6 6 5 6 2 8 7 6 4 9 9 5 3 7 4 3 0\n",
              " [9793] 1 6 6 1 1 3 2 1 0 0 1 2 3 4 7 8 9 0 1 2 3 4 5 6 7 8 0 1 2 3 4 7 8 9 0 8\n",
              " [9829] 3 9 5 5 2 6 8 4 1 7 1 3 3 5 6 9 1 1 1 2 1 2 0 7 7 5 8 2 9 8 6 7 3 4 6 8\n",
              " [9865] 7 0 4 2 7 7 5 4 3 4 2 8 1 5 1 0 2 3 3 5 7 0 6 8 6 3 9 9 8 2 7 7 1 0 1 7\n",
              " [9901] 8 9 0 1 2 3 4 5 6 7 8 0 1 2 3 4 7 8 9 7 8 6 4 1 9 3 8 4 4 7 0 1 9 2 8 7\n",
              " [9937] 8 2 6 0 6 5 3 3 3 9 1 4 0 6 1 0 0 6 2 1 1 7 7 8 4 6 0 7 0 3 6 8 7 1 5 2\n",
              " [9973] 4 9 4 3 6 4 1 7 2 6 5 0 1 2 3 4 5 6 7 8 9 0 1 2 3 4 5 6"
            ]
          },
          "metadata": {}
        }
      ]
    },
    {
      "cell_type": "code",
      "source": [
        "y_test"
      ],
      "metadata": {
        "colab": {
          "base_uri": "https://localhost:8080/"
        },
        "id": "Sbo3Ou98-4qm",
        "outputId": "640db391-6ece-40c4-b966-4f1261c6e3af"
      },
      "execution_count": null,
      "outputs": [
        {
          "output_type": "display_data",
          "data": {
            "text/html": [
              "<style>\n",
              ".list-inline {list-style: none; margin:0; padding: 0}\n",
              ".list-inline>li {display: inline-block}\n",
              ".list-inline>li:not(:last-child)::after {content: \"\\00b7\"; padding: 0 .5ex}\n",
              "</style>\n",
              "<ol class=list-inline><li>7</li><li>2</li><li>1</li><li>0</li><li>4</li><li>1</li><li>4</li><li>9</li><li>5</li><li>9</li><li>0</li><li>6</li><li>9</li><li>0</li><li>1</li><li>5</li><li>9</li><li>7</li><li>3</li><li>4</li><li>9</li><li>6</li><li>6</li><li>5</li><li>4</li><li>0</li><li>7</li><li>4</li><li>0</li><li>1</li><li>3</li><li>1</li><li>3</li><li>4</li><li>7</li><li>2</li><li>7</li><li>1</li><li>2</li><li>1</li><li>1</li><li>7</li><li>4</li><li>2</li><li>3</li><li>5</li><li>1</li><li>2</li><li>4</li><li>4</li><li>6</li><li>3</li><li>5</li><li>5</li><li>6</li><li>0</li><li>4</li><li>1</li><li>9</li><li>5</li><li>7</li><li>8</li><li>9</li><li>3</li><li>7</li><li>4</li><li>6</li><li>4</li><li>3</li><li>0</li><li>7</li><li>0</li><li>2</li><li>9</li><li>1</li><li>7</li><li>3</li><li>2</li><li>9</li><li>7</li><li>7</li><li>6</li><li>2</li><li>7</li><li>8</li><li>4</li><li>7</li><li>3</li><li>6</li><li>1</li><li>3</li><li>6</li><li>9</li><li>3</li><li>1</li><li>4</li><li>1</li><li>7</li><li>6</li><li>9</li><li>6</li><li>0</li><li>5</li><li>4</li><li>9</li><li>9</li><li>2</li><li>1</li><li>9</li><li>4</li><li>8</li><li>7</li><li>3</li><li>9</li><li>7</li><li>4</li><li>4</li><li>4</li><li>9</li><li>2</li><li>5</li><li>4</li><li>7</li><li>6</li><li>7</li><li>9</li><li>0</li><li>5</li><li>8</li><li>5</li><li>6</li><li>6</li><li>5</li><li>7</li><li>8</li><li>1</li><li>0</li><li>1</li><li>6</li><li>4</li><li>6</li><li>7</li><li>3</li><li>1</li><li>7</li><li>1</li><li>8</li><li>2</li><li>0</li><li>2</li><li>9</li><li>9</li><li>5</li><li>5</li><li>1</li><li>5</li><li>6</li><li>0</li><li>3</li><li>4</li><li>4</li><li>6</li><li>5</li><li>4</li><li>6</li><li>5</li><li>4</li><li>5</li><li>1</li><li>4</li><li>4</li><li>7</li><li>2</li><li>3</li><li>2</li><li>7</li><li>1</li><li>8</li><li>1</li><li>8</li><li>1</li><li>8</li><li>5</li><li>0</li><li>8</li><li>9</li><li>2</li><li>5</li><li>0</li><li>1</li><li>1</li><li>1</li><li>0</li><li>9</li><li>0</li><li>3</li><li>1</li><li>6</li><li>4</li><li>2</li><li>⋯</li><li>0</li><li>0</li><li>1</li><li>2</li><li>3</li><li>4</li><li>7</li><li>8</li><li>9</li><li>0</li><li>1</li><li>2</li><li>3</li><li>4</li><li>5</li><li>6</li><li>7</li><li>8</li><li>0</li><li>1</li><li>2</li><li>3</li><li>4</li><li>7</li><li>8</li><li>9</li><li>0</li><li>8</li><li>3</li><li>9</li><li>5</li><li>5</li><li>2</li><li>6</li><li>8</li><li>4</li><li>1</li><li>7</li><li>1</li><li>2</li><li>3</li><li>5</li><li>6</li><li>9</li><li>1</li><li>1</li><li>1</li><li>2</li><li>1</li><li>2</li><li>0</li><li>7</li><li>7</li><li>5</li><li>8</li><li>2</li><li>9</li><li>8</li><li>6</li><li>7</li><li>3</li><li>4</li><li>6</li><li>8</li><li>7</li><li>0</li><li>4</li><li>2</li><li>7</li><li>7</li><li>5</li><li>4</li><li>3</li><li>4</li><li>2</li><li>8</li><li>1</li><li>5</li><li>1</li><li>0</li><li>2</li><li>3</li><li>3</li><li>5</li><li>7</li><li>0</li><li>6</li><li>8</li><li>6</li><li>3</li><li>9</li><li>9</li><li>8</li><li>2</li><li>7</li><li>7</li><li>1</li><li>0</li><li>1</li><li>7</li><li>8</li><li>9</li><li>0</li><li>1</li><li>2</li><li>3</li><li>4</li><li>5</li><li>6</li><li>7</li><li>8</li><li>0</li><li>1</li><li>2</li><li>3</li><li>4</li><li>7</li><li>8</li><li>9</li><li>7</li><li>8</li><li>6</li><li>4</li><li>1</li><li>9</li><li>3</li><li>8</li><li>4</li><li>4</li><li>7</li><li>0</li><li>1</li><li>9</li><li>2</li><li>8</li><li>7</li><li>8</li><li>2</li><li>6</li><li>0</li><li>6</li><li>5</li><li>3</li><li>3</li><li>3</li><li>9</li><li>1</li><li>4</li><li>0</li><li>6</li><li>1</li><li>0</li><li>0</li><li>6</li><li>2</li><li>1</li><li>1</li><li>7</li><li>7</li><li>8</li><li>4</li><li>6</li><li>0</li><li>7</li><li>0</li><li>3</li><li>6</li><li>8</li><li>7</li><li>1</li><li>5</li><li>2</li><li>4</li><li>9</li><li>4</li><li>3</li><li>6</li><li>4</li><li>1</li><li>7</li><li>2</li><li>6</li><li>5</li><li>0</li><li>1</li><li>2</li><li>3</li><li>4</li><li>5</li><li>6</li><li>7</li><li>8</li><li>9</li><li>0</li><li>1</li><li>2</li><li>3</li><li>4</li><li>5</li><li>6</li></ol>\n"
            ],
            "text/markdown": "1. 7\n2. 2\n3. 1\n4. 0\n5. 4\n6. 1\n7. 4\n8. 9\n9. 5\n10. 9\n11. 0\n12. 6\n13. 9\n14. 0\n15. 1\n16. 5\n17. 9\n18. 7\n19. 3\n20. 4\n21. 9\n22. 6\n23. 6\n24. 5\n25. 4\n26. 0\n27. 7\n28. 4\n29. 0\n30. 1\n31. 3\n32. 1\n33. 3\n34. 4\n35. 7\n36. 2\n37. 7\n38. 1\n39. 2\n40. 1\n41. 1\n42. 7\n43. 4\n44. 2\n45. 3\n46. 5\n47. 1\n48. 2\n49. 4\n50. 4\n51. 6\n52. 3\n53. 5\n54. 5\n55. 6\n56. 0\n57. 4\n58. 1\n59. 9\n60. 5\n61. 7\n62. 8\n63. 9\n64. 3\n65. 7\n66. 4\n67. 6\n68. 4\n69. 3\n70. 0\n71. 7\n72. 0\n73. 2\n74. 9\n75. 1\n76. 7\n77. 3\n78. 2\n79. 9\n80. 7\n81. 7\n82. 6\n83. 2\n84. 7\n85. 8\n86. 4\n87. 7\n88. 3\n89. 6\n90. 1\n91. 3\n92. 6\n93. 9\n94. 3\n95. 1\n96. 4\n97. 1\n98. 7\n99. 6\n100. 9\n101. 6\n102. 0\n103. 5\n104. 4\n105. 9\n106. 9\n107. 2\n108. 1\n109. 9\n110. 4\n111. 8\n112. 7\n113. 3\n114. 9\n115. 7\n116. 4\n117. 4\n118. 4\n119. 9\n120. 2\n121. 5\n122. 4\n123. 7\n124. 6\n125. 7\n126. 9\n127. 0\n128. 5\n129. 8\n130. 5\n131. 6\n132. 6\n133. 5\n134. 7\n135. 8\n136. 1\n137. 0\n138. 1\n139. 6\n140. 4\n141. 6\n142. 7\n143. 3\n144. 1\n145. 7\n146. 1\n147. 8\n148. 2\n149. 0\n150. 2\n151. 9\n152. 9\n153. 5\n154. 5\n155. 1\n156. 5\n157. 6\n158. 0\n159. 3\n160. 4\n161. 4\n162. 6\n163. 5\n164. 4\n165. 6\n166. 5\n167. 4\n168. 5\n169. 1\n170. 4\n171. 4\n172. 7\n173. 2\n174. 3\n175. 2\n176. 7\n177. 1\n178. 8\n179. 1\n180. 8\n181. 1\n182. 8\n183. 5\n184. 0\n185. 8\n186. 9\n187. 2\n188. 5\n189. 0\n190. 1\n191. 1\n192. 1\n193. 0\n194. 9\n195. 0\n196. 3\n197. 1\n198. 6\n199. 4\n200. 2\n201. ⋯\n202. 0\n203. 0\n204. 1\n205. 2\n206. 3\n207. 4\n208. 7\n209. 8\n210. 9\n211. 0\n212. 1\n213. 2\n214. 3\n215. 4\n216. 5\n217. 6\n218. 7\n219. 8\n220. 0\n221. 1\n222. 2\n223. 3\n224. 4\n225. 7\n226. 8\n227. 9\n228. 0\n229. 8\n230. 3\n231. 9\n232. 5\n233. 5\n234. 2\n235. 6\n236. 8\n237. 4\n238. 1\n239. 7\n240. 1\n241. 2\n242. 3\n243. 5\n244. 6\n245. 9\n246. 1\n247. 1\n248. 1\n249. 2\n250. 1\n251. 2\n252. 0\n253. 7\n254. 7\n255. 5\n256. 8\n257. 2\n258. 9\n259. 8\n260. 6\n261. 7\n262. 3\n263. 4\n264. 6\n265. 8\n266. 7\n267. 0\n268. 4\n269. 2\n270. 7\n271. 7\n272. 5\n273. 4\n274. 3\n275. 4\n276. 2\n277. 8\n278. 1\n279. 5\n280. 1\n281. 0\n282. 2\n283. 3\n284. 3\n285. 5\n286. 7\n287. 0\n288. 6\n289. 8\n290. 6\n291. 3\n292. 9\n293. 9\n294. 8\n295. 2\n296. 7\n297. 7\n298. 1\n299. 0\n300. 1\n301. 7\n302. 8\n303. 9\n304. 0\n305. 1\n306. 2\n307. 3\n308. 4\n309. 5\n310. 6\n311. 7\n312. 8\n313. 0\n314. 1\n315. 2\n316. 3\n317. 4\n318. 7\n319. 8\n320. 9\n321. 7\n322. 8\n323. 6\n324. 4\n325. 1\n326. 9\n327. 3\n328. 8\n329. 4\n330. 4\n331. 7\n332. 0\n333. 1\n334. 9\n335. 2\n336. 8\n337. 7\n338. 8\n339. 2\n340. 6\n341. 0\n342. 6\n343. 5\n344. 3\n345. 3\n346. 3\n347. 9\n348. 1\n349. 4\n350. 0\n351. 6\n352. 1\n353. 0\n354. 0\n355. 6\n356. 2\n357. 1\n358. 1\n359. 7\n360. 7\n361. 8\n362. 4\n363. 6\n364. 0\n365. 7\n366. 0\n367. 3\n368. 6\n369. 8\n370. 7\n371. 1\n372. 5\n373. 2\n374. 4\n375. 9\n376. 4\n377. 3\n378. 6\n379. 4\n380. 1\n381. 7\n382. 2\n383. 6\n384. 5\n385. 0\n386. 1\n387. 2\n388. 3\n389. 4\n390. 5\n391. 6\n392. 7\n393. 8\n394. 9\n395. 0\n396. 1\n397. 2\n398. 3\n399. 4\n400. 5\n401. 6\n\n\n",
            "text/latex": "\\begin{enumerate*}\n\\item 7\n\\item 2\n\\item 1\n\\item 0\n\\item 4\n\\item 1\n\\item 4\n\\item 9\n\\item 5\n\\item 9\n\\item 0\n\\item 6\n\\item 9\n\\item 0\n\\item 1\n\\item 5\n\\item 9\n\\item 7\n\\item 3\n\\item 4\n\\item 9\n\\item 6\n\\item 6\n\\item 5\n\\item 4\n\\item 0\n\\item 7\n\\item 4\n\\item 0\n\\item 1\n\\item 3\n\\item 1\n\\item 3\n\\item 4\n\\item 7\n\\item 2\n\\item 7\n\\item 1\n\\item 2\n\\item 1\n\\item 1\n\\item 7\n\\item 4\n\\item 2\n\\item 3\n\\item 5\n\\item 1\n\\item 2\n\\item 4\n\\item 4\n\\item 6\n\\item 3\n\\item 5\n\\item 5\n\\item 6\n\\item 0\n\\item 4\n\\item 1\n\\item 9\n\\item 5\n\\item 7\n\\item 8\n\\item 9\n\\item 3\n\\item 7\n\\item 4\n\\item 6\n\\item 4\n\\item 3\n\\item 0\n\\item 7\n\\item 0\n\\item 2\n\\item 9\n\\item 1\n\\item 7\n\\item 3\n\\item 2\n\\item 9\n\\item 7\n\\item 7\n\\item 6\n\\item 2\n\\item 7\n\\item 8\n\\item 4\n\\item 7\n\\item 3\n\\item 6\n\\item 1\n\\item 3\n\\item 6\n\\item 9\n\\item 3\n\\item 1\n\\item 4\n\\item 1\n\\item 7\n\\item 6\n\\item 9\n\\item 6\n\\item 0\n\\item 5\n\\item 4\n\\item 9\n\\item 9\n\\item 2\n\\item 1\n\\item 9\n\\item 4\n\\item 8\n\\item 7\n\\item 3\n\\item 9\n\\item 7\n\\item 4\n\\item 4\n\\item 4\n\\item 9\n\\item 2\n\\item 5\n\\item 4\n\\item 7\n\\item 6\n\\item 7\n\\item 9\n\\item 0\n\\item 5\n\\item 8\n\\item 5\n\\item 6\n\\item 6\n\\item 5\n\\item 7\n\\item 8\n\\item 1\n\\item 0\n\\item 1\n\\item 6\n\\item 4\n\\item 6\n\\item 7\n\\item 3\n\\item 1\n\\item 7\n\\item 1\n\\item 8\n\\item 2\n\\item 0\n\\item 2\n\\item 9\n\\item 9\n\\item 5\n\\item 5\n\\item 1\n\\item 5\n\\item 6\n\\item 0\n\\item 3\n\\item 4\n\\item 4\n\\item 6\n\\item 5\n\\item 4\n\\item 6\n\\item 5\n\\item 4\n\\item 5\n\\item 1\n\\item 4\n\\item 4\n\\item 7\n\\item 2\n\\item 3\n\\item 2\n\\item 7\n\\item 1\n\\item 8\n\\item 1\n\\item 8\n\\item 1\n\\item 8\n\\item 5\n\\item 0\n\\item 8\n\\item 9\n\\item 2\n\\item 5\n\\item 0\n\\item 1\n\\item 1\n\\item 1\n\\item 0\n\\item 9\n\\item 0\n\\item 3\n\\item 1\n\\item 6\n\\item 4\n\\item 2\n\\item ⋯\n\\item 0\n\\item 0\n\\item 1\n\\item 2\n\\item 3\n\\item 4\n\\item 7\n\\item 8\n\\item 9\n\\item 0\n\\item 1\n\\item 2\n\\item 3\n\\item 4\n\\item 5\n\\item 6\n\\item 7\n\\item 8\n\\item 0\n\\item 1\n\\item 2\n\\item 3\n\\item 4\n\\item 7\n\\item 8\n\\item 9\n\\item 0\n\\item 8\n\\item 3\n\\item 9\n\\item 5\n\\item 5\n\\item 2\n\\item 6\n\\item 8\n\\item 4\n\\item 1\n\\item 7\n\\item 1\n\\item 2\n\\item 3\n\\item 5\n\\item 6\n\\item 9\n\\item 1\n\\item 1\n\\item 1\n\\item 2\n\\item 1\n\\item 2\n\\item 0\n\\item 7\n\\item 7\n\\item 5\n\\item 8\n\\item 2\n\\item 9\n\\item 8\n\\item 6\n\\item 7\n\\item 3\n\\item 4\n\\item 6\n\\item 8\n\\item 7\n\\item 0\n\\item 4\n\\item 2\n\\item 7\n\\item 7\n\\item 5\n\\item 4\n\\item 3\n\\item 4\n\\item 2\n\\item 8\n\\item 1\n\\item 5\n\\item 1\n\\item 0\n\\item 2\n\\item 3\n\\item 3\n\\item 5\n\\item 7\n\\item 0\n\\item 6\n\\item 8\n\\item 6\n\\item 3\n\\item 9\n\\item 9\n\\item 8\n\\item 2\n\\item 7\n\\item 7\n\\item 1\n\\item 0\n\\item 1\n\\item 7\n\\item 8\n\\item 9\n\\item 0\n\\item 1\n\\item 2\n\\item 3\n\\item 4\n\\item 5\n\\item 6\n\\item 7\n\\item 8\n\\item 0\n\\item 1\n\\item 2\n\\item 3\n\\item 4\n\\item 7\n\\item 8\n\\item 9\n\\item 7\n\\item 8\n\\item 6\n\\item 4\n\\item 1\n\\item 9\n\\item 3\n\\item 8\n\\item 4\n\\item 4\n\\item 7\n\\item 0\n\\item 1\n\\item 9\n\\item 2\n\\item 8\n\\item 7\n\\item 8\n\\item 2\n\\item 6\n\\item 0\n\\item 6\n\\item 5\n\\item 3\n\\item 3\n\\item 3\n\\item 9\n\\item 1\n\\item 4\n\\item 0\n\\item 6\n\\item 1\n\\item 0\n\\item 0\n\\item 6\n\\item 2\n\\item 1\n\\item 1\n\\item 7\n\\item 7\n\\item 8\n\\item 4\n\\item 6\n\\item 0\n\\item 7\n\\item 0\n\\item 3\n\\item 6\n\\item 8\n\\item 7\n\\item 1\n\\item 5\n\\item 2\n\\item 4\n\\item 9\n\\item 4\n\\item 3\n\\item 6\n\\item 4\n\\item 1\n\\item 7\n\\item 2\n\\item 6\n\\item 5\n\\item 0\n\\item 1\n\\item 2\n\\item 3\n\\item 4\n\\item 5\n\\item 6\n\\item 7\n\\item 8\n\\item 9\n\\item 0\n\\item 1\n\\item 2\n\\item 3\n\\item 4\n\\item 5\n\\item 6\n\\end{enumerate*}\n",
            "text/plain": [
              "    [1] 7 2 1 0 4 1 4 9 5 9 0 6 9 0 1 5 9 7 3 4 9 6 6 5 4 0 7 4 0 1 3 1 3 4 7 2\n",
              "   [37] 7 1 2 1 1 7 4 2 3 5 1 2 4 4 6 3 5 5 6 0 4 1 9 5 7 8 9 3 7 4 6 4 3 0 7 0\n",
              "   [73] 2 9 1 7 3 2 9 7 7 6 2 7 8 4 7 3 6 1 3 6 9 3 1 4 1 7 6 9 6 0 5 4 9 9 2 1\n",
              "  [109] 9 4 8 7 3 9 7 4 4 4 9 2 5 4 7 6 7 9 0 5 8 5 6 6 5 7 8 1 0 1 6 4 6 7 3 1\n",
              "  [145] 7 1 8 2 0 2 9 9 5 5 1 5 6 0 3 4 4 6 5 4 6 5 4 5 1 4 4 7 2 3 2 7 1 8 1 8\n",
              "  [181] 1 8 5 0 8 9 2 5 0 1 1 1 0 9 0 3 1 6 4 2 3 6 1 1 1 3 9 5 2 9 4 5 9 3 9 0\n",
              "  [217] 3 6 5 5 7 2 2 7 1 2 8 4 1 7 3 3 8 8 7 9 2 2 4 1 5 9 8 7 2 3 0 4 4 2 4 1\n",
              "  [253] 9 5 7 7 2 8 2 6 8 5 7 7 9 1 8 1 8 0 3 0 1 9 9 4 1 8 2 1 2 9 7 5 9 2 6 4\n",
              "  [289] 1 5 8 2 9 2 0 4 0 0 2 8 4 7 1 2 4 0 2 7 4 3 3 0 0 3 1 9 6 5 2 5 9 2 9 3\n",
              "  [325] 0 4 2 0 7 1 1 2 1 5 3 3 9 7 8 6 5 6 1 3 8 1 0 5 1 3 1 5 5 6 1 8 5 1 7 9\n",
              "  [361] 4 6 2 2 5 0 6 5 6 3 7 2 0 8 8 5 4 1 1 4 0 3 3 7 6 1 6 2 1 9 2 8 6 1 9 5\n",
              "  [397] 2 5 4 4 2 8 3 8 2 4 5 0 3 1 7 7 5 7 9 7 1 9 2 1 4 2 9 2 0 4 9 1 4 8 1 8\n",
              "  [433] 4 5 9 8 8 3 7 6 0 0 3 0 2 6 6 4 9 3 3 3 2 3 9 1 2 6 8 0 5 6 6 6 3 8 8 2\n",
              "  [469] 7 5 8 9 6 1 8 4 1 2 5 9 1 9 7 5 4 0 8 9 9 1 0 5 2 3 7 8 9 4 0 6 3 9 5 2\n",
              "  [505] 1 3 1 3 6 5 7 4 2 2 6 3 2 6 5 4 8 9 7 1 3 0 3 8 3 1 9 3 4 4 6 4 2 1 8 2\n",
              "  [541] 5 4 8 8 4 0 0 2 3 2 7 7 0 8 7 4 4 7 9 6 9 0 9 8 0 4 6 0 6 3 5 4 8 3 3 9\n",
              "  [577] 3 3 3 7 8 0 8 2 1 7 0 6 5 4 3 8 0 9 6 3 8 0 9 9 6 8 6 8 5 7 8 6 0 2 4 0\n",
              "  [613] 2 2 3 1 9 7 5 1 0 8 4 6 2 6 7 9 3 2 9 8 2 2 9 2 7 3 5 9 1 8 0 2 0 5 2 1\n",
              "  [649] 3 7 6 7 1 2 5 8 0 3 7 2 4 0 9 1 8 6 7 7 4 3 4 9 1 9 5 1 7 3 9 7 6 9 1 3\n",
              "  [685] 7 8 3 3 6 7 2 8 5 8 5 1 1 4 4 3 1 0 7 7 0 7 9 4 4 8 5 5 4 0 8 2 1 0 8 4\n",
              "  [721] 5 0 4 0 6 1 7 3 2 6 7 2 6 9 3 1 4 6 2 5 4 2 0 6 2 1 7 3 4 1 0 5 4 3 1 1\n",
              "  [757] 7 4 9 9 4 8 4 0 2 4 5 1 1 6 4 7 1 9 4 2 4 1 5 5 3 8 3 1 4 5 6 8 9 4 1 5\n",
              "  [793] 3 8 0 3 2 5 1 2 8 3 4 4 0 8 8 3 3 1 7 3 5 9 6 3 2 6 1 3 6 0 7 2 1 7 1 4\n",
              "  [829] 2 4 2 1 7 9 6 1 1 2 4 8 1 7 7 4 8 0 7 3 1 3 1 0 7 7 0 3 5 5 2 7 6 6 9 2\n",
              "  [865] 8 3 5 2 2 5 6 0 8 2 9 2 8 8 8 8 7 4 9 3 0 6 6 3 2 1 3 2 2 9 3 0 0 5 7 8\n",
              "  [901] 1 4 4 6 0 2 9 1 4 7 4 7 3 9 8 8 4 7 1 2 1 2 2 3 2 3 2 3 9 1 7 4 0 3 5 5\n",
              "  [937] 8 6 3 2 6 7 6 6 3 2 7 8 1 1 7 5 6 4 9 5 1 3 3 4 7 8 9 1 1 6 9 1 4 4 5 4\n",
              "  [973] 0 6 2 2 3 1 5 1 2 0 3 8 1 2 6 7 1 6 2 3 9 0 1 2 2 0 8 9 9 0 2 5 1 9 7 8\n",
              " [1009] 1 0 4 1 7 9 6 4 2 6 8 1 3 7 5 4 4 1 8 1 3 8 1 2 5 8 0 6 2 1 1 7 1 5 3 4\n",
              " [1045] 6 9 5 0 9 2 2 4 8 2 1 7 2 4 9 4 4 0 3 9 2 2 3 3 8 3 5 7 3 5 8 1 2 4 4 6\n",
              " [1081] 4 9 5 1 0 6 9 5 9 5 9 7 3 8 0 3 7 1 3 6 7 8 5 9 7 9 6 9 6 3 7 4 4 5 3 5\n",
              " [1117] 4 7 8 7 8 0 7 6 8 8 7 3 3 1 9 5 2 7 3 5 1 1 2 1 4 7 4 7 5 4 5 4 0 8 3 6\n",
              " [1153] 9 6 0 2 7 4 4 4 4 6 6 4 7 9 3 4 5 5 8 7 3 7 2 7 0 2 4 1 1 6 6 9 2 8 7 2\n",
              " [1189] 0 1 5 0 9 1 7 0 6 0 8 6 8 1 8 0 3 3 7 2 3 6 2 1 6 1 1 3 7 9 0 8 0 5 4 0\n",
              " [1225] 2 8 7 2 9 8 4 0 9 5 8 5 1 2 1 3 1 7 4 5 7 2 0 9 8 8 6 2 5 4 1 9 2 1 5 8\n",
              " [1261] 7 0 2 4 4 3 6 8 8 2 4 0 5 0 4 4 7 9 3 4 1 5 9 7 3 5 8 8 0 5 3 3 6 6 0 1\n",
              " [1297] 6 0 3 5 4 4 1 2 9 1 4 6 9 9 3 9 8 4 4 3 1 3 1 8 8 7 9 4 8 8 7 9 7 1 4 5\n",
              " [1333] 6 0 5 2 2 2 1 5 5 2 4 9 6 2 7 7 2 2 1 1 2 8 3 7 2 4 1 7 1 7 6 7 8 2 7 3\n",
              " [1369] 1 7 5 8 2 6 2 2 5 6 5 0 9 2 4 3 3 9 7 6 6 8 0 4 1 5 8 2 9 1 8 0 6 7 2 1\n",
              " [1405] 0 5 5 2 0 2 2 0 2 4 9 8 0 9 9 4 6 5 4 9 1 8 3 4 9 9 1 2 2 8 1 9 6 4 0 9\n",
              " [1441] 4 8 3 8 6 0 2 5 1 9 6 2 9 4 0 9 6 0 6 2 5 4 2 3 8 4 5 5 0 3 8 5 3 5 8 6\n",
              " [1477] 5 7 6 3 3 9 6 1 1 2 9 0 4 3 3 6 9 5 7 3 7 7 7 8 7 9 8 3 0 7 2 7 9 4 5 4\n",
              " [1513] 9 3 2 1 4 0 2 3 7 5 7 8 8 5 0 1 1 4 8 3 9 0 0 0 6 6 2 3 7 8 4 7 7 9 2 4\n",
              " [1549] 1 4 5 2 4 9 9 1 8 4 0 9 8 4 8 7 7 0 7 8 8 6 0 4 8 8 2 4 7 6 6 6 4 7 1 8\n",
              " [1585] 8 2 3 6 3 0 0 3 7 6 9 7 9 9 5 4 3 3 6 1 2 3 7 3 3 2 0 3 3 8 4 3 6 3 5 0\n",
              " [1621] 2 0 9 0 7 4 6 9 3 5 1 9 6 1 4 5 4 5 0 5 9 5 2 1 2 9 1 9 9 4 0 8 4 5 2 9\n",
              " [1657] 2 1 2 1 7 3 6 8 8 4 9 1 9 8 5 7 5 1 1 8 6 5 2 4 4 3 2 3 5 6 8 8 6 2 3 1\n",
              " [1693] 0 5 8 9 2 9 6 7 0 4 8 7 1 7 4 1 0 9 7 2 0 0 9 1 7 8 7 8 4 7 2 0 4 6 0 3\n",
              " [1729] 1 1 3 3 9 6 7 4 1 5 3 0 8 7 3 9 6 9 3 5 0 2 7 4 5 1 7 5 8 0 8 8 1 5 0 3\n",
              " [1765] 0 3 1 4 0 3 7 2 7 1 8 0 7 0 4 3 1 9 8 7 7 1 4 9 9 3 2 1 7 9 0 2 0 3 3 7\n",
              " [1801] 6 9 2 3 3 7 7 0 0 7 5 2 9 8 7 4 4 2 6 6 1 9 6 8 2 9 0 8 3 1 1 6 3 5 1 1\n",
              " [1837] 1 3 1 2 3 0 2 0 1 3 5 5 7 4 8 9 6 9 6 8 3 6 6 8 5 1 4 2 4 4 5 1 1 9 0 2\n",
              " [1873] 4 9 5 7 1 8 8 5 6 9 8 7 1 1 6 7 6 3 2 2 0 8 9 2 5 1 0 8 1 9 5 7 9 6 9 0\n",
              " [1909] 6 1 5 5 8 3 8 2 6 5 0 7 4 6 1 3 4 7 3 2 3 4 2 5 2 7 1 7 2 6 4 1 5 7 8 6\n",
              " [1945] 0 1 8 2 5 7 7 6 9 3 5 8 4 2 4 0 8 8 3 4 9 2 7 5 8 6 5 6 0 8 6 7 3 6 4 9\n",
              " [1981] 4 6 6 3 2 4 1 0 1 4 6 2 9 1 1 0 6 3 9 5 6 5 6 5 8 4 6 4 3 9 1 3 4 1 9 1\n",
              " [2017] 7 1 1 9 3 5 4 0 7 3 6 1 7 5 5 3 3 0 1 5 7 5 8 6 5 1 0 4 2 3 4 6 7 9 8 1\n",
              " [2053] 8 4 9 2 8 6 2 7 0 0 6 7 5 8 6 0 9 3 7 1 3 5 4 3 3 5 5 6 3 0 2 3 4 2 3 0\n",
              " [2089] 9 9 4 7 2 8 4 7 0 6 2 8 5 2 8 5 7 3 0 8 2 3 2 8 2 5 5 7 6 4 6 8 4 8 2 7\n",
              " [2125] 4 5 2 0 3 9 4 6 7 2 5 6 1 1 2 3 6 7 8 7 6 4 8 9 4 8 6 3 8 3 1 0 6 2 2 5\n",
              " [2161] 6 9 5 8 1 4 1 7 8 4 6 1 8 4 3 1 2 8 0 8 5 9 1 4 2 0 2 7 0 9 0 2 5 7 6 7\n",
              " [2197] 9 4 2 6 2 4 4 8 0 4 4 5 8 0 6 8 9 8 5 6 9 0 4 8 7 1 3 4 5 8 0 9 1 3 3 6\n",
              " [2233] 9 8 7 1 0 5 7 1 7 5 2 7 9 1 8 5 2 4 9 4 7 2 2 3 4 9 1 9 2 1 7 9 4 4 1 6\n",
              " [2269] 7 2 7 8 8 1 9 7 1 1 7 5 3 3 5 1 3 7 6 1 3 8 7 5 9 9 0 0 2 8 8 2 3 7 1 3\n",
              " [2305] 0 3 4 4 3 8 9 2 3 9 7 1 1 7 0 4 9 6 5 9 1 7 0 2 0 0 4 6 7 0 7 1 4 6 4 5\n",
              " [2341] 4 9 9 1 7 9 5 3 3 8 2 3 6 2 2 1 1 1 1 1 6 9 8 4 3 7 1 6 4 5 0 4 7 4 2 4\n",
              " [2377] 0 7 0 1 9 8 8 6 0 0 4 9 6 8 2 2 3 8 4 8 2 2 1 7 5 4 4 0 4 3 9 7 3 1 0 1\n",
              " [2413] 2 5 9 2 1 0 1 8 9 1 6 8 3 8 9 3 6 2 8 3 2 2 1 0 4 2 9 2 4 3 7 9 1 5 2 4\n",
              " [2449] 9 0 3 8 5 3 6 0 9 4 6 2 5 0 2 7 4 6 6 8 6 6 8 6 9 1 7 2 5 9 9 0 7 2 7 6\n",
              " [2485] 7 0 6 5 2 4 7 2 0 9 9 2 2 9 4 4 2 3 3 2 1 7 0 7 6 4 1 3 8 7 4 5 9 2 5 1\n",
              " [2521] 8 7 3 7 1 5 5 0 9 1 4 0 6 3 3 6 0 4 9 7 5 1 6 8 9 5 5 7 9 3 8 3 8 1 5 3\n",
              " [2557] 5 0 5 5 3 8 6 7 7 7 3 7 0 5 9 0 2 5 5 3 1 7 7 8 6 5 9 3 8 9 5 3 7 9 1 7\n",
              " [2593] 0 0 3 7 2 5 8 1 8 6 2 9 5 7 5 7 8 6 2 5 1 4 8 4 5 8 3 0 6 2 7 3 3 2 1 0\n",
              " [2629] 7 3 4 0 3 9 3 2 8 9 0 3 8 0 7 6 5 4 7 3 9 0 8 6 2 5 6 1 0 0 4 4 0 1 2 3\n",
              " [2665] 2 7 7 8 5 2 5 7 6 9 1 4 1 6 4 2 4 3 5 4 3 9 5 0 1 5 3 8 9 1 9 7 9 5 5 2\n",
              " [2701] 7 4 6 0 1 1 1 0 4 4 7 6 3 0 0 4 3 0 6 1 9 6 1 3 8 1 2 5 6 2 7 3 6 0 1 9\n",
              " [2737] 7 6 6 8 9 2 9 5 8 3 1 0 0 7 6 6 2 1 6 9 3 1 8 6 9 0 6 0 0 0 6 3 5 9 3 4\n",
              " [2773] 5 5 8 5 3 0 4 0 2 9 6 8 2 3 1 2 1 1 5 6 9 8 0 6 6 5 5 3 8 6 2 1 4 5 4 3\n",
              " [2809] 7 8 5 0 9 3 5 1 1 0 4 4 7 0 1 7 0 1 6 1 4 5 6 6 5 7 8 4 4 7 2 5 3 7 0 7\n",
              " [2845] 7 9 6 4 2 8 5 7 8 3 9 5 8 9 9 8 6 2 8 9 2 3 6 1 1 8 9 3 4 0 7 9 6 4 1 4\n",
              " [2881] 1 3 4 9 3 1 4 7 7 4 7 2 9 3 0 8 8 8 4 0 4 4 1 5 2 8 3 4 9 5 2 8 1 5 3 7\n",
              " [2917] 9 4 2 5 6 3 5 9 3 5 9 3 1 9 5 3 0 6 9 8 4 0 4 9 2 9 0 1 0 3 1 6 5 8 1 5\n",
              " [2953] 3 3 0 3 5 5 9 2 8 7 0 4 9 1 9 7 7 5 5 2 0 9 1 8 6 2 3 9 6 2 1 9 1 3 5 5\n",
              " [2989] 0 3 8 3 3 7 6 6 0 1 4 0 6 9 8 1 2 9 9 5 9 7 3 7 8 0 1 3 0 4 6 1 0 2 5 8\n",
              " [3025] 4 4 1 1 5 4 6 6 0 6 9 2 6 2 7 1 7 9 4 0 0 3 8 2 2 3 1 6 0 5 7 7 9 2 6 7\n",
              " [3061] 9 7 8 6 8 8 4 6 8 4 1 2 8 1 3 9 4 0 3 7 3 2 3 3 7 3 4 0 6 2 0 8 1 5 3 5\n",
              " [3097] 4 1 7 1 5 7 5 7 3 2 2 7 3 7 3 7 8 5 4 5 2 5 6 5 3 6 7 4 1 7 1 5 2 3 6 3\n",
              " [3133] 1 4 2 6 7 4 3 8 0 6 2 1 6 5 3 9 1 9 3 2 1 8 4 4 6 5 8 6 9 7 7 8 6 9 7 3\n",
              " [3169] 9 4 0 5 4 6 4 1 2 3 0 0 2 6 6 5 7 0 8 6 4 7 9 0 7 3 4 2 1 8 8 5 9 2 7 1\n",
              " [3205] 8 8 8 2 7 6 0 1 2 7 1 0 8 3 6 0 5 3 6 2 8 7 0 1 4 2 1 1 4 4 4 4 7 1 6 2\n",
              " [3241] 9 9 0 0 1 8 8 4 3 4 2 0 6 1 6 1 2 2 2 1 2 3 7 8 1 0 0 2 1 6 6 0 1 6 2 5\n",
              " [3277] 1 7 4 8 2 1 4 3 8 3 9 9 4 8 3 4 7 2 7 5 7 0 4 3 3 2 6 7 6 0 0 6 7 7 0 5\n",
              " [3313] 5 8 1 0 7 0 2 8 1 5 0 8 8 0 3 2 7 7 2 6 4 7 5 5 5 2 9 2 8 4 6 8 6 5 0 0\n",
              " [3349] 8 7 6 1 7 1 1 2 7 4 0 0 7 7 6 3 8 6 4 2 0 9 4 0 5 7 8 2 7 4 7 1 1 3 6 6\n",
              " [3385] 2 9 1 9 4 8 3 6 9 5 9 6 2 4 6 7 7 0 6 6 9 4 8 3 5 3 4 9 0 0 5 2 5 0 7 1\n",
              " [3421] 1 1 6 7 6 7 9 6 6 4 1 4 3 1 1 2 2 4 1 0 8 7 6 3 4 0 0 6 3 3 0 7 1 7 1 1\n",
              " [3457] 3 1 0 9 9 7 5 4 1 4 8 9 5 3 5 1 9 8 2 3 3 9 9 0 1 0 2 9 3 9 3 3 6 2 4 9\n",
              " [3493] 8 3 7 4 0 4 7 8 4 9 8 9 9 7 5 9 2 8 2 2 0 2 2 3 8 4 6 8 6 8 2 4 6 7 9 3\n",
              " [3529] 3 9 4 3 1 4 4 7 0 5 9 6 0 4 4 4 4 6 1 2 3 3 6 4 5 9 6 8 5 6 5 8 6 4 1 8\n",
              " [3565] 6 5 2 8 4 5 5 4 7 7 0 7 8 2 2 3 7 0 1 8 0 7 1 9 8 7 5 5 9 1 7 5 4 9 1 2\n",
              " [3601] 2 1 6 6 7 1 1 4 0 7 4 2 4 0 6 4 7 6 9 5 3 4 6 5 0 1 8 8 2 8 3 5 7 8 0 8\n",
              " [3637] 5 7 1 1 0 1 3 7 8 5 0 7 1 1 0 1 1 4 5 2 7 6 2 3 0 2 8 5 9 6 9 7 2 1 3 6\n",
              " [3673] 4 1 8 2 4 0 5 1 0 2 2 6 4 4 3 9 6 1 6 5 7 9 2 0 2 6 0 1 4 3 5 2 8 8 0 8\n",
              " [3709] 8 9 0 9 6 7 6 3 9 3 4 7 7 7 4 9 0 6 4 8 4 2 7 2 8 1 0 0 7 8 3 3 3 1 3 7\n",
              " [3745] 6 1 3 1 6 6 5 7 4 7 5 9 5 8 4 9 9 1 6 5 0 1 3 7 0 3 4 8 2 2 0 2 5 1 5 1\n",
              " [3781] 4 8 8 9 1 2 1 3 5 1 0 9 4 4 8 3 2 5 9 7 6 6 2 0 0 0 5 8 7 1 5 2 3 8 5 1\n",
              " [3817] 8 2 0 4 9 9 6 2 3 3 5 6 4 8 0 9 2 8 3 6 7 5 7 2 9 4 9 1 2 8 6 0 7 0 9 1\n",
              " [3853] 1 6 7 5 9 9 1 9 5 9 2 5 0 4 1 0 8 9 0 8 9 8 9 4 2 5 7 9 8 9 8 0 9 9 6 8\n",
              " [3889] 9 9 5 9 8 5 1 0 3 3 5 2 1 6 5 0 2 8 1 5 6 2 3 0 2 2 6 4 3 5 5 1 7 2 1 6\n",
              " [3925] 9 1 9 9 5 5 1 6 2 2 8 6 7 1 4 6 0 4 0 3 3 2 2 3 6 8 9 8 5 3 8 5 4 5 2 0\n",
              " [3961] 5 6 3 2 8 3 9 9 5 7 9 4 6 7 1 3 7 3 6 6 0 9 0 1 9 9 2 8 8 0 1 6 9 7 5 3\n",
              " [3997] 4 7 4 9 9 4 3 6 3 1 1 7 6 9 1 8 4 1 1 9 9 4 3 6 8 1 6 0 4 1 3 7 7 4 9 5\n",
              " [4033] 1 0 0 1 1 6 2 1 9 8 4 0 3 6 4 9 0 7 1 6 5 7 5 2 5 1 8 5 4 7 0 6 7 0 2 5\n",
              " [4069] 8 1 0 4 5 7 1 8 5 1 9 0 0 6 0 7 3 1 8 3 9 7 0 0 8 9 5 9 8 3 2 7 2 9 7 2\n",
              " [4105] 1 1 3 7 5 3 1 9 8 2 2 2 8 8 5 7 3 8 9 8 8 6 8 2 3 9 7 5 6 2 9 2 8 8 1 6\n",
              " [4141] 8 8 7 9 1 8 0 1 7 2 0 7 5 1 9 0 2 0 9 8 6 2 3 9 3 8 0 2 1 1 1 1 4 2 9 7\n",
              " [4177] 2 5 1 1 2 1 9 9 9 1 0 2 0 2 1 1 4 6 4 1 5 4 9 7 7 1 5 6 2 2 2 8 0 6 9 6\n",
              " [4213] 1 9 7 7 1 4 8 5 3 4 3 4 9 7 5 0 7 4 8 8 1 5 3 9 5 9 7 6 9 0 3 6 3 9 8 2\n",
              " [4249] 2 1 2 8 6 8 5 5 3 9 4 9 2 5 1 5 1 4 4 1 4 4 3 5 9 1 2 2 3 3 0 2 9 0 0 9\n",
              " [4285] 9 6 0 9 3 2 8 4 1 9 9 7 2 7 9 9 5 9 5 1 1 8 3 5 1 9 5 3 5 4 9 5 9 3 1 9\n",
              " [4321] 0 9 7 5 4 9 2 0 1 0 5 1 4 9 3 3 6 1 5 2 5 2 2 0 9 2 6 6 0 1 2 0 3 0 2 5\n",
              " [4357] 5 7 9 5 5 0 8 9 5 0 3 2 5 9 0 8 8 4 5 8 8 4 5 4 8 5 4 9 2 2 1 2 6 8 8 7\n",
              " [4393] 0 3 6 6 4 3 8 8 7 2 2 0 0 9 3 9 9 1 9 8 6 6 4 2 6 9 2 8 5 4 5 7 9 9 9 2\n",
              " [4429] 1 8 3 4 0 7 8 3 9 3 4 6 5 6 2 3 9 2 6 0 0 6 1 2 8 7 9 8 2 0 4 7 7 5 0 5\n",
              " [4465] 6 4 6 7 4 3 0 7 5 0 7 4 2 0 8 9 9 4 2 4 6 7 8 7 6 9 4 1 3 7 3 0 8 8 7 6\n",
              " [4501] 9 3 9 2 2 9 2 1 8 3 2 9 6 8 4 0 1 2 8 4 5 2 7 8 1 1 3 0 3 5 7 0 3 1 9 3\n",
              " [4537] 6 3 1 7 7 3 0 8 4 8 2 6 5 2 9 7 3 9 0 9 9 6 4 2 9 7 2 1 1 6 7 4 7 5 9 6\n",
              " [4573] 8 2 1 4 4 5 7 6 1 3 2 5 9 9 3 6 1 1 4 6 9 7 2 1 5 1 4 6 3 8 1 1 0 3 1 6\n",
              " [4609] 8 4 9 0 7 3 0 2 9 0 6 6 6 3 6 7 7 2 8 6 0 8 3 0 2 9 8 3 2 5 3 8 8 0 0 1\n",
              " [4645] 9 5 1 3 9 6 0 1 4 1 7 1 2 3 7 9 7 4 9 9 3 9 2 8 2 7 1 8 0 9 1 0 1 7 7 9\n",
              " [4681] 6 9 9 9 2 1 6 1 3 5 7 1 9 7 6 4 5 7 6 6 9 9 6 3 6 2 9 8 1 2 2 5 5 2 3 7\n",
              " [4717] 2 1 0 1 0 4 5 2 8 2 8 3 5 1 7 8 1 1 2 9 7 8 4 0 3 0 7 8 8 4 7 7 8 5 8 4\n",
              " [4753] 9 8 1 3 8 0 3 1 7 9 5 5 1 6 5 7 4 9 3 5 4 7 1 2 0 8 1 6 0 7 3 4 7 3 9 6\n",
              " [4789] 0 8 6 4 8 7 7 9 3 8 6 9 7 2 3 4 0 2 1 8 3 5 5 7 2 4 6 7 2 8 3 0 8 7 8 9\n",
              " [4825] 0 8 4 4 5 8 5 6 6 3 0 9 3 7 6 8 9 3 4 9 5 8 9 1 2 8 8 6 8 1 3 7 9 0 1 1\n",
              " [4861] 4 7 0 8 1 7 4 5 7 1 2 1 1 3 9 6 2 1 2 8 0 7 6 6 9 3 7 0 5 2 8 0 5 4 3 8\n",
              " [4897] 4 6 6 2 7 9 5 1 3 2 4 3 6 1 9 4 4 7 6 5 4 1 9 9 2 7 8 0 1 3 6 1 3 4 1 1\n",
              " [4933] 1 5 6 0 7 0 7 2 3 2 5 2 2 9 4 9 8 1 2 1 6 1 2 7 8 0 0 0 8 2 2 9 2 2 7 9\n",
              " [4969] 9 2 7 5 1 3 4 9 4 1 8 5 6 2 8 3 1 2 8 4 9 9 3 7 0 7 7 2 3 2 4 0 3 9 9 8\n",
              " [5005] 4 1 0 6 0 9 6 8 6 1 1 9 8 9 2 3 5 5 9 4 2 1 9 4 3 9 6 0 4 0 6 0 1 2 3 4\n",
              " [5041] 7 8 9 0 1 2 3 4 7 8 9 0 1 2 3 4 5 6 7 8 9 8 3 4 7 8 6 3 4 0 9 7 1 9 3 8\n",
              " [5077] 4 7 3 0 9 1 4 5 4 6 2 0 6 2 1 1 1 1 7 2 4 7 5 2 9 4 5 8 4 2 9 7 0 0 7 5\n",
              " [5113] 1 1 7 6 6 6 8 2 2 7 7 4 0 2 4 2 1 8 9 6 1 0 5 9 6 9 8 0 3 0 8 3 9 6 3 0\n",
              " [5149] 1 2 3 4 5 6 7 0 1 2 3 4 5 6 7 8 9 0 1 2 3 4 5 6 7 8 5 4 8 7 4 7 7 3 9 8\n",
              " [5185] 8 3 1 5 8 2 7 4 2 1 5 4 5 5 8 6 4 4 4 1 8 7 5 5 1 8 9 1 3 6 3 3 2 2 6 9\n",
              " [5221] 9 6 5 5 3 3 8 1 6 5 6 8 1 9 7 6 8 3 7 4 7 0 9 0 0 3 7 9 3 0 2 0 1 0 1 0\n",
              " [5257] 4 0 1 0 4 7 9 6 2 6 2 2 9 9 0 1 2 3 4 5 6 7 8 9 0 1 2 3 4 5 6 7 8 9 0 1\n",
              " [5293] 2 3 4 5 6 7 8 9 8 0 5 6 6 0 8 0 2 3 7 9 4 7 1 9 1 7 1 4 0 0 4 1 7 5 7 1\n",
              " [5329] 3 3 3 1 6 9 7 4 3 0 2 5 2 6 0 8 9 4 3 5 4 8 1 5 9 0 6 4 3 6 3 3 8 1 4 7\n",
              " [5365] 5 7 2 2 0 0 1 7 7 9 5 9 8 9 6 8 8 2 3 6 1 2 9 8 9 5 2 6 2 4 8 4 6 5 0 1\n",
              " [5401] 5 6 7 8 9 0 1 2 3 4 5 6 7 8 9 0 1 2 3 4 5 6 7 8 9 7 4 2 0 9 0 1 5 8 8 0\n",
              " [5437] 2 7 8 4 4 6 1 0 4 5 3 9 4 2 0 5 0 1 3 2 9 1 6 0 1 1 8 0 4 7 7 6 3 6 0 7\n",
              " [5473] 3 5 4 2 4 1 8 3 5 6 7 0 6 7 1 2 5 8 1 9 3 8 2 8 7 6 7 1 4 6 2 9 3 0 1 2\n",
              " [5509] 3 4 5 6 7 0 1 2 3 4 5 0 1 2 8 9 1 4 0 9 5 0 8 0 7 7 1 1 2 9 3 6 7 2 3 8\n",
              " [5545] 1 2 9 8 8 7 1 7 1 1 0 3 4 2 6 4 7 4 2 7 4 9 1 0 6 8 5 5 5 3 5 9 7 4 8 5\n",
              " [5581] 9 6 9 3 0 3 8 9 1 8 1 6 0 0 1 2 3 4 5 6 7 8 9 0 1 2 3 4 5 6 7 8 9 0 1 2\n",
              " [5617] 3 4 5 6 7 8 9 3 5 3 2 9 3 2 1 4 5 5 2 3 2 1 3 9 7 2 1 2 8 9 1 8 8 7 8 1\n",
              " [5653] 0 0 7 7 8 7 5 0 6 1 5 7 4 6 1 2 5 0 7 9 9 0 3 8 4 4 8 1 8 6 5 9 0 0 0 3\n",
              " [5689] 7 1 6 4 2 6 6 0 4 5 4 1 3 8 6 3 9 9 5 9 3 7 8 5 6 4 7 6 2 2 0 9 4 0 1 2\n",
              " [5725] 3 4 5 6 7 8 9 0 1 2 3 5 6 0 1 2 3 4 5 6 8 7 1 3 2 8 0 7 5 9 9 6 0 9 4 1\n",
              " [5761] 3 2 1 2 3 8 3 2 6 5 6 8 2 7 4 8 1 8 0 5 3 9 4 1 9 2 1 9 6 7 9 0 4 6 1 7\n",
              " [5797] 3 8 7 2 9 6 5 8 3 9 0 5 7 1 6 1 0 9 3 3 4 4 0 6 2 5 4 2 3 4 6 0 0 2 0 1\n",
              " [5833] 4 5 6 7 8 9 0 1 2 3 4 5 6 7 8 0 1 2 3 4 5 6 7 8 9 8 7 1 3 7 5 2 8 0 7 5\n",
              " [5869] 9 9 0 9 1 1 5 8 8 6 3 2 1 8 3 2 6 5 6 7 4 1 0 5 3 1 9 2 1 9 6 0 4 6 1 7\n",
              " [5905] 3 8 7 2 9 6 5 8 3 5 7 1 6 1 0 9 6 2 5 4 2 3 4 4 6 0 0 2 0 1 2 3 4 5 6 7\n",
              " [5941] 8 9 0 1 2 3 4 5 6 7 8 9 0 1 2 3 4 5 6 7 8 9 8 6 5 0 6 8 9 4 1 9 5 3 0 4\n",
              " [5977] 8 9 1 4 0 5 5 2 1 5 4 0 7 6 0 1 7 0 6 8 9 5 1 7 9 8 6 0 8 1 7 7 1 3 2 3\n",
              " [6013] 1 4 2 0 0 7 8 4 6 4 9 3 8 4 7 2 5 6 3 6 9 6 3 2 2 4 6 9 0 2 5 5 1 3 3 9\n",
              " [6049] 7 8 7 2 2 5 7 9 8 2 1 3 1 3 0 1 2 3 4 5 6 7 8 9 0 1 2 3 4 5 6 7 8 9 0 1\n",
              " [6085] 2 3 4 5 6 7 8 9 1 2 6 5 3 0 7 0 4 1 4 3 6 7 2 3 1 2 1 2 9 6 0 1 3 0 2 7\n",
              " [6121] 5 7 6 2 9 1 9 0 6 0 6 0 2 0 6 1 5 8 4 3 0 1 5 4 4 8 5 7 5 7 8 3 4 8 8 5\n",
              " [6157] 2 9 7 1 3 8 1 0 7 5 9 6 9 4 7 7 9 9 3 4 4 3 8 6 2 0 1 2 3 4 5 6 7 8 9 0\n",
              " [6193] 1 2 3 4 5 6 7 8 9 0 1 2 3 4 5 6 7 8 9 0 8 3 9 5 5 2 6 8 4 9 1 7 1 2 3 5\n",
              " [6229] 9 6 9 1 1 1 2 9 5 6 8 1 2 0 7 7 5 8 2 9 8 9 0 4 6 7 1 3 4 5 6 0 3 6 8 7\n",
              " [6265] 0 4 2 7 4 7 5 4 3 4 2 8 1 5 1 2 0 2 5 6 4 3 0 0 0 3 3 5 7 0 6 4 8 8 6 3\n",
              " [6301] 4 6 9 9 8 2 7 7 1 0 1 2 3 4 5 6 7 8 9 0 1 2 3 4 5 6 7 8 0 1 2 3 4 5 6 7\n",
              " [6337] 8 2 1 7 2 5 0 8 0 2 7 8 8 3 6 0 2 7 6 6 1 2 8 8 7 7 4 7 7 3 7 4 5 4 3 3\n",
              " [6373] 8 4 1 1 9 7 4 3 7 3 3 0 2 5 5 6 6 3 5 2 5 9 9 8 4 1 0 6 0 9 6 8 8 5 6 1\n",
              " [6409] 1 9 8 9 2 3 5 5 9 4 2 1 9 3 9 2 0 6 0 4 0 0 1 2 3 4 7 8 9 0 1 2 3 7 8 9\n",
              " [6445] 0 1 2 3 4 7 8 9 7 3 0 3 1 8 7 6 4 0 2 6 8 3 2 8 1 2 0 7 1 0 4 4 5 8 0 6\n",
              " [6481] 2 3 1 5 1 8 5 9 4 0 7 5 8 8 3 8 9 2 6 2 5 3 1 7 3 9 1 9 9 6 0 3 9 2 8 1\n",
              " [6517] 4 3 5 2 9 2 5 8 9 5 0 1 2 4 5 6 0 1 2 3 4 5 6 7 1 2 3 4 5 1 0 4 5 6 6 3\n",
              " [6553] 4 4 2 8 1 0 6 4 9 7 2 3 3 9 2 0 9 3 3 9 1 5 2 3 7 7 8 4 0 2 4 0 2 4 7 8\n",
              " [6589] 0 7 0 6 9 3 2 8 6 0 5 7 5 1 0 8 1 6 7 2 9 7 9 5 8 6 2 6 2 8 1 7 5 0 1 1\n",
              " [6625] 3 8 4 9 1 8 6 8 9 0 1 2 3 4 5 6 7 8 9 0 1 2 3 4 7 8 9 0 1 7 8 9 9 8 9 8\n",
              " [6661] 4 1 7 7 3 3 7 6 6 6 1 9 0 1 7 6 3 2 1 7 1 3 9 1 7 6 8 4 1 4 3 6 9 6 1 4\n",
              " [6697] 4 7 2 4 4 0 1 2 3 4 5 6 7 8 9 0 1 2 3 4 5 6 9 0 1 2 3 4 7 8 1 3 5 1 7 7\n",
              " [6733] 2 1 4 8 3 4 4 3 9 7 4 1 2 3 5 9 1 6 0 1 0 0 2 8 7 1 1 4 0 4 7 3 6 8 0 3\n",
              " [6769] 7 4 0 6 9 2 6 5 8 6 9 0 4 0 6 1 9 2 0 9 5 1 3 7 6 9 3 0 2 2 0 1 2 3 4 5\n",
              " [6805] 6 7 8 9 0 1 2 3 4 5 6 7 8 9 0 1 2 3 4 5 6 7 8 9 2 1 7 2 5 0 8 0 2 7 8 8\n",
              " [6841] 3 0 6 0 2 7 6 6 1 2 8 8 7 7 4 7 7 3 7 4 5 4 3 3 8 4 5 4 1 1 9 7 4 3 7 3\n",
              " [6877] 3 0 2 5 5 6 3 1 5 2 5 9 9 8 4 1 0 6 0 9 6 8 8 5 6 1 1 9 8 9 2 3 5 5 9 4\n",
              " [6913] 2 1 9 4 9 1 3 9 2 0 6 0 4 0 6 0 1 2 3 4 5 6 7 8 9 0 1 2 3 4 5 6 7 8 9 0\n",
              " [6949] 1 2 3 4 5 6 7 8 9 3 8 0 7 1 0 7 5 5 6 9 0 1 0 0 8 3 4 3 1 5 0 0 9 5 3 4\n",
              " [6985] 9 3 7 6 9 2 4 5 7 2 6 4 9 4 9 4 1 2 2 5 8 1 3 2 9 4 3 8 2 2 1 2 8 6 5 1\n",
              " [7021] 6 7 2 1 3 9 3 8 7 5 7 0 7 4 8 8 5 0 6 6 3 7 6 9 9 4 8 4 1 0 6 6 0 1 2 3\n",
              " [7057] 4 5 6 7 8 9 0 1 2 3 4 5 6 7 8 9 0 1 2 3 4 5 6 7 8 9 7 4 0 4 0 1 7 9 5 1\n",
              " [7093] 4 2 8 9 4 3 7 8 2 4 4 3 3 6 9 9 5 8 6 7 0 6 8 2 6 3 9 3 2 8 6 1 7 4 8 8\n",
              " [7129] 9 0 3 3 9 0 5 2 9 4 1 0 3 7 5 8 7 7 8 2 9 7 1 2 6 4 2 5 2 3 6 6 5 0 0 2\n",
              " [7165] 8 1 6 1 0 4 3 1 6 1 9 0 1 4 5 6 7 8 9 1 2 3 4 5 6 7 0 1 2 3 4 5 6 7 8 9\n",
              " [7201] 8 4 0 0 7 2 4 3 8 6 6 3 2 6 3 3 0 1 4 7 8 0 3 1 9 0 1 9 1 2 7 0 1 3 8 2\n",
              " [7237] 9 2 7 6 5 5 9 9 8 2 9 1 3 2 3 4 3 1 9 0 9 3 6 8 7 0 1 0 5 8 2 7 7 0 1 2\n",
              " [7273] 3 4 5 6 7 8 9 0 1 2 3 4 5 6 7 8 9 0 1 2 3 4 5 6 7 8 9 1 7 4 8 1 5 6 5 7\n",
              " [7309] 2 8 6 3 3 8 6 5 4 0 9 1 7 2 9 1 5 1 3 2 2 3 0 6 4 3 7 6 9 0 4 8 1 4 0 6\n",
              " [7345] 1 2 6 9 2 2 3 5 5 1 0 7 7 9 6 2 9 4 7 0 2 3 4 0 0 8 8 8 5 1 3 7 4 9 8 8\n",
              " [7381] 9 0 9 8 9 0 2 6 5 6 7 4 7 5 4 1 3 5 3 1 2 3 4 5 6 1 2 3 4 6 0 1 2 4 5 6\n",
              " [7417] 7 8 1 7 2 4 1 4 1 4 9 6 8 4 5 3 7 8 4 3 3 5 6 7 0 6 1 6 8 7 0 1 5 0 8 5\n",
              " [7453] 0 1 5 8 4 2 3 9 7 6 9 1 9 0 6 7 1 2 3 9 2 4 5 5 3 7 5 3 1 8 2 2 3 0 2 9\n",
              " [7489] 4 9 7 0 2 7 4 9 9 2 5 9 8 3 8 6 7 0 0 1 2 3 4 5 6 7 8 9 0 1 2 3 4 5 6 7\n",
              " [7525] 8 9 0 1 2 3 4 5 6 7 8 9 0 0 7 2 6 5 5 3 7 8 6 6 6 6 4 3 8 8 3 0 1 9 0 5\n",
              " [7561] 4 1 9 1 2 7 0 1 3 8 2 9 2 7 4 2 6 5 5 9 9 1 1 5 7 6 8 2 9 4 3 1 9 0 9 3\n",
              " [7597] 6 8 7 0 1 0 5 8 2 7 7 0 1 2 3 4 5 6 7 8 9 0 1 2 3 4 5 8 9 0 1 2 3 4 5 6\n",
              " [7633] 7 8 9 2 1 2 1 3 9 9 8 5 3 7 0 7 7 5 7 9 9 4 7 0 3 4 1 5 8 1 4 8 4 1 8 6\n",
              " [7669] 6 4 6 0 5 5 3 3 5 7 2 5 9 6 9 2 6 2 1 2 0 8 3 8 3 0 8 7 4 9 5 0 9 7 0 0\n",
              " [7705] 4 6 0 9 1 6 2 7 6 8 3 5 2 1 8 3 8 6 1 0 2 1 4 0 1 2 3 4 5 6 7 8 9 0 1 2\n",
              " [7741] 3 4 5 6 7 8 9 0 1 2 3 4 5 6 7 8 9 7 6 4 7 6 2 3 4 8 7 8 6 9 8 3 2 2 8 4\n",
              " [7777] 8 5 6 5 0 2 0 1 1 2 9 6 8 2 1 0 6 5 2 9 7 5 3 9 3 7 1 8 3 8 1 9 5 5 0 1\n",
              " [7813] 1 9 8 2 6 0 4 5 0 3 1 8 6 7 5 9 9 3 0 3 1 4 4 0 4 9 0 1 2 3 5 6 7 8 0 1\n",
              " [7849] 2 3 5 6 7 8 9 0 1 2 3 5 6 7 8 9 9 7 0 9 0 1 5 8 8 0 9 3 2 7 8 4 6 1 0 4\n",
              " [7885] 9 4 2 0 5 0 1 6 9 3 2 9 1 6 0 1 1 8 7 7 6 3 6 0 7 2 4 1 7 0 6 7 1 2 5 8\n",
              " [7921] 1 8 2 8 7 6 8 7 1 6 2 9 3 0 1 2 3 4 5 6 7 8 9 0 1 2 3 4 5 6 7 8 9 0 1 2\n",
              " [7957] 3 4 5 6 7 8 9 8 9 5 7 0 3 1 6 8 4 1 5 6 4 2 7 8 1 3 4 3 4 7 2 0 5 0 1 9\n",
              " [7993] 2 3 2 3 5 5 7 8 4 9 9 7 1 1 9 0 7 8 3 4 8 6 3 8 0 9 6 2 1 0 1 0 6 2 3 8\n",
              " [8029] 9 0 7 2 3 4 5 5 2 8 5 4 6 6 6 7 9 1 8 2 1 5 3 4 7 9 4 0 0 0 1 2 3 4 5 6\n",
              " [8065] 7 8 9 0 1 2 3 4 5 6 7 8 9 0 1 2 3 4 5 6 9 0 1 3 1 5 1 2 4 9 2 4 6 8 0 1\n",
              " [8101] 1 9 2 6 6 8 7 4 2 9 7 0 2 1 0 3 6 0 1 2 3 4 5 6 7 8 9 0 1 2 3 4 5 6 7 8\n",
              " [8137] 9 0 1 2 3 4 5 6 7 8 9 8 6 5 9 7 0 2 3 4 3 8 5 1 5 2 3 0 1 2 1 3 2 6 5 3\n",
              " [8173] 0 7 2 7 4 6 4 0 5 9 9 8 9 5 3 1 7 4 7 6 5 4 0 0 6 6 2 0 6 3 7 7 4 4 3 9\n",
              " [8209] 2 8 9 6 0 9 5 3 8 8 7 1 4 0 4 8 5 2 3 9 0 1 9 1 5 1 7 4 8 6 2 1 6 8 8 0\n",
              " [8245] 1 2 3 4 7 8 9 0 1 2 3 4 6 7 8 9 0 1 2 3 4 7 8 9 1 4 5 3 3 0 9 5 4 3 0 8\n",
              " [8281] 4 6 7 0 7 7 1 6 9 1 3 6 2 3 8 2 3 8 9 5 8 8 7 1 7 1 1 0 3 4 2 6 4 7 4 2\n",
              " [8317] 7 4 2 9 2 7 9 2 1 0 6 5 3 4 8 5 9 6 9 0 6 3 0 8 1 6 0 0 1 2 3 4 5 6 7 0\n",
              " [8353] 1 2 3 4 7 8 9 0 1 2 3 4 7 2 5 1 6 4 3 9 9 0 9 7 1 6 4 3 6 2 0 9 8 6 5 7\n",
              " [8389] 0 0 1 7 4 3 2 4 1 3 7 6 4 7 7 7 9 8 4 3 8 2 8 3 5 8 0 5 4 7 1 3 1 7 9 6\n",
              " [8425] 2 0 9 1 7 3 3 9 1 6 4 3 9 8 2 1 8 6 4 1 5 5 6 5 0 1 2 3 4 5 6 7 8 9 0 1\n",
              " [8461] 2 3 4 5 6 7 8 9 0 1 2 3 4 5 6 7 8 9 6 9 7 0 2 3 4 3 8 5 1 3 0 1 2 1 3 2\n",
              " [8497] 0 7 2 6 4 0 5 9 9 8 9 5 3 1 7 4 7 0 0 6 6 6 3 7 4 2 8 9 8 7 1 4 0 4 8 5\n",
              " [8533] 2 3 9 0 1 9 1 5 1 7 6 1 2 1 6 8 0 1 2 3 4 5 6 7 8 9 0 1 2 3 4 5 6 7 8 0\n",
              " [8569] 1 2 3 5 6 7 8 1 0 4 5 6 6 3 4 4 2 8 1 0 6 4 9 7 2 9 2 0 9 3 3 9 1 5 2 3\n",
              " [8605] 1 6 7 3 7 8 4 0 2 4 0 2 4 7 8 0 7 0 6 9 3 2 4 8 6 0 5 7 5 1 0 8 1 6 7 2\n",
              " [8641] 9 7 9 5 6 5 2 6 2 8 1 7 5 5 7 3 5 0 1 1 3 8 4 9 4 5 1 8 6 8 9 0 1 2 3 4\n",
              " [8677] 5 6 7 8 9 0 1 2 3 4 5 6 7 8 9 0 1 2 3 4 5 6 7 8 9 3 5 3 2 9 3 2 1 4 5 5\n",
              " [8713] 2 3 2 1 3 9 7 2 1 2 8 9 1 8 8 7 8 1 0 0 6 7 7 8 7 5 0 6 1 5 7 4 6 1 2 5\n",
              " [8749] 0 7 9 9 0 3 4 4 8 4 1 8 6 5 9 0 0 0 3 7 1 6 4 6 0 4 5 4 1 3 8 6 3 9 9 5\n",
              " [8785] 9 3 7 8 5 6 4 7 6 2 2 0 9 4 0 1 2 3 4 5 6 7 8 9 0 1 2 3 4 5 6 7 8 9 0 1\n",
              " [8821] 2 3 4 5 6 7 8 9 6 4 2 6 4 7 5 5 4 7 2 9 3 9 3 8 2 0 9 5 6 0 1 0 6 5 3 5\n",
              " [8857] 3 8 0 0 3 4 1 5 3 0 8 3 0 6 2 7 8 1 7 1 3 8 5 4 2 0 9 7 6 7 4 1 6 2 6 7\n",
              " [8893] 1 9 8 0 6 9 4 9 9 6 2 3 7 1 9 2 2 5 3 7 8 0 1 2 3 4 7 8 9 0 1 2 3 4 7 8\n",
              " [8929] 9 0 1 7 8 9 8 9 2 6 1 3 5 4 8 2 6 4 3 4 5 9 2 0 3 9 4 9 7 3 8 7 4 4 9 8\n",
              " [8965] 5 8 2 6 6 2 3 1 3 2 7 3 1 9 0 1 1 3 5 0 7 8 1 5 1 4 6 0 0 4 9 1 6 6 9 0\n",
              " [9001] 7 6 1 1 0 1 2 3 4 7 2 3 4 5 6 7 0 1 2 7 8 6 3 9 7 1 9 3 9 6 1 7 2 4 4 5\n",
              " [9037] 7 0 0 1 6 6 8 2 7 7 2 4 2 1 6 1 0 6 9 8 3 9 6 3 0 1 2 3 4 5 6 7 8 9 0 1\n",
              " [9073] 2 3 4 5 6 7 8 9 0 1 2 3 4 5 6 7 8 9 1 6 8 9 9 0 1 2 4 4 3 7 4 4 4 0 3 8\n",
              " [9109] 7 5 8 2 1 7 5 3 8 5 2 5 1 1 6 2 1 3 8 6 4 2 6 2 5 5 0 2 8 0 6 8 1 7 9 1\n",
              " [9145] 9 2 6 7 6 6 8 7 4 9 2 1 3 3 0 5 5 8 0 3 7 9 7 0 2 7 9 1 7 8 0 3 5 3 6 0\n",
              " [9181] 1 2 3 4 5 6 7 8 9 0 1 2 3 4 5 6 7 8 9 0 1 2 3 4 7 8 9 6 4 2 6 4 7 8 9 2\n",
              " [9217] 9 3 9 3 0 0 1 0 4 2 6 3 5 3 0 3 4 1 5 3 0 8 3 0 6 1 7 8 0 9 2 6 7 1 9 6\n",
              " [9253] 9 4 9 9 6 7 1 2 5 3 7 8 0 1 2 4 5 6 7 8 9 0 1 3 4 5 6 7 8 0 1 3 4 7 8 9\n",
              " [9289] 7 5 5 1 9 9 7 1 0 0 5 9 7 1 7 2 2 3 6 8 3 2 0 0 6 1 7 5 8 6 2 9 4 8 8 7\n",
              " [9325] 1 0 8 7 7 5 8 5 3 4 6 1 1 5 5 0 7 2 3 6 4 1 2 4 1 5 4 2 0 4 8 6 1 9 0 2\n",
              " [9361] 5 6 9 3 6 3 6 0 1 2 3 4 5 6 7 8 9 0 1 2 3 4 5 6 7 8 9 0 1 2 3 5 6 7 8 1\n",
              " [9397] 0 9 5 7 5 1 8 6 9 0 4 1 9 3 8 4 4 7 0 1 9 2 8 7 8 2 5 9 6 0 6 5 5 3 3 3\n",
              " [9433] 9 8 1 1 0 6 1 0 0 6 2 1 1 3 2 7 7 8 8 7 8 4 6 0 2 0 7 0 3 6 8 7 1 5 9 9\n",
              " [9469] 3 7 2 4 9 4 3 6 2 2 5 3 2 5 5 9 4 1 7 2 0 1 2 3 4 5 6 7 8 9 0 1 2 3 4 5\n",
              " [9505] 6 7 8 9 0 1 2 3 4 5 6 7 8 9 1 0 1 2 7 5 3 4 4 0 0 6 9 6 6 5 7 2 3 4 4 9\n",
              " [9541] 1 4 0 7 9 5 7 2 3 1 4 4 0 9 9 6 1 8 3 3 7 3 9 8 8 4 7 7 6 2 1 9 8 7 8 8\n",
              " [9577] 7 2 2 3 9 3 3 5 5 0 7 9 5 6 5 1 4 1 1 2 8 2 6 1 5 0 1 2 3 4 5 6 7 8 9 0\n",
              " [9613] 1 2 3 4 5 6 7 8 9 0 1 2 3 4 5 6 7 8 8 0 6 0 0 2 3 7 9 4 7 1 9 1 7 1 4 0\n",
              " [9649] 0 1 7 5 7 1 3 3 3 1 6 9 7 1 3 0 2 6 0 8 9 4 3 5 4 8 1 5 9 0 6 6 3 8 1 4\n",
              " [9685] 7 5 2 0 0 1 7 8 9 6 8 8 2 3 6 1 2 9 5 2 0 1 2 3 4 5 6 7 8 9 0 1 2 3 4 5\n",
              " [9721] 6 7 8 9 0 1 2 3 4 5 6 7 8 9 7 4 6 1 4 0 9 9 3 7 8 4 7 5 8 5 3 2 2 0 5 8\n",
              " [9757] 6 0 3 8 1 0 3 0 4 7 4 9 2 9 5 7 1 7 1 6 6 5 6 2 8 7 6 4 9 9 5 3 7 4 3 0\n",
              " [9793] 4 6 6 1 1 3 2 1 0 0 1 2 3 4 7 8 9 0 1 2 3 4 5 6 7 8 0 1 2 3 4 7 8 9 0 8\n",
              " [9829] 3 9 5 5 2 6 8 4 1 7 1 2 3 5 6 9 1 1 1 2 1 2 0 7 7 5 8 2 9 8 6 7 3 4 6 8\n",
              " [9865] 7 0 4 2 7 7 5 4 3 4 2 8 1 5 1 0 2 3 3 5 7 0 6 8 6 3 9 9 8 2 7 7 1 0 1 7\n",
              " [9901] 8 9 0 1 2 3 4 5 6 7 8 0 1 2 3 4 7 8 9 7 8 6 4 1 9 3 8 4 4 7 0 1 9 2 8 7\n",
              " [9937] 8 2 6 0 6 5 3 3 3 9 1 4 0 6 1 0 0 6 2 1 1 7 7 8 4 6 0 7 0 3 6 8 7 1 5 2\n",
              " [9973] 4 9 4 3 6 4 1 7 2 6 5 0 1 2 3 4 5 6 7 8 9 0 1 2 3 4 5 6"
            ]
          },
          "metadata": {}
        }
      ]
    },
    {
      "cell_type": "code",
      "source": [
        "i <- 5\n",
        "model %>% predict(x_test[1:i, ]) %>% k_argmax()"
      ],
      "metadata": {
        "id": "d9aV9bMQwcGa",
        "colab": {
          "base_uri": "https://localhost:8080/",
          "height": 34
        },
        "outputId": "65438c40-ff9f-4e6c-d53e-2ab816b2c394"
      },
      "execution_count": null,
      "outputs": [
        {
          "output_type": "display_data",
          "data": {
            "text/plain": [
              "tf.Tensor([7 2 1 0 4], shape=(5), dtype=int64)"
            ]
          },
          "metadata": {}
        }
      ]
    },
    {
      "cell_type": "code",
      "source": [
        "y_true[1:i]"
      ],
      "metadata": {
        "colab": {
          "base_uri": "https://localhost:8080/",
          "height": 34
        },
        "id": "OTe_Bhv45_Es",
        "outputId": "3b9f74aa-bd56-4104-ff96-90bf3e999658"
      },
      "execution_count": null,
      "outputs": [
        {
          "output_type": "display_data",
          "data": {
            "text/html": [
              "<style>\n",
              ".list-inline {list-style: none; margin:0; padding: 0}\n",
              ".list-inline>li {display: inline-block}\n",
              ".list-inline>li:not(:last-child)::after {content: \"\\00b7\"; padding: 0 .5ex}\n",
              "</style>\n",
              "<ol class=list-inline><li>7</li><li>2</li><li>1</li><li>0</li><li>4</li></ol>\n"
            ],
            "text/markdown": "1. 7\n2. 2\n3. 1\n4. 0\n5. 4\n\n\n",
            "text/latex": "\\begin{enumerate*}\n\\item 7\n\\item 2\n\\item 1\n\\item 0\n\\item 4\n\\end{enumerate*}\n",
            "text/plain": [
              "[1] 7 2 1 0 4"
            ]
          },
          "metadata": {}
        }
      ]
    },
    {
      "cell_type": "markdown",
      "source": [
        "## **Referencias**\n",
        "\n",
        "Aggarwal, C. C. (2018). Neural Networks and Deep Learning. Neural Networks and Deep Learning. https://doi.org/10.1007/978-3-319-94463-0\n",
        "\n",
        "Chollet, F., & Allaire, J. J. (2016). Deep Learning in R. In R-bloggers (Vol. 1, Issue 7080). https://www.r-bloggers.com/deep-learning-in-r-2/\n",
        "\n",
        "Ghatak, A. (2019). Deep learning with R. Deep Learning with R, 1–245. https://doi.org/10.1007/978-981-13-5850-0/COVER\n",
        "\n",
        "Van Veen, F. (2016). The Neural Network Zoo. https://www.asimovinstitute.org/neural-network-zoo/\n",
        "\n",
        "\n",
        "\n",
        "**Otras Referencias**\n",
        "\n",
        "Guía básica de Keras: https://tensorflow.rstudio.com/guides/keras/basics\n",
        "\n",
        "Ejemplo de MNIST: https://rpubs.com/fhernanb/keras_mnist\n",
        "\n",
        "Fundamentos de Deep Learning: https://rramosp.github.io/2021.deeplearning/intro.html\n"
      ],
      "metadata": {
        "id": "WPqAZI27wca5"
      }
    }
  ],
  "metadata": {
    "colab": {
      "provenance": []
    },
    "kernelspec": {
      "display_name": "R",
      "name": "ir"
    },
    "language_info": {
      "name": "R"
    }
  },
  "nbformat": 4,
  "nbformat_minor": 0
}